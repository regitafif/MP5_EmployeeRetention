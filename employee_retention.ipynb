{
 "cells": [
  {
   "cell_type": "markdown",
   "id": "7fe65b22-20f0-443f-9874-4258605725aa",
   "metadata": {},
   "source": [
    "#### Mini Project 5"
   ]
  },
  {
   "cell_type": "markdown",
   "id": "e65933ad-95a8-48b1-9e0c-466109f2c1fa",
   "metadata": {},
   "source": [
    "# Improving Employee Retention by Predicting Employee Attrition Using Machine Learning"
   ]
  },
  {
   "cell_type": "code",
   "execution_count": 1,
   "id": "bb9b9bd6-19c3-46cc-b288-bc4a583a6ff3",
   "metadata": {
    "tags": []
   },
   "outputs": [],
   "source": [
    "import numpy as np\n",
    "import pandas as pd\n",
    "import matplotlib.pyplot as plt\n",
    "import seaborn as sns\n",
    "%matplotlib inline\n",
    "\n",
    "import warnings\n",
    "warnings.filterwarnings('ignore')"
   ]
  },
  {
   "cell_type": "markdown",
   "id": "17a6646b-fc2f-484c-a2f0-76c08a74e2fe",
   "metadata": {},
   "source": [
    "### Load Data"
   ]
  },
  {
   "cell_type": "code",
   "execution_count": 2,
   "id": "2bbf6e0e-9be3-45a3-9eaa-18a8fba3225c",
   "metadata": {
    "tags": []
   },
   "outputs": [
    {
     "data": {
      "text/html": [
       "<div>\n",
       "<style scoped>\n",
       "    .dataframe tbody tr th:only-of-type {\n",
       "        vertical-align: middle;\n",
       "    }\n",
       "\n",
       "    .dataframe tbody tr th {\n",
       "        vertical-align: top;\n",
       "    }\n",
       "\n",
       "    .dataframe thead th {\n",
       "        text-align: right;\n",
       "    }\n",
       "</style>\n",
       "<table border=\"1\" class=\"dataframe\">\n",
       "  <thead>\n",
       "    <tr style=\"text-align: right;\">\n",
       "      <th></th>\n",
       "      <th>Username</th>\n",
       "      <th>EnterpriseID</th>\n",
       "      <th>StatusPernikahan</th>\n",
       "      <th>JenisKelamin</th>\n",
       "      <th>StatusKepegawaian</th>\n",
       "      <th>Pekerjaan</th>\n",
       "      <th>JenjangKarir</th>\n",
       "      <th>PerformancePegawai</th>\n",
       "      <th>AsalDaerah</th>\n",
       "      <th>HiringPlatform</th>\n",
       "      <th>...</th>\n",
       "      <th>NomorHP</th>\n",
       "      <th>Email</th>\n",
       "      <th>TingkatPendidikan</th>\n",
       "      <th>PernahBekerja</th>\n",
       "      <th>IkutProgramLOP</th>\n",
       "      <th>AlasanResign</th>\n",
       "      <th>TanggalLahir</th>\n",
       "      <th>TanggalHiring</th>\n",
       "      <th>TanggalPenilaianKaryawan</th>\n",
       "      <th>TanggalResign</th>\n",
       "    </tr>\n",
       "  </thead>\n",
       "  <tbody>\n",
       "    <tr>\n",
       "      <th>0</th>\n",
       "      <td>spiritedPorpoise3</td>\n",
       "      <td>111065</td>\n",
       "      <td>Belum_menikah</td>\n",
       "      <td>Pria</td>\n",
       "      <td>Outsource</td>\n",
       "      <td>Software Engineer (Back End)</td>\n",
       "      <td>Freshgraduate_program</td>\n",
       "      <td>Sangat_bagus</td>\n",
       "      <td>Jakarta Timur</td>\n",
       "      <td>Employee_Referral</td>\n",
       "      <td>...</td>\n",
       "      <td>+6282232522xxx</td>\n",
       "      <td>spiritedPorpoise3135@yahoo.com</td>\n",
       "      <td>Magister</td>\n",
       "      <td>1</td>\n",
       "      <td>1.0</td>\n",
       "      <td>masih_bekerja</td>\n",
       "      <td>1972-07-01</td>\n",
       "      <td>2011-01-10</td>\n",
       "      <td>2016-2-15</td>\n",
       "      <td>-</td>\n",
       "    </tr>\n",
       "    <tr>\n",
       "      <th>1</th>\n",
       "      <td>jealousGelding2</td>\n",
       "      <td>106080</td>\n",
       "      <td>Belum_menikah</td>\n",
       "      <td>Pria</td>\n",
       "      <td>FullTime</td>\n",
       "      <td>Data Analyst</td>\n",
       "      <td>Freshgraduate_program</td>\n",
       "      <td>Sangat_kurang</td>\n",
       "      <td>Jakarta Utara</td>\n",
       "      <td>Website</td>\n",
       "      <td>...</td>\n",
       "      <td>+6281270745xxx</td>\n",
       "      <td>jealousGelding2239@yahoo.com</td>\n",
       "      <td>Sarjana</td>\n",
       "      <td>1</td>\n",
       "      <td>1.0</td>\n",
       "      <td>toxic_culture</td>\n",
       "      <td>1984-04-26</td>\n",
       "      <td>2014-01-06</td>\n",
       "      <td>2020-1-17</td>\n",
       "      <td>2018-6-16</td>\n",
       "    </tr>\n",
       "    <tr>\n",
       "      <th>2</th>\n",
       "      <td>pluckyMuesli3</td>\n",
       "      <td>106452</td>\n",
       "      <td>Menikah</td>\n",
       "      <td>Pria</td>\n",
       "      <td>FullTime</td>\n",
       "      <td>Software Engineer (Front End)</td>\n",
       "      <td>Freshgraduate_program</td>\n",
       "      <td>Bagus</td>\n",
       "      <td>Jakarta Timur</td>\n",
       "      <td>Indeed</td>\n",
       "      <td>...</td>\n",
       "      <td>+6281346215xxx</td>\n",
       "      <td>pluckyMuesli3961@icloud.com</td>\n",
       "      <td>Magister</td>\n",
       "      <td>1</td>\n",
       "      <td>1.0</td>\n",
       "      <td>jam_kerja</td>\n",
       "      <td>1974-01-07</td>\n",
       "      <td>2011-01-10</td>\n",
       "      <td>2016-01-10</td>\n",
       "      <td>2014-9-24</td>\n",
       "    </tr>\n",
       "    <tr>\n",
       "      <th>3</th>\n",
       "      <td>stressedTruffle1</td>\n",
       "      <td>106325</td>\n",
       "      <td>Belum_menikah</td>\n",
       "      <td>Pria</td>\n",
       "      <td>Outsource</td>\n",
       "      <td>Software Engineer (Front End)</td>\n",
       "      <td>Freshgraduate_program</td>\n",
       "      <td>Bagus</td>\n",
       "      <td>Jakarta Pusat</td>\n",
       "      <td>LinkedIn</td>\n",
       "      <td>...</td>\n",
       "      <td>+6283233846xxx</td>\n",
       "      <td>stressedTruffle1406@hotmail.com</td>\n",
       "      <td>Sarjana</td>\n",
       "      <td>1</td>\n",
       "      <td>0.0</td>\n",
       "      <td>masih_bekerja</td>\n",
       "      <td>1979-11-24</td>\n",
       "      <td>2014-2-17</td>\n",
       "      <td>2020-02-04</td>\n",
       "      <td>-</td>\n",
       "    </tr>\n",
       "    <tr>\n",
       "      <th>4</th>\n",
       "      <td>shyTermite7</td>\n",
       "      <td>111171</td>\n",
       "      <td>Belum_menikah</td>\n",
       "      <td>Wanita</td>\n",
       "      <td>FullTime</td>\n",
       "      <td>Product Manager</td>\n",
       "      <td>Freshgraduate_program</td>\n",
       "      <td>Bagus</td>\n",
       "      <td>Jakarta Timur</td>\n",
       "      <td>LinkedIn</td>\n",
       "      <td>...</td>\n",
       "      <td>+6287883263xxx</td>\n",
       "      <td>shyTermite7149@gmail.com</td>\n",
       "      <td>Sarjana</td>\n",
       "      <td>1</td>\n",
       "      <td>0.0</td>\n",
       "      <td>ganti_karir</td>\n",
       "      <td>1974-11-07</td>\n",
       "      <td>2013-11-11</td>\n",
       "      <td>2020-1-22</td>\n",
       "      <td>2018-09-06</td>\n",
       "    </tr>\n",
       "  </tbody>\n",
       "</table>\n",
       "<p>5 rows × 25 columns</p>\n",
       "</div>"
      ],
      "text/plain": [
       "            Username  EnterpriseID StatusPernikahan JenisKelamin  \\\n",
       "0  spiritedPorpoise3        111065    Belum_menikah         Pria   \n",
       "1    jealousGelding2        106080    Belum_menikah         Pria   \n",
       "2      pluckyMuesli3        106452          Menikah         Pria   \n",
       "3   stressedTruffle1        106325    Belum_menikah         Pria   \n",
       "4        shyTermite7        111171    Belum_menikah       Wanita   \n",
       "\n",
       "  StatusKepegawaian                      Pekerjaan           JenjangKarir  \\\n",
       "0         Outsource   Software Engineer (Back End)  Freshgraduate_program   \n",
       "1          FullTime                   Data Analyst  Freshgraduate_program   \n",
       "2          FullTime  Software Engineer (Front End)  Freshgraduate_program   \n",
       "3         Outsource  Software Engineer (Front End)  Freshgraduate_program   \n",
       "4          FullTime                Product Manager  Freshgraduate_program   \n",
       "\n",
       "  PerformancePegawai     AsalDaerah     HiringPlatform  ...         NomorHP  \\\n",
       "0       Sangat_bagus  Jakarta Timur  Employee_Referral  ...  +6282232522xxx   \n",
       "1      Sangat_kurang  Jakarta Utara            Website  ...  +6281270745xxx   \n",
       "2              Bagus  Jakarta Timur             Indeed  ...  +6281346215xxx   \n",
       "3              Bagus  Jakarta Pusat           LinkedIn  ...  +6283233846xxx   \n",
       "4              Bagus  Jakarta Timur           LinkedIn  ...  +6287883263xxx   \n",
       "\n",
       "                             Email  TingkatPendidikan  PernahBekerja  \\\n",
       "0   spiritedPorpoise3135@yahoo.com           Magister              1   \n",
       "1     jealousGelding2239@yahoo.com            Sarjana              1   \n",
       "2      pluckyMuesli3961@icloud.com           Magister              1   \n",
       "3  stressedTruffle1406@hotmail.com            Sarjana              1   \n",
       "4         shyTermite7149@gmail.com            Sarjana              1   \n",
       "\n",
       "   IkutProgramLOP   AlasanResign TanggalLahir TanggalHiring  \\\n",
       "0             1.0  masih_bekerja   1972-07-01    2011-01-10   \n",
       "1             1.0  toxic_culture   1984-04-26    2014-01-06   \n",
       "2             1.0      jam_kerja   1974-01-07    2011-01-10   \n",
       "3             0.0  masih_bekerja   1979-11-24     2014-2-17   \n",
       "4             0.0    ganti_karir   1974-11-07    2013-11-11   \n",
       "\n",
       "  TanggalPenilaianKaryawan  TanggalResign  \n",
       "0                2016-2-15              -  \n",
       "1                2020-1-17      2018-6-16  \n",
       "2               2016-01-10      2014-9-24  \n",
       "3               2020-02-04              -  \n",
       "4                2020-1-22     2018-09-06  \n",
       "\n",
       "[5 rows x 25 columns]"
      ]
     },
     "execution_count": 2,
     "metadata": {},
     "output_type": "execute_result"
    }
   ],
   "source": [
    "df = pd.read_csv('employee_data.csv')\n",
    "df.head()"
   ]
  },
  {
   "cell_type": "code",
   "execution_count": 3,
   "id": "3fbd0f78-56b0-4b17-89ef-3e43d16db3f2",
   "metadata": {
    "tags": []
   },
   "outputs": [
    {
     "name": "stdout",
     "output_type": "stream",
     "text": [
      "<class 'pandas.core.frame.DataFrame'>\n",
      "RangeIndex: 287 entries, 0 to 286\n",
      "Data columns (total 25 columns):\n",
      " #   Column                              Non-Null Count  Dtype  \n",
      "---  ------                              --------------  -----  \n",
      " 0   Username                            287 non-null    object \n",
      " 1   EnterpriseID                        287 non-null    int64  \n",
      " 2   StatusPernikahan                    287 non-null    object \n",
      " 3   JenisKelamin                        287 non-null    object \n",
      " 4   StatusKepegawaian                   287 non-null    object \n",
      " 5   Pekerjaan                           287 non-null    object \n",
      " 6   JenjangKarir                        287 non-null    object \n",
      " 7   PerformancePegawai                  287 non-null    object \n",
      " 8   AsalDaerah                          287 non-null    object \n",
      " 9   HiringPlatform                      287 non-null    object \n",
      " 10  SkorSurveyEngagement                287 non-null    int64  \n",
      " 11  SkorKepuasanPegawai                 282 non-null    float64\n",
      " 12  JumlahKeikutsertaanProjek           284 non-null    float64\n",
      " 13  JumlahKeterlambatanSebulanTerakhir  286 non-null    float64\n",
      " 14  JumlahKetidakhadiran                281 non-null    float64\n",
      " 15  NomorHP                             287 non-null    object \n",
      " 16  Email                               287 non-null    object \n",
      " 17  TingkatPendidikan                   287 non-null    object \n",
      " 18  PernahBekerja                       287 non-null    object \n",
      " 19  IkutProgramLOP                      29 non-null     float64\n",
      " 20  AlasanResign                        221 non-null    object \n",
      " 21  TanggalLahir                        287 non-null    object \n",
      " 22  TanggalHiring                       287 non-null    object \n",
      " 23  TanggalPenilaianKaryawan            287 non-null    object \n",
      " 24  TanggalResign                       287 non-null    object \n",
      "dtypes: float64(5), int64(2), object(18)\n",
      "memory usage: 56.2+ KB\n"
     ]
    }
   ],
   "source": [
    "df.info()"
   ]
  },
  {
   "cell_type": "markdown",
   "id": "e738f3fe-5b0c-47ba-b1e8-0e6704e207d1",
   "metadata": {},
   "source": [
    "### Descriptive Statistics"
   ]
  },
  {
   "cell_type": "code",
   "execution_count": 4,
   "id": "35ecc5bd-5699-4d84-bf90-27e4705c707f",
   "metadata": {
    "tags": []
   },
   "outputs": [],
   "source": [
    "nums = df.select_dtypes(include=['int64', 'float64']).columns\n",
    "cats = df.select_dtypes(include=['object']).columns"
   ]
  },
  {
   "cell_type": "code",
   "execution_count": 5,
   "id": "385497a5-b11e-4b27-a4ec-e0623670d4c1",
   "metadata": {
    "tags": []
   },
   "outputs": [
    {
     "data": {
      "text/html": [
       "<div>\n",
       "<style scoped>\n",
       "    .dataframe tbody tr th:only-of-type {\n",
       "        vertical-align: middle;\n",
       "    }\n",
       "\n",
       "    .dataframe tbody tr th {\n",
       "        vertical-align: top;\n",
       "    }\n",
       "\n",
       "    .dataframe thead th {\n",
       "        text-align: right;\n",
       "    }\n",
       "</style>\n",
       "<table border=\"1\" class=\"dataframe\">\n",
       "  <thead>\n",
       "    <tr style=\"text-align: right;\">\n",
       "      <th></th>\n",
       "      <th>EnterpriseID</th>\n",
       "      <th>SkorSurveyEngagement</th>\n",
       "      <th>SkorKepuasanPegawai</th>\n",
       "      <th>JumlahKeikutsertaanProjek</th>\n",
       "      <th>JumlahKeterlambatanSebulanTerakhir</th>\n",
       "      <th>JumlahKetidakhadiran</th>\n",
       "      <th>IkutProgramLOP</th>\n",
       "    </tr>\n",
       "  </thead>\n",
       "  <tbody>\n",
       "    <tr>\n",
       "      <th>count</th>\n",
       "      <td>287.000000</td>\n",
       "      <td>287.000000</td>\n",
       "      <td>282.000000</td>\n",
       "      <td>284.000000</td>\n",
       "      <td>286.000000</td>\n",
       "      <td>281.000000</td>\n",
       "      <td>29.000000</td>\n",
       "    </tr>\n",
       "    <tr>\n",
       "      <th>mean</th>\n",
       "      <td>105923.324042</td>\n",
       "      <td>3.101045</td>\n",
       "      <td>3.904255</td>\n",
       "      <td>1.179577</td>\n",
       "      <td>0.412587</td>\n",
       "      <td>10.448399</td>\n",
       "      <td>0.517241</td>\n",
       "    </tr>\n",
       "    <tr>\n",
       "      <th>std</th>\n",
       "      <td>4044.977599</td>\n",
       "      <td>0.836388</td>\n",
       "      <td>0.913355</td>\n",
       "      <td>2.294441</td>\n",
       "      <td>1.275016</td>\n",
       "      <td>6.902252</td>\n",
       "      <td>0.508548</td>\n",
       "    </tr>\n",
       "    <tr>\n",
       "      <th>min</th>\n",
       "      <td>100282.000000</td>\n",
       "      <td>1.000000</td>\n",
       "      <td>1.000000</td>\n",
       "      <td>0.000000</td>\n",
       "      <td>0.000000</td>\n",
       "      <td>1.000000</td>\n",
       "      <td>0.000000</td>\n",
       "    </tr>\n",
       "    <tr>\n",
       "      <th>25%</th>\n",
       "      <td>101269.000000</td>\n",
       "      <td>3.000000</td>\n",
       "      <td>3.000000</td>\n",
       "      <td>0.000000</td>\n",
       "      <td>0.000000</td>\n",
       "      <td>5.000000</td>\n",
       "      <td>0.000000</td>\n",
       "    </tr>\n",
       "    <tr>\n",
       "      <th>50%</th>\n",
       "      <td>106069.000000</td>\n",
       "      <td>3.000000</td>\n",
       "      <td>4.000000</td>\n",
       "      <td>0.000000</td>\n",
       "      <td>0.000000</td>\n",
       "      <td>10.000000</td>\n",
       "      <td>1.000000</td>\n",
       "    </tr>\n",
       "    <tr>\n",
       "      <th>75%</th>\n",
       "      <td>110514.500000</td>\n",
       "      <td>4.000000</td>\n",
       "      <td>5.000000</td>\n",
       "      <td>0.000000</td>\n",
       "      <td>0.000000</td>\n",
       "      <td>15.000000</td>\n",
       "      <td>1.000000</td>\n",
       "    </tr>\n",
       "    <tr>\n",
       "      <th>max</th>\n",
       "      <td>111703.000000</td>\n",
       "      <td>5.000000</td>\n",
       "      <td>5.000000</td>\n",
       "      <td>8.000000</td>\n",
       "      <td>6.000000</td>\n",
       "      <td>55.000000</td>\n",
       "      <td>1.000000</td>\n",
       "    </tr>\n",
       "  </tbody>\n",
       "</table>\n",
       "</div>"
      ],
      "text/plain": [
       "        EnterpriseID  SkorSurveyEngagement  SkorKepuasanPegawai  \\\n",
       "count     287.000000            287.000000           282.000000   \n",
       "mean   105923.324042              3.101045             3.904255   \n",
       "std      4044.977599              0.836388             0.913355   \n",
       "min    100282.000000              1.000000             1.000000   \n",
       "25%    101269.000000              3.000000             3.000000   \n",
       "50%    106069.000000              3.000000             4.000000   \n",
       "75%    110514.500000              4.000000             5.000000   \n",
       "max    111703.000000              5.000000             5.000000   \n",
       "\n",
       "       JumlahKeikutsertaanProjek  JumlahKeterlambatanSebulanTerakhir  \\\n",
       "count                 284.000000                          286.000000   \n",
       "mean                    1.179577                            0.412587   \n",
       "std                     2.294441                            1.275016   \n",
       "min                     0.000000                            0.000000   \n",
       "25%                     0.000000                            0.000000   \n",
       "50%                     0.000000                            0.000000   \n",
       "75%                     0.000000                            0.000000   \n",
       "max                     8.000000                            6.000000   \n",
       "\n",
       "       JumlahKetidakhadiran  IkutProgramLOP  \n",
       "count            281.000000       29.000000  \n",
       "mean              10.448399        0.517241  \n",
       "std                6.902252        0.508548  \n",
       "min                1.000000        0.000000  \n",
       "25%                5.000000        0.000000  \n",
       "50%               10.000000        1.000000  \n",
       "75%               15.000000        1.000000  \n",
       "max               55.000000        1.000000  "
      ]
     },
     "execution_count": 5,
     "metadata": {},
     "output_type": "execute_result"
    }
   ],
   "source": [
    "df[nums].describe()"
   ]
  },
  {
   "cell_type": "code",
   "execution_count": 6,
   "id": "6c21d021-3655-4eab-a5f8-3d5634963dd7",
   "metadata": {
    "tags": []
   },
   "outputs": [
    {
     "data": {
      "text/html": [
       "<div>\n",
       "<style scoped>\n",
       "    .dataframe tbody tr th:only-of-type {\n",
       "        vertical-align: middle;\n",
       "    }\n",
       "\n",
       "    .dataframe tbody tr th {\n",
       "        vertical-align: top;\n",
       "    }\n",
       "\n",
       "    .dataframe thead th {\n",
       "        text-align: right;\n",
       "    }\n",
       "</style>\n",
       "<table border=\"1\" class=\"dataframe\">\n",
       "  <thead>\n",
       "    <tr style=\"text-align: right;\">\n",
       "      <th></th>\n",
       "      <th>Username</th>\n",
       "      <th>StatusPernikahan</th>\n",
       "      <th>JenisKelamin</th>\n",
       "      <th>StatusKepegawaian</th>\n",
       "      <th>Pekerjaan</th>\n",
       "      <th>JenjangKarir</th>\n",
       "      <th>PerformancePegawai</th>\n",
       "      <th>AsalDaerah</th>\n",
       "      <th>HiringPlatform</th>\n",
       "      <th>NomorHP</th>\n",
       "      <th>Email</th>\n",
       "      <th>TingkatPendidikan</th>\n",
       "      <th>PernahBekerja</th>\n",
       "      <th>AlasanResign</th>\n",
       "      <th>TanggalLahir</th>\n",
       "      <th>TanggalHiring</th>\n",
       "      <th>TanggalPenilaianKaryawan</th>\n",
       "      <th>TanggalResign</th>\n",
       "    </tr>\n",
       "  </thead>\n",
       "  <tbody>\n",
       "    <tr>\n",
       "      <th>count</th>\n",
       "      <td>287</td>\n",
       "      <td>287</td>\n",
       "      <td>287</td>\n",
       "      <td>287</td>\n",
       "      <td>287</td>\n",
       "      <td>287</td>\n",
       "      <td>287</td>\n",
       "      <td>287</td>\n",
       "      <td>287</td>\n",
       "      <td>287</td>\n",
       "      <td>287</td>\n",
       "      <td>287</td>\n",
       "      <td>287</td>\n",
       "      <td>221</td>\n",
       "      <td>287</td>\n",
       "      <td>287</td>\n",
       "      <td>287</td>\n",
       "      <td>287</td>\n",
       "    </tr>\n",
       "    <tr>\n",
       "      <th>unique</th>\n",
       "      <td>285</td>\n",
       "      <td>5</td>\n",
       "      <td>2</td>\n",
       "      <td>3</td>\n",
       "      <td>14</td>\n",
       "      <td>3</td>\n",
       "      <td>5</td>\n",
       "      <td>5</td>\n",
       "      <td>9</td>\n",
       "      <td>287</td>\n",
       "      <td>287</td>\n",
       "      <td>3</td>\n",
       "      <td>2</td>\n",
       "      <td>11</td>\n",
       "      <td>284</td>\n",
       "      <td>97</td>\n",
       "      <td>127</td>\n",
       "      <td>53</td>\n",
       "    </tr>\n",
       "    <tr>\n",
       "      <th>top</th>\n",
       "      <td>boredEggs0</td>\n",
       "      <td>Belum_menikah</td>\n",
       "      <td>Wanita</td>\n",
       "      <td>FullTime</td>\n",
       "      <td>Software Engineer (Back End)</td>\n",
       "      <td>Freshgraduate_program</td>\n",
       "      <td>Biasa</td>\n",
       "      <td>Jakarta Pusat</td>\n",
       "      <td>Indeed</td>\n",
       "      <td>+6282232522xxx</td>\n",
       "      <td>spiritedPorpoise3135@yahoo.com</td>\n",
       "      <td>Sarjana</td>\n",
       "      <td>1</td>\n",
       "      <td>masih_bekerja</td>\n",
       "      <td>1987-06-14</td>\n",
       "      <td>2011-01-10</td>\n",
       "      <td>2020-1-14</td>\n",
       "      <td>-</td>\n",
       "    </tr>\n",
       "    <tr>\n",
       "      <th>freq</th>\n",
       "      <td>2</td>\n",
       "      <td>132</td>\n",
       "      <td>167</td>\n",
       "      <td>217</td>\n",
       "      <td>109</td>\n",
       "      <td>169</td>\n",
       "      <td>85</td>\n",
       "      <td>72</td>\n",
       "      <td>85</td>\n",
       "      <td>1</td>\n",
       "      <td>1</td>\n",
       "      <td>176</td>\n",
       "      <td>286</td>\n",
       "      <td>132</td>\n",
       "      <td>2</td>\n",
       "      <td>12</td>\n",
       "      <td>17</td>\n",
       "      <td>198</td>\n",
       "    </tr>\n",
       "  </tbody>\n",
       "</table>\n",
       "</div>"
      ],
      "text/plain": [
       "          Username StatusPernikahan JenisKelamin StatusKepegawaian  \\\n",
       "count          287              287          287               287   \n",
       "unique         285                5            2                 3   \n",
       "top     boredEggs0    Belum_menikah       Wanita          FullTime   \n",
       "freq             2              132          167               217   \n",
       "\n",
       "                           Pekerjaan           JenjangKarir  \\\n",
       "count                            287                    287   \n",
       "unique                            14                      3   \n",
       "top     Software Engineer (Back End)  Freshgraduate_program   \n",
       "freq                             109                    169   \n",
       "\n",
       "       PerformancePegawai     AsalDaerah HiringPlatform         NomorHP  \\\n",
       "count                 287            287            287             287   \n",
       "unique                  5              5              9             287   \n",
       "top                 Biasa  Jakarta Pusat         Indeed  +6282232522xxx   \n",
       "freq                   85             72             85               1   \n",
       "\n",
       "                                 Email TingkatPendidikan PernahBekerja  \\\n",
       "count                              287               287           287   \n",
       "unique                             287                 3             2   \n",
       "top     spiritedPorpoise3135@yahoo.com           Sarjana             1   \n",
       "freq                                 1               176           286   \n",
       "\n",
       "         AlasanResign TanggalLahir TanggalHiring TanggalPenilaianKaryawan  \\\n",
       "count             221          287           287                      287   \n",
       "unique             11          284            97                      127   \n",
       "top     masih_bekerja   1987-06-14    2011-01-10                2020-1-14   \n",
       "freq              132            2            12                       17   \n",
       "\n",
       "       TanggalResign  \n",
       "count            287  \n",
       "unique            53  \n",
       "top                -  \n",
       "freq             198  "
      ]
     },
     "execution_count": 6,
     "metadata": {},
     "output_type": "execute_result"
    }
   ],
   "source": [
    "df[cats].describe()"
   ]
  },
  {
   "cell_type": "markdown",
   "id": "d02bd840-d3c3-46b8-92b4-136299e53f52",
   "metadata": {},
   "source": [
    "# **Data Pre-processing**"
   ]
  },
  {
   "cell_type": "markdown",
   "id": "cfc76cc1-cf5f-4a73-a0ba-a7bd4062fb8a",
   "metadata": {},
   "source": [
    "### Missing Value\n",
    "---"
   ]
  },
  {
   "cell_type": "code",
   "execution_count": 7,
   "id": "4982fca7-e617-48b1-be81-54ea8c0f60b3",
   "metadata": {
    "tags": []
   },
   "outputs": [],
   "source": [
    "df1 = df.copy()"
   ]
  },
  {
   "cell_type": "code",
   "execution_count": 8,
   "id": "e1e380b1-31a8-4d4f-bb50-a7c67019ab54",
   "metadata": {
    "tags": []
   },
   "outputs": [
    {
     "data": {
      "text/plain": [
       "Username                                0\n",
       "EnterpriseID                            0\n",
       "StatusPernikahan                        0\n",
       "JenisKelamin                            0\n",
       "StatusKepegawaian                       0\n",
       "Pekerjaan                               0\n",
       "JenjangKarir                            0\n",
       "PerformancePegawai                      0\n",
       "AsalDaerah                              0\n",
       "HiringPlatform                          0\n",
       "SkorSurveyEngagement                    0\n",
       "SkorKepuasanPegawai                     5\n",
       "JumlahKeikutsertaanProjek               3\n",
       "JumlahKeterlambatanSebulanTerakhir      1\n",
       "JumlahKetidakhadiran                    6\n",
       "NomorHP                                 0\n",
       "Email                                   0\n",
       "TingkatPendidikan                       0\n",
       "PernahBekerja                           0\n",
       "IkutProgramLOP                        258\n",
       "AlasanResign                           66\n",
       "TanggalLahir                            0\n",
       "TanggalHiring                           0\n",
       "TanggalPenilaianKaryawan                0\n",
       "TanggalResign                           0\n",
       "dtype: int64"
      ]
     },
     "execution_count": 8,
     "metadata": {},
     "output_type": "execute_result"
    }
   ],
   "source": [
    "df1.isnull().sum()"
   ]
  },
  {
   "cell_type": "code",
   "execution_count": 9,
   "id": "53881402-4bc5-44e7-8a9d-6a08d228ca28",
   "metadata": {
    "tags": []
   },
   "outputs": [],
   "source": [
    "# Numerikal\n",
    "df1['SkorKepuasanPegawai'].fillna(df1['SkorKepuasanPegawai'].mean(), inplace=True)\n",
    "df1['JumlahKeikutsertaanProjek'].fillna(df1['JumlahKeikutsertaanProjek'].mean(), inplace=True)\n",
    "df1['JumlahKeterlambatanSebulanTerakhir'].fillna(df1['JumlahKeterlambatanSebulanTerakhir'].mean(), inplace=True)\n",
    "df1['JumlahKetidakhadiran'].fillna(df1['JumlahKetidakhadiran'].mean(), inplace=True)\n",
    "df1['IkutProgramLOP'].fillna(df1['IkutProgramLOP'].mean(), inplace=True)\n",
    "\n",
    "#Kategorikal\n",
    "df1['AlasanResign'].fillna(df1['AlasanResign'].mode()[0], inplace=True)"
   ]
  },
  {
   "cell_type": "code",
   "execution_count": 10,
   "id": "28cb7091-f47a-4467-ba08-27128f6447e7",
   "metadata": {
    "tags": []
   },
   "outputs": [
    {
     "data": {
      "text/plain": [
       "Username                              0\n",
       "EnterpriseID                          0\n",
       "StatusPernikahan                      0\n",
       "JenisKelamin                          0\n",
       "StatusKepegawaian                     0\n",
       "Pekerjaan                             0\n",
       "JenjangKarir                          0\n",
       "PerformancePegawai                    0\n",
       "AsalDaerah                            0\n",
       "HiringPlatform                        0\n",
       "SkorSurveyEngagement                  0\n",
       "SkorKepuasanPegawai                   0\n",
       "JumlahKeikutsertaanProjek             0\n",
       "JumlahKeterlambatanSebulanTerakhir    0\n",
       "JumlahKetidakhadiran                  0\n",
       "NomorHP                               0\n",
       "Email                                 0\n",
       "TingkatPendidikan                     0\n",
       "PernahBekerja                         0\n",
       "IkutProgramLOP                        0\n",
       "AlasanResign                          0\n",
       "TanggalLahir                          0\n",
       "TanggalHiring                         0\n",
       "TanggalPenilaianKaryawan              0\n",
       "TanggalResign                         0\n",
       "dtype: int64"
      ]
     },
     "execution_count": 10,
     "metadata": {},
     "output_type": "execute_result"
    }
   ],
   "source": [
    "df1.isnull().sum()"
   ]
  },
  {
   "cell_type": "markdown",
   "id": "40d49d02-d4c6-443e-a2b4-aeef98ff221b",
   "metadata": {},
   "source": [
    "### Duplicated Values\n",
    "---"
   ]
  },
  {
   "cell_type": "code",
   "execution_count": 11,
   "id": "15e6a758-0962-40e7-ba98-38e929e29506",
   "metadata": {
    "tags": []
   },
   "outputs": [
    {
     "data": {
      "text/plain": [
       "0"
      ]
     },
     "execution_count": 11,
     "metadata": {},
     "output_type": "execute_result"
    }
   ],
   "source": [
    "df1.duplicated().sum()"
   ]
  },
  {
   "cell_type": "markdown",
   "id": "cc598e07-2461-407b-8f93-57991dd59601",
   "metadata": {},
   "source": [
    "### Replacing Values\n",
    "---"
   ]
  },
  {
   "cell_type": "code",
   "execution_count": 12,
   "id": "3d97edc4-2b6f-4f84-b075-e170d5f5a32a",
   "metadata": {
    "tags": []
   },
   "outputs": [
    {
     "data": {
      "text/plain": [
       "PernahBekerja\n",
       "1      286\n",
       "yes      1\n",
       "Name: count, dtype: int64"
      ]
     },
     "execution_count": 12,
     "metadata": {},
     "output_type": "execute_result"
    }
   ],
   "source": [
    "df1['PernahBekerja'].value_counts()"
   ]
  },
  {
   "cell_type": "markdown",
   "id": "fe726b6a-a2bd-4c30-bfbf-2afa7156cdf4",
   "metadata": {},
   "source": [
    "Karena setelah dilihat values dari kolom 'PernahBekerja' adalah 1 dan 'yes' yang memiliki arti sama, maka dari itu data akan diubah menjadi 1 semua dan diubah menjadi tipe data numerikal."
   ]
  },
  {
   "cell_type": "code",
   "execution_count": 13,
   "id": "c6726d36-9534-46a9-adf5-a81f1136c367",
   "metadata": {
    "tags": []
   },
   "outputs": [],
   "source": [
    "df1['PernahBekerja'] = df1['PernahBekerja'].replace({'yes': 1, '1': 1})\n",
    "df1['PernahBekerja'] = pd.to_numeric(df1['PernahBekerja'], errors='coerce')"
   ]
  },
  {
   "cell_type": "code",
   "execution_count": 14,
   "id": "5eed65a0-9493-419c-b3fe-df1be0beb318",
   "metadata": {
    "tags": []
   },
   "outputs": [
    {
     "data": {
      "text/plain": [
       "PernahBekerja\n",
       "1    287\n",
       "Name: count, dtype: int64"
      ]
     },
     "execution_count": 14,
     "metadata": {},
     "output_type": "execute_result"
    }
   ],
   "source": [
    "df1['PernahBekerja'].value_counts()"
   ]
  },
  {
   "cell_type": "markdown",
   "id": "422561e6-816d-4b2e-8fed-981ee7411d03",
   "metadata": {},
   "source": [
    "### Feature Engineering\n",
    "---"
   ]
  },
  {
   "cell_type": "markdown",
   "id": "bf0393a0-88ba-4414-bfb5-ea2d4b03f0d1",
   "metadata": {},
   "source": [
    "Karena target yang diperlukan adalah mengenai karyawan yang resign atau tidak, maka data akan diambil dari kolom 'TanggalResign'. Diasumsikan bahwa pada kolom 'TanggalResign' yang berisi '-' adalah data karyawan yang tidak resign, dan sisanya merupakan data karyawan yang resign, maka akan dikelompokkan seperti demikian."
   ]
  },
  {
   "cell_type": "code",
   "execution_count": 15,
   "id": "3108408d-3dc3-48fb-b1dc-f9276d904f20",
   "metadata": {
    "tags": []
   },
   "outputs": [],
   "source": [
    "df1['Resign'] = np.where(df1['TanggalResign'] == '-', 0,\n",
    "                1)"
   ]
  },
  {
   "cell_type": "code",
   "execution_count": 16,
   "id": "59592c55-7af5-4b1e-8516-166634a9ec3e",
   "metadata": {
    "tags": []
   },
   "outputs": [
    {
     "data": {
      "text/plain": [
       "Resign\n",
       "0    198\n",
       "1     89\n",
       "Name: count, dtype: int64"
      ]
     },
     "execution_count": 16,
     "metadata": {},
     "output_type": "execute_result"
    }
   ],
   "source": [
    "df1['Resign'].value_counts()"
   ]
  },
  {
   "cell_type": "markdown",
   "id": "8a4d72b8-fa6e-435c-83a8-bc02a34fb47e",
   "metadata": {
    "tags": []
   },
   "source": [
    "### Handling Outliers\n",
    "---"
   ]
  },
  {
   "cell_type": "code",
   "execution_count": 17,
   "id": "086a1c30-868d-454b-adfc-63221277d290",
   "metadata": {
    "tags": []
   },
   "outputs": [],
   "source": [
    "df2 = df1.copy()"
   ]
  },
  {
   "cell_type": "code",
   "execution_count": 18,
   "id": "57982d0d-7afc-4e8a-9cc8-1a38dfdb4cd2",
   "metadata": {
    "tags": []
   },
   "outputs": [],
   "source": [
    "nums1 = df2.select_dtypes(include=['int64', 'float64', 'int32']).columns\n",
    "cats1 = df2.select_dtypes(include=['object']).columns"
   ]
  },
  {
   "cell_type": "code",
   "execution_count": 19,
   "id": "0298c446-aae0-46f0-9b75-bed5696a8c58",
   "metadata": {
    "tags": []
   },
   "outputs": [
    {
     "data": {
      "image/png": "[encoded data removed]",
      "text/plain": [
       "<Figure size 1200x500 with 9 Axes>"
      ]
     },
     "metadata": {},
     "output_type": "display_data"
    }
   ],
   "source": [
    "plt.figure(figsize=(12, 5))\n",
    "\n",
    "for i, col in enumerate(nums1):\n",
    "    plt.subplot(1, len(nums1), i + 1)\n",
    "    sns.boxplot(y=df2[col], orient='v')\n",
    "    plt.tight_layout()\n",
    "\n",
    "plt.show()"
   ]
  },
  {
   "cell_type": "code",
   "execution_count": 20,
   "id": "d663e920-f35b-4946-8ca3-517663a9223c",
   "metadata": {
    "tags": []
   },
   "outputs": [
    {
     "name": "stdout",
     "output_type": "stream",
     "text": [
      "Jumlah baris sebelum memfilter outlier: 287\n",
      "Jumlah baris setelah memfilter outlier: 285\n"
     ]
    }
   ],
   "source": [
    "from scipy import stats\n",
    "\n",
    "print(f'Jumlah baris sebelum memfilter outlier: {len(df2)}')\n",
    "\n",
    "df_out = ['SkorSurveyEngagement','JumlahKetidakhadiran']\n",
    "\n",
    "filtered_entries = np.array([True] * len(df2))\n",
    "\n",
    "for col in df_out:\n",
    "    zscore = abs(stats.zscore(df2[col])) # hitung absolute z-scorenya\n",
    "    filtered_entries = (zscore < 3) & filtered_entries # keep yang kurang dari 3 absolute z-scorenya\n",
    "    \n",
    "df2 = df2[filtered_entries] # filter, cuma ambil yang z-scorenya dibawah 3\n",
    "\n",
    "print(f'Jumlah baris setelah memfilter outlier: {len(df2)}')"
   ]
  },
  {
   "cell_type": "markdown",
   "id": "d1b1b8dc-1aa7-4538-a7d9-f47c9a4d90dc",
   "metadata": {},
   "source": [
    "### Feature Selection\n",
    "---"
   ]
  },
  {
   "cell_type": "code",
   "execution_count": 21,
   "id": "8b708611-6d00-477e-9bf5-cb68241617a7",
   "metadata": {
    "tags": []
   },
   "outputs": [
    {
     "data": {
      "image/png": "[encoded data removed]",
      "text/plain": [
       "<Figure size 640x480 with 2 Axes>"
      ]
     },
     "metadata": {},
     "output_type": "display_data"
    }
   ],
   "source": [
    "corr = df2[nums1].corr()\n",
    "sns.heatmap(df2[nums1].corr(), annot=True, fmt= '.2f')\n",
    "plt.show()"
   ]
  },
  {
   "cell_type": "code",
   "execution_count": 91,
   "id": "b449bc3f-516f-490b-896d-48497bf628c3",
   "metadata": {
    "tags": []
   },
   "outputs": [],
   "source": [
    "df3 = df2.drop(columns=['PernahBekerja','IkutProgramLOP','EnterpriseID','Username','NomorHP','Email','TanggalLahir'])"
   ]
  },
  {
   "cell_type": "code",
   "execution_count": 92,
   "id": "37c9d16f-5325-4a19-9aef-401b137e0bcd",
   "metadata": {
    "tags": []
   },
   "outputs": [
    {
     "data": {
      "text/html": [
       "<div>\n",
       "<style scoped>\n",
       "    .dataframe tbody tr th:only-of-type {\n",
       "        vertical-align: middle;\n",
       "    }\n",
       "\n",
       "    .dataframe tbody tr th {\n",
       "        vertical-align: top;\n",
       "    }\n",
       "\n",
       "    .dataframe thead th {\n",
       "        text-align: right;\n",
       "    }\n",
       "</style>\n",
       "<table border=\"1\" class=\"dataframe\">\n",
       "  <thead>\n",
       "    <tr style=\"text-align: right;\">\n",
       "      <th></th>\n",
       "      <th>StatusPernikahan</th>\n",
       "      <th>JenisKelamin</th>\n",
       "      <th>StatusKepegawaian</th>\n",
       "      <th>Pekerjaan</th>\n",
       "      <th>JenjangKarir</th>\n",
       "      <th>PerformancePegawai</th>\n",
       "      <th>AsalDaerah</th>\n",
       "      <th>HiringPlatform</th>\n",
       "      <th>SkorSurveyEngagement</th>\n",
       "      <th>SkorKepuasanPegawai</th>\n",
       "      <th>JumlahKeikutsertaanProjek</th>\n",
       "      <th>JumlahKeterlambatanSebulanTerakhir</th>\n",
       "      <th>JumlahKetidakhadiran</th>\n",
       "      <th>TingkatPendidikan</th>\n",
       "      <th>AlasanResign</th>\n",
       "      <th>TanggalHiring</th>\n",
       "      <th>TanggalPenilaianKaryawan</th>\n",
       "      <th>TanggalResign</th>\n",
       "      <th>Resign</th>\n",
       "    </tr>\n",
       "  </thead>\n",
       "  <tbody>\n",
       "    <tr>\n",
       "      <th>0</th>\n",
       "      <td>Belum_menikah</td>\n",
       "      <td>Pria</td>\n",
       "      <td>Outsource</td>\n",
       "      <td>Software Engineer (Back End)</td>\n",
       "      <td>Freshgraduate_program</td>\n",
       "      <td>Sangat_bagus</td>\n",
       "      <td>Jakarta Timur</td>\n",
       "      <td>Employee_Referral</td>\n",
       "      <td>4</td>\n",
       "      <td>4.0</td>\n",
       "      <td>0.0</td>\n",
       "      <td>0.0</td>\n",
       "      <td>9.0</td>\n",
       "      <td>Magister</td>\n",
       "      <td>masih_bekerja</td>\n",
       "      <td>2011-01-10</td>\n",
       "      <td>2016-2-15</td>\n",
       "      <td>-</td>\n",
       "      <td>0</td>\n",
       "    </tr>\n",
       "    <tr>\n",
       "      <th>1</th>\n",
       "      <td>Belum_menikah</td>\n",
       "      <td>Pria</td>\n",
       "      <td>FullTime</td>\n",
       "      <td>Data Analyst</td>\n",
       "      <td>Freshgraduate_program</td>\n",
       "      <td>Sangat_kurang</td>\n",
       "      <td>Jakarta Utara</td>\n",
       "      <td>Website</td>\n",
       "      <td>4</td>\n",
       "      <td>4.0</td>\n",
       "      <td>4.0</td>\n",
       "      <td>0.0</td>\n",
       "      <td>3.0</td>\n",
       "      <td>Sarjana</td>\n",
       "      <td>toxic_culture</td>\n",
       "      <td>2014-01-06</td>\n",
       "      <td>2020-1-17</td>\n",
       "      <td>2018-6-16</td>\n",
       "      <td>1</td>\n",
       "    </tr>\n",
       "    <tr>\n",
       "      <th>2</th>\n",
       "      <td>Menikah</td>\n",
       "      <td>Pria</td>\n",
       "      <td>FullTime</td>\n",
       "      <td>Software Engineer (Front End)</td>\n",
       "      <td>Freshgraduate_program</td>\n",
       "      <td>Bagus</td>\n",
       "      <td>Jakarta Timur</td>\n",
       "      <td>Indeed</td>\n",
       "      <td>4</td>\n",
       "      <td>3.0</td>\n",
       "      <td>0.0</td>\n",
       "      <td>0.0</td>\n",
       "      <td>11.0</td>\n",
       "      <td>Magister</td>\n",
       "      <td>jam_kerja</td>\n",
       "      <td>2011-01-10</td>\n",
       "      <td>2016-01-10</td>\n",
       "      <td>2014-9-24</td>\n",
       "      <td>1</td>\n",
       "    </tr>\n",
       "    <tr>\n",
       "      <th>3</th>\n",
       "      <td>Belum_menikah</td>\n",
       "      <td>Pria</td>\n",
       "      <td>Outsource</td>\n",
       "      <td>Software Engineer (Front End)</td>\n",
       "      <td>Freshgraduate_program</td>\n",
       "      <td>Bagus</td>\n",
       "      <td>Jakarta Pusat</td>\n",
       "      <td>LinkedIn</td>\n",
       "      <td>3</td>\n",
       "      <td>3.0</td>\n",
       "      <td>0.0</td>\n",
       "      <td>4.0</td>\n",
       "      <td>6.0</td>\n",
       "      <td>Sarjana</td>\n",
       "      <td>masih_bekerja</td>\n",
       "      <td>2014-2-17</td>\n",
       "      <td>2020-02-04</td>\n",
       "      <td>-</td>\n",
       "      <td>0</td>\n",
       "    </tr>\n",
       "    <tr>\n",
       "      <th>4</th>\n",
       "      <td>Belum_menikah</td>\n",
       "      <td>Wanita</td>\n",
       "      <td>FullTime</td>\n",
       "      <td>Product Manager</td>\n",
       "      <td>Freshgraduate_program</td>\n",
       "      <td>Bagus</td>\n",
       "      <td>Jakarta Timur</td>\n",
       "      <td>LinkedIn</td>\n",
       "      <td>3</td>\n",
       "      <td>3.0</td>\n",
       "      <td>0.0</td>\n",
       "      <td>0.0</td>\n",
       "      <td>11.0</td>\n",
       "      <td>Sarjana</td>\n",
       "      <td>ganti_karir</td>\n",
       "      <td>2013-11-11</td>\n",
       "      <td>2020-1-22</td>\n",
       "      <td>2018-09-06</td>\n",
       "      <td>1</td>\n",
       "    </tr>\n",
       "  </tbody>\n",
       "</table>\n",
       "</div>"
      ],
      "text/plain": [
       "  StatusPernikahan JenisKelamin StatusKepegawaian  \\\n",
       "0    Belum_menikah         Pria         Outsource   \n",
       "1    Belum_menikah         Pria          FullTime   \n",
       "2          Menikah         Pria          FullTime   \n",
       "3    Belum_menikah         Pria         Outsource   \n",
       "4    Belum_menikah       Wanita          FullTime   \n",
       "\n",
       "                       Pekerjaan           JenjangKarir PerformancePegawai  \\\n",
       "0   Software Engineer (Back End)  Freshgraduate_program       Sangat_bagus   \n",
       "1                   Data Analyst  Freshgraduate_program      Sangat_kurang   \n",
       "2  Software Engineer (Front End)  Freshgraduate_program              Bagus   \n",
       "3  Software Engineer (Front End)  Freshgraduate_program              Bagus   \n",
       "4                Product Manager  Freshgraduate_program              Bagus   \n",
       "\n",
       "      AsalDaerah     HiringPlatform  SkorSurveyEngagement  \\\n",
       "0  Jakarta Timur  Employee_Referral                     4   \n",
       "1  Jakarta Utara            Website                     4   \n",
       "2  Jakarta Timur             Indeed                     4   \n",
       "3  Jakarta Pusat           LinkedIn                     3   \n",
       "4  Jakarta Timur           LinkedIn                     3   \n",
       "\n",
       "   SkorKepuasanPegawai  JumlahKeikutsertaanProjek  \\\n",
       "0                  4.0                        0.0   \n",
       "1                  4.0                        4.0   \n",
       "2                  3.0                        0.0   \n",
       "3                  3.0                        0.0   \n",
       "4                  3.0                        0.0   \n",
       "\n",
       "   JumlahKeterlambatanSebulanTerakhir  JumlahKetidakhadiran TingkatPendidikan  \\\n",
       "0                                 0.0                   9.0          Magister   \n",
       "1                                 0.0                   3.0           Sarjana   \n",
       "2                                 0.0                  11.0          Magister   \n",
       "3                                 4.0                   6.0           Sarjana   \n",
       "4                                 0.0                  11.0           Sarjana   \n",
       "\n",
       "    AlasanResign TanggalHiring TanggalPenilaianKaryawan TanggalResign  Resign  \n",
       "0  masih_bekerja    2011-01-10                2016-2-15             -       0  \n",
       "1  toxic_culture    2014-01-06                2020-1-17     2018-6-16       1  \n",
       "2      jam_kerja    2011-01-10               2016-01-10     2014-9-24       1  \n",
       "3  masih_bekerja     2014-2-17               2020-02-04             -       0  \n",
       "4    ganti_karir    2013-11-11                2020-1-22    2018-09-06       1  "
      ]
     },
     "execution_count": 92,
     "metadata": {},
     "output_type": "execute_result"
    }
   ],
   "source": [
    "df3.head()"
   ]
  },
  {
   "cell_type": "markdown",
   "id": "996e0a0d-05fb-4acc-8639-cb43c73d8fb9",
   "metadata": {},
   "source": [
    "Kolom yang dihapus:\n",
    "- Kolom 'PernahBekerja' dihapus karena memiliki satu unique value, dan juga kolom 'IkutProgramLOP' karena memiliki nilai yang hampir sama semua setelah dilakukan replace value karena terlalu banyak missing value.\n",
    "- Kolom 'EnterpriseID', 'Username', 'NomorHP', 'Email', 'TanggalLahir' dihapus karena merupakan unique values."
   ]
  },
  {
   "cell_type": "markdown",
   "id": "1a79cb18-47c0-4ccb-a773-16747c9006a5",
   "metadata": {},
   "source": [
    "---\n",
    "# **Annual Report On Employee Number Changes**"
   ]
  },
  {
   "cell_type": "markdown",
   "id": "dfc1387e-d734-4d19-ad53-c5766b3cbfff",
   "metadata": {},
   "source": [
    "#### 1. Tabel Agregat"
   ]
  },
  {
   "cell_type": "code",
   "execution_count": 93,
   "id": "0cd52604-1164-4ae9-9317-a0f776f61fec",
   "metadata": {
    "tags": []
   },
   "outputs": [],
   "source": [
    "# Convert data tanggal untuk diambil tahun\n",
    "df3['TahunHiring'] = pd.to_datetime(df3['TanggalHiring']).dt.year\n",
    "df3['TahunResign'] = pd.to_datetime(df3['TanggalResign'], errors='coerce').dt.year"
   ]
  },
  {
   "cell_type": "code",
   "execution_count": 94,
   "id": "5272f230-da42-46ae-8d2b-d0d3a3cb9c0c",
   "metadata": {
    "tags": []
   },
   "outputs": [
    {
     "data": {
      "text/html": [
       "<div>\n",
       "<style scoped>\n",
       "    .dataframe tbody tr th:only-of-type {\n",
       "        vertical-align: middle;\n",
       "    }\n",
       "\n",
       "    .dataframe tbody tr th {\n",
       "        vertical-align: top;\n",
       "    }\n",
       "\n",
       "    .dataframe thead th {\n",
       "        text-align: right;\n",
       "    }\n",
       "</style>\n",
       "<table border=\"1\" class=\"dataframe\">\n",
       "  <thead>\n",
       "    <tr style=\"text-align: right;\">\n",
       "      <th></th>\n",
       "      <th>StatusPernikahan</th>\n",
       "      <th>JenisKelamin</th>\n",
       "      <th>StatusKepegawaian</th>\n",
       "      <th>Pekerjaan</th>\n",
       "      <th>JenjangKarir</th>\n",
       "      <th>PerformancePegawai</th>\n",
       "      <th>AsalDaerah</th>\n",
       "      <th>HiringPlatform</th>\n",
       "      <th>SkorSurveyEngagement</th>\n",
       "      <th>SkorKepuasanPegawai</th>\n",
       "      <th>...</th>\n",
       "      <th>JumlahKeterlambatanSebulanTerakhir</th>\n",
       "      <th>JumlahKetidakhadiran</th>\n",
       "      <th>TingkatPendidikan</th>\n",
       "      <th>AlasanResign</th>\n",
       "      <th>TanggalHiring</th>\n",
       "      <th>TanggalPenilaianKaryawan</th>\n",
       "      <th>TanggalResign</th>\n",
       "      <th>Resign</th>\n",
       "      <th>TahunHiring</th>\n",
       "      <th>TahunResign</th>\n",
       "    </tr>\n",
       "  </thead>\n",
       "  <tbody>\n",
       "    <tr>\n",
       "      <th>0</th>\n",
       "      <td>Belum_menikah</td>\n",
       "      <td>Pria</td>\n",
       "      <td>Outsource</td>\n",
       "      <td>Software Engineer (Back End)</td>\n",
       "      <td>Freshgraduate_program</td>\n",
       "      <td>Sangat_bagus</td>\n",
       "      <td>Jakarta Timur</td>\n",
       "      <td>Employee_Referral</td>\n",
       "      <td>4</td>\n",
       "      <td>4.0</td>\n",
       "      <td>...</td>\n",
       "      <td>0.0</td>\n",
       "      <td>9.0</td>\n",
       "      <td>Magister</td>\n",
       "      <td>masih_bekerja</td>\n",
       "      <td>2011-01-10</td>\n",
       "      <td>2016-2-15</td>\n",
       "      <td>-</td>\n",
       "      <td>0</td>\n",
       "      <td>2011</td>\n",
       "      <td>NaN</td>\n",
       "    </tr>\n",
       "    <tr>\n",
       "      <th>1</th>\n",
       "      <td>Belum_menikah</td>\n",
       "      <td>Pria</td>\n",
       "      <td>FullTime</td>\n",
       "      <td>Data Analyst</td>\n",
       "      <td>Freshgraduate_program</td>\n",
       "      <td>Sangat_kurang</td>\n",
       "      <td>Jakarta Utara</td>\n",
       "      <td>Website</td>\n",
       "      <td>4</td>\n",
       "      <td>4.0</td>\n",
       "      <td>...</td>\n",
       "      <td>0.0</td>\n",
       "      <td>3.0</td>\n",
       "      <td>Sarjana</td>\n",
       "      <td>toxic_culture</td>\n",
       "      <td>2014-01-06</td>\n",
       "      <td>2020-1-17</td>\n",
       "      <td>2018-6-16</td>\n",
       "      <td>1</td>\n",
       "      <td>2014</td>\n",
       "      <td>2018.0</td>\n",
       "    </tr>\n",
       "    <tr>\n",
       "      <th>2</th>\n",
       "      <td>Menikah</td>\n",
       "      <td>Pria</td>\n",
       "      <td>FullTime</td>\n",
       "      <td>Software Engineer (Front End)</td>\n",
       "      <td>Freshgraduate_program</td>\n",
       "      <td>Bagus</td>\n",
       "      <td>Jakarta Timur</td>\n",
       "      <td>Indeed</td>\n",
       "      <td>4</td>\n",
       "      <td>3.0</td>\n",
       "      <td>...</td>\n",
       "      <td>0.0</td>\n",
       "      <td>11.0</td>\n",
       "      <td>Magister</td>\n",
       "      <td>jam_kerja</td>\n",
       "      <td>2011-01-10</td>\n",
       "      <td>2016-01-10</td>\n",
       "      <td>2014-9-24</td>\n",
       "      <td>1</td>\n",
       "      <td>2011</td>\n",
       "      <td>2014.0</td>\n",
       "    </tr>\n",
       "    <tr>\n",
       "      <th>3</th>\n",
       "      <td>Belum_menikah</td>\n",
       "      <td>Pria</td>\n",
       "      <td>Outsource</td>\n",
       "      <td>Software Engineer (Front End)</td>\n",
       "      <td>Freshgraduate_program</td>\n",
       "      <td>Bagus</td>\n",
       "      <td>Jakarta Pusat</td>\n",
       "      <td>LinkedIn</td>\n",
       "      <td>3</td>\n",
       "      <td>3.0</td>\n",
       "      <td>...</td>\n",
       "      <td>4.0</td>\n",
       "      <td>6.0</td>\n",
       "      <td>Sarjana</td>\n",
       "      <td>masih_bekerja</td>\n",
       "      <td>2014-2-17</td>\n",
       "      <td>2020-02-04</td>\n",
       "      <td>-</td>\n",
       "      <td>0</td>\n",
       "      <td>2014</td>\n",
       "      <td>NaN</td>\n",
       "    </tr>\n",
       "    <tr>\n",
       "      <th>4</th>\n",
       "      <td>Belum_menikah</td>\n",
       "      <td>Wanita</td>\n",
       "      <td>FullTime</td>\n",
       "      <td>Product Manager</td>\n",
       "      <td>Freshgraduate_program</td>\n",
       "      <td>Bagus</td>\n",
       "      <td>Jakarta Timur</td>\n",
       "      <td>LinkedIn</td>\n",
       "      <td>3</td>\n",
       "      <td>3.0</td>\n",
       "      <td>...</td>\n",
       "      <td>0.0</td>\n",
       "      <td>11.0</td>\n",
       "      <td>Sarjana</td>\n",
       "      <td>ganti_karir</td>\n",
       "      <td>2013-11-11</td>\n",
       "      <td>2020-1-22</td>\n",
       "      <td>2018-09-06</td>\n",
       "      <td>1</td>\n",
       "      <td>2013</td>\n",
       "      <td>2018.0</td>\n",
       "    </tr>\n",
       "  </tbody>\n",
       "</table>\n",
       "<p>5 rows × 21 columns</p>\n",
       "</div>"
      ],
      "text/plain": [
       "  StatusPernikahan JenisKelamin StatusKepegawaian  \\\n",
       "0    Belum_menikah         Pria         Outsource   \n",
       "1    Belum_menikah         Pria          FullTime   \n",
       "2          Menikah         Pria          FullTime   \n",
       "3    Belum_menikah         Pria         Outsource   \n",
       "4    Belum_menikah       Wanita          FullTime   \n",
       "\n",
       "                       Pekerjaan           JenjangKarir PerformancePegawai  \\\n",
       "0   Software Engineer (Back End)  Freshgraduate_program       Sangat_bagus   \n",
       "1                   Data Analyst  Freshgraduate_program      Sangat_kurang   \n",
       "2  Software Engineer (Front End)  Freshgraduate_program              Bagus   \n",
       "3  Software Engineer (Front End)  Freshgraduate_program              Bagus   \n",
       "4                Product Manager  Freshgraduate_program              Bagus   \n",
       "\n",
       "      AsalDaerah     HiringPlatform  SkorSurveyEngagement  \\\n",
       "0  Jakarta Timur  Employee_Referral                     4   \n",
       "1  Jakarta Utara            Website                     4   \n",
       "2  Jakarta Timur             Indeed                     4   \n",
       "3  Jakarta Pusat           LinkedIn                     3   \n",
       "4  Jakarta Timur           LinkedIn                     3   \n",
       "\n",
       "   SkorKepuasanPegawai  ...  JumlahKeterlambatanSebulanTerakhir  \\\n",
       "0                  4.0  ...                                 0.0   \n",
       "1                  4.0  ...                                 0.0   \n",
       "2                  3.0  ...                                 0.0   \n",
       "3                  3.0  ...                                 4.0   \n",
       "4                  3.0  ...                                 0.0   \n",
       "\n",
       "   JumlahKetidakhadiran  TingkatPendidikan   AlasanResign TanggalHiring  \\\n",
       "0                   9.0           Magister  masih_bekerja    2011-01-10   \n",
       "1                   3.0            Sarjana  toxic_culture    2014-01-06   \n",
       "2                  11.0           Magister      jam_kerja    2011-01-10   \n",
       "3                   6.0            Sarjana  masih_bekerja     2014-2-17   \n",
       "4                  11.0            Sarjana    ganti_karir    2013-11-11   \n",
       "\n",
       "  TanggalPenilaianKaryawan TanggalResign Resign  TahunHiring  TahunResign  \n",
       "0                2016-2-15             -      0         2011          NaN  \n",
       "1                2020-1-17     2018-6-16      1         2014       2018.0  \n",
       "2               2016-01-10     2014-9-24      1         2011       2014.0  \n",
       "3               2020-02-04             -      0         2014          NaN  \n",
       "4                2020-1-22    2018-09-06      1         2013       2018.0  \n",
       "\n",
       "[5 rows x 21 columns]"
      ]
     },
     "execution_count": 94,
     "metadata": {},
     "output_type": "execute_result"
    }
   ],
   "source": [
    "df3.head()"
   ]
  },
  {
   "cell_type": "code",
   "execution_count": 95,
   "id": "53fe5685-5feb-49b1-89f1-ba43cb84d70c",
   "metadata": {
    "tags": []
   },
   "outputs": [],
   "source": [
    "# Tabel baru\n",
    "TotalHired = df3.groupby('TahunHiring').size().reset_index(name='HiredEmp')\n",
    "TotalResigned = df3.groupby('TahunResign').size().reset_index(name='ResignedEmp')"
   ]
  },
  {
   "cell_type": "markdown",
   "id": "0d00d839-7d00-422a-a36b-f0e9f97dbd04",
   "metadata": {},
   "source": [
    "#### 2. Join Tabel"
   ]
  },
  {
   "cell_type": "code",
   "execution_count": 96,
   "id": "4770397f-7840-4f42-a3f2-268370d04be5",
   "metadata": {
    "tags": []
   },
   "outputs": [],
   "source": [
    "# Rename nama kolom untuk tahun\n",
    "TotalHired.rename(columns={'TahunHiring': 'Tahun'}, inplace=True)\n",
    "TotalResigned.rename(columns={'TahunResign': 'Tahun'}, inplace=True)\n",
    "\n",
    "# Join 2 tabel data jumlah karyawan\n",
    "TotalEmp = pd.merge(TotalHired, TotalResigned, on='Tahun', how='outer')"
   ]
  },
  {
   "cell_type": "code",
   "execution_count": 97,
   "id": "d4e4b183-6ffd-45e5-aa93-fc74fecd9273",
   "metadata": {
    "tags": []
   },
   "outputs": [
    {
     "data": {
      "text/html": [
       "<div>\n",
       "<style scoped>\n",
       "    .dataframe tbody tr th:only-of-type {\n",
       "        vertical-align: middle;\n",
       "    }\n",
       "\n",
       "    .dataframe tbody tr th {\n",
       "        vertical-align: top;\n",
       "    }\n",
       "\n",
       "    .dataframe thead th {\n",
       "        text-align: right;\n",
       "    }\n",
       "</style>\n",
       "<table border=\"1\" class=\"dataframe\">\n",
       "  <thead>\n",
       "    <tr style=\"text-align: right;\">\n",
       "      <th></th>\n",
       "      <th>Tahun</th>\n",
       "      <th>HiredEmp</th>\n",
       "      <th>ResignedEmp</th>\n",
       "    </tr>\n",
       "  </thead>\n",
       "  <tbody>\n",
       "    <tr>\n",
       "      <th>0</th>\n",
       "      <td>2006.0</td>\n",
       "      <td>1.0</td>\n",
       "      <td>NaN</td>\n",
       "    </tr>\n",
       "    <tr>\n",
       "      <th>1</th>\n",
       "      <td>2007.0</td>\n",
       "      <td>2.0</td>\n",
       "      <td>NaN</td>\n",
       "    </tr>\n",
       "    <tr>\n",
       "      <th>2</th>\n",
       "      <td>2008.0</td>\n",
       "      <td>2.0</td>\n",
       "      <td>NaN</td>\n",
       "    </tr>\n",
       "    <tr>\n",
       "      <th>3</th>\n",
       "      <td>2009.0</td>\n",
       "      <td>7.0</td>\n",
       "      <td>NaN</td>\n",
       "    </tr>\n",
       "    <tr>\n",
       "      <th>4</th>\n",
       "      <td>2010.0</td>\n",
       "      <td>8.0</td>\n",
       "      <td>NaN</td>\n",
       "    </tr>\n",
       "    <tr>\n",
       "      <th>5</th>\n",
       "      <td>2011.0</td>\n",
       "      <td>75.0</td>\n",
       "      <td>NaN</td>\n",
       "    </tr>\n",
       "    <tr>\n",
       "      <th>6</th>\n",
       "      <td>2012.0</td>\n",
       "      <td>41.0</td>\n",
       "      <td>NaN</td>\n",
       "    </tr>\n",
       "    <tr>\n",
       "      <th>7</th>\n",
       "      <td>2013.0</td>\n",
       "      <td>42.0</td>\n",
       "      <td>5.0</td>\n",
       "    </tr>\n",
       "    <tr>\n",
       "      <th>8</th>\n",
       "      <td>2014.0</td>\n",
       "      <td>56.0</td>\n",
       "      <td>12.0</td>\n",
       "    </tr>\n",
       "    <tr>\n",
       "      <th>9</th>\n",
       "      <td>2015.0</td>\n",
       "      <td>31.0</td>\n",
       "      <td>8.0</td>\n",
       "    </tr>\n",
       "    <tr>\n",
       "      <th>10</th>\n",
       "      <td>2016.0</td>\n",
       "      <td>14.0</td>\n",
       "      <td>8.0</td>\n",
       "    </tr>\n",
       "    <tr>\n",
       "      <th>11</th>\n",
       "      <td>2017.0</td>\n",
       "      <td>5.0</td>\n",
       "      <td>19.0</td>\n",
       "    </tr>\n",
       "    <tr>\n",
       "      <th>12</th>\n",
       "      <td>2018.0</td>\n",
       "      <td>1.0</td>\n",
       "      <td>26.0</td>\n",
       "    </tr>\n",
       "    <tr>\n",
       "      <th>13</th>\n",
       "      <td>2019.0</td>\n",
       "      <td>NaN</td>\n",
       "      <td>5.0</td>\n",
       "    </tr>\n",
       "    <tr>\n",
       "      <th>14</th>\n",
       "      <td>2020.0</td>\n",
       "      <td>NaN</td>\n",
       "      <td>6.0</td>\n",
       "    </tr>\n",
       "  </tbody>\n",
       "</table>\n",
       "</div>"
      ],
      "text/plain": [
       "     Tahun  HiredEmp  ResignedEmp\n",
       "0   2006.0       1.0          NaN\n",
       "1   2007.0       2.0          NaN\n",
       "2   2008.0       2.0          NaN\n",
       "3   2009.0       7.0          NaN\n",
       "4   2010.0       8.0          NaN\n",
       "5   2011.0      75.0          NaN\n",
       "6   2012.0      41.0          NaN\n",
       "7   2013.0      42.0          5.0\n",
       "8   2014.0      56.0         12.0\n",
       "9   2015.0      31.0          8.0\n",
       "10  2016.0      14.0          8.0\n",
       "11  2017.0       5.0         19.0\n",
       "12  2018.0       1.0         26.0\n",
       "13  2019.0       NaN          5.0\n",
       "14  2020.0       NaN          6.0"
      ]
     },
     "execution_count": 97,
     "metadata": {},
     "output_type": "execute_result"
    }
   ],
   "source": [
    "TotalEmp"
   ]
  },
  {
   "cell_type": "markdown",
   "id": "a9af94e4-142b-424f-be64-72a6c3177167",
   "metadata": {},
   "source": [
    "#### 3. Imputation Data"
   ]
  },
  {
   "cell_type": "code",
   "execution_count": 98,
   "id": "dc5aad10-0cea-47bc-bee6-0d1a6f4b346e",
   "metadata": {
    "tags": []
   },
   "outputs": [],
   "source": [
    "# Imputation data\n",
    "TotalEmp = TotalEmp.sort_values(by='Tahun').reset_index(drop=True)\n",
    "TotalEmp['HiredEmp'].fillna(0, inplace=True)\n",
    "TotalEmp['ResignedEmp'].fillna(0, inplace=True)"
   ]
  },
  {
   "cell_type": "code",
   "execution_count": 99,
   "id": "57424b32-f472-4254-a915-c0fc16bc4345",
   "metadata": {
    "tags": []
   },
   "outputs": [
    {
     "data": {
      "text/html": [
       "<div>\n",
       "<style scoped>\n",
       "    .dataframe tbody tr th:only-of-type {\n",
       "        vertical-align: middle;\n",
       "    }\n",
       "\n",
       "    .dataframe tbody tr th {\n",
       "        vertical-align: top;\n",
       "    }\n",
       "\n",
       "    .dataframe thead th {\n",
       "        text-align: right;\n",
       "    }\n",
       "</style>\n",
       "<table border=\"1\" class=\"dataframe\">\n",
       "  <thead>\n",
       "    <tr style=\"text-align: right;\">\n",
       "      <th></th>\n",
       "      <th>Tahun</th>\n",
       "      <th>HiredEmp</th>\n",
       "      <th>ResignedEmp</th>\n",
       "    </tr>\n",
       "  </thead>\n",
       "  <tbody>\n",
       "    <tr>\n",
       "      <th>0</th>\n",
       "      <td>2006.0</td>\n",
       "      <td>1.0</td>\n",
       "      <td>0.0</td>\n",
       "    </tr>\n",
       "    <tr>\n",
       "      <th>1</th>\n",
       "      <td>2007.0</td>\n",
       "      <td>2.0</td>\n",
       "      <td>0.0</td>\n",
       "    </tr>\n",
       "    <tr>\n",
       "      <th>2</th>\n",
       "      <td>2008.0</td>\n",
       "      <td>2.0</td>\n",
       "      <td>0.0</td>\n",
       "    </tr>\n",
       "    <tr>\n",
       "      <th>3</th>\n",
       "      <td>2009.0</td>\n",
       "      <td>7.0</td>\n",
       "      <td>0.0</td>\n",
       "    </tr>\n",
       "    <tr>\n",
       "      <th>4</th>\n",
       "      <td>2010.0</td>\n",
       "      <td>8.0</td>\n",
       "      <td>0.0</td>\n",
       "    </tr>\n",
       "    <tr>\n",
       "      <th>5</th>\n",
       "      <td>2011.0</td>\n",
       "      <td>75.0</td>\n",
       "      <td>0.0</td>\n",
       "    </tr>\n",
       "    <tr>\n",
       "      <th>6</th>\n",
       "      <td>2012.0</td>\n",
       "      <td>41.0</td>\n",
       "      <td>0.0</td>\n",
       "    </tr>\n",
       "    <tr>\n",
       "      <th>7</th>\n",
       "      <td>2013.0</td>\n",
       "      <td>42.0</td>\n",
       "      <td>5.0</td>\n",
       "    </tr>\n",
       "    <tr>\n",
       "      <th>8</th>\n",
       "      <td>2014.0</td>\n",
       "      <td>56.0</td>\n",
       "      <td>12.0</td>\n",
       "    </tr>\n",
       "    <tr>\n",
       "      <th>9</th>\n",
       "      <td>2015.0</td>\n",
       "      <td>31.0</td>\n",
       "      <td>8.0</td>\n",
       "    </tr>\n",
       "    <tr>\n",
       "      <th>10</th>\n",
       "      <td>2016.0</td>\n",
       "      <td>14.0</td>\n",
       "      <td>8.0</td>\n",
       "    </tr>\n",
       "    <tr>\n",
       "      <th>11</th>\n",
       "      <td>2017.0</td>\n",
       "      <td>5.0</td>\n",
       "      <td>19.0</td>\n",
       "    </tr>\n",
       "    <tr>\n",
       "      <th>12</th>\n",
       "      <td>2018.0</td>\n",
       "      <td>1.0</td>\n",
       "      <td>26.0</td>\n",
       "    </tr>\n",
       "    <tr>\n",
       "      <th>13</th>\n",
       "      <td>2019.0</td>\n",
       "      <td>0.0</td>\n",
       "      <td>5.0</td>\n",
       "    </tr>\n",
       "    <tr>\n",
       "      <th>14</th>\n",
       "      <td>2020.0</td>\n",
       "      <td>0.0</td>\n",
       "      <td>6.0</td>\n",
       "    </tr>\n",
       "  </tbody>\n",
       "</table>\n",
       "</div>"
      ],
      "text/plain": [
       "     Tahun  HiredEmp  ResignedEmp\n",
       "0   2006.0       1.0          0.0\n",
       "1   2007.0       2.0          0.0\n",
       "2   2008.0       2.0          0.0\n",
       "3   2009.0       7.0          0.0\n",
       "4   2010.0       8.0          0.0\n",
       "5   2011.0      75.0          0.0\n",
       "6   2012.0      41.0          0.0\n",
       "7   2013.0      42.0          5.0\n",
       "8   2014.0      56.0         12.0\n",
       "9   2015.0      31.0          8.0\n",
       "10  2016.0      14.0          8.0\n",
       "11  2017.0       5.0         19.0\n",
       "12  2018.0       1.0         26.0\n",
       "13  2019.0       0.0          5.0\n",
       "14  2020.0       0.0          6.0"
      ]
     },
     "execution_count": 99,
     "metadata": {},
     "output_type": "execute_result"
    }
   ],
   "source": [
    "TotalEmp"
   ]
  },
  {
   "cell_type": "markdown",
   "id": "5404ffef-4123-480b-9929-477b1fda77bc",
   "metadata": {},
   "source": [
    "#### 4. Hitung Total Perubahan Karyawan"
   ]
  },
  {
   "cell_type": "code",
   "execution_count": 100,
   "id": "750ed62a-0ece-4ed1-8c22-eaa47ae63a31",
   "metadata": {
    "tags": []
   },
   "outputs": [],
   "source": [
    "# Karyawan yang resign, yang masih bertahan (remained), dan perubahannya pada setiap tahunnya\n",
    "TotalEmp['RemainedEmp'] = TotalEmp['HiredEmp'].cumsum() - TotalEmp['ResignedEmp'].cumsum()\n",
    "TotalEmp['Perubahan'] = TotalEmp['HiredEmp'] - TotalEmp['ResignedEmp']"
   ]
  },
  {
   "cell_type": "code",
   "execution_count": 101,
   "id": "719727c5-db4c-4a8a-be73-55c8b011df06",
   "metadata": {
    "tags": []
   },
   "outputs": [
    {
     "data": {
      "text/html": [
       "<div>\n",
       "<style scoped>\n",
       "    .dataframe tbody tr th:only-of-type {\n",
       "        vertical-align: middle;\n",
       "    }\n",
       "\n",
       "    .dataframe tbody tr th {\n",
       "        vertical-align: top;\n",
       "    }\n",
       "\n",
       "    .dataframe thead th {\n",
       "        text-align: right;\n",
       "    }\n",
       "</style>\n",
       "<table border=\"1\" class=\"dataframe\">\n",
       "  <thead>\n",
       "    <tr style=\"text-align: right;\">\n",
       "      <th></th>\n",
       "      <th>Tahun</th>\n",
       "      <th>HiredEmp</th>\n",
       "      <th>ResignedEmp</th>\n",
       "      <th>RemainedEmp</th>\n",
       "      <th>Perubahan</th>\n",
       "    </tr>\n",
       "  </thead>\n",
       "  <tbody>\n",
       "    <tr>\n",
       "      <th>0</th>\n",
       "      <td>2006.0</td>\n",
       "      <td>1.0</td>\n",
       "      <td>0.0</td>\n",
       "      <td>1.0</td>\n",
       "      <td>1.0</td>\n",
       "    </tr>\n",
       "    <tr>\n",
       "      <th>1</th>\n",
       "      <td>2007.0</td>\n",
       "      <td>2.0</td>\n",
       "      <td>0.0</td>\n",
       "      <td>3.0</td>\n",
       "      <td>2.0</td>\n",
       "    </tr>\n",
       "    <tr>\n",
       "      <th>2</th>\n",
       "      <td>2008.0</td>\n",
       "      <td>2.0</td>\n",
       "      <td>0.0</td>\n",
       "      <td>5.0</td>\n",
       "      <td>2.0</td>\n",
       "    </tr>\n",
       "    <tr>\n",
       "      <th>3</th>\n",
       "      <td>2009.0</td>\n",
       "      <td>7.0</td>\n",
       "      <td>0.0</td>\n",
       "      <td>12.0</td>\n",
       "      <td>7.0</td>\n",
       "    </tr>\n",
       "    <tr>\n",
       "      <th>4</th>\n",
       "      <td>2010.0</td>\n",
       "      <td>8.0</td>\n",
       "      <td>0.0</td>\n",
       "      <td>20.0</td>\n",
       "      <td>8.0</td>\n",
       "    </tr>\n",
       "    <tr>\n",
       "      <th>5</th>\n",
       "      <td>2011.0</td>\n",
       "      <td>75.0</td>\n",
       "      <td>0.0</td>\n",
       "      <td>95.0</td>\n",
       "      <td>75.0</td>\n",
       "    </tr>\n",
       "    <tr>\n",
       "      <th>6</th>\n",
       "      <td>2012.0</td>\n",
       "      <td>41.0</td>\n",
       "      <td>0.0</td>\n",
       "      <td>136.0</td>\n",
       "      <td>41.0</td>\n",
       "    </tr>\n",
       "    <tr>\n",
       "      <th>7</th>\n",
       "      <td>2013.0</td>\n",
       "      <td>42.0</td>\n",
       "      <td>5.0</td>\n",
       "      <td>173.0</td>\n",
       "      <td>37.0</td>\n",
       "    </tr>\n",
       "    <tr>\n",
       "      <th>8</th>\n",
       "      <td>2014.0</td>\n",
       "      <td>56.0</td>\n",
       "      <td>12.0</td>\n",
       "      <td>217.0</td>\n",
       "      <td>44.0</td>\n",
       "    </tr>\n",
       "    <tr>\n",
       "      <th>9</th>\n",
       "      <td>2015.0</td>\n",
       "      <td>31.0</td>\n",
       "      <td>8.0</td>\n",
       "      <td>240.0</td>\n",
       "      <td>23.0</td>\n",
       "    </tr>\n",
       "    <tr>\n",
       "      <th>10</th>\n",
       "      <td>2016.0</td>\n",
       "      <td>14.0</td>\n",
       "      <td>8.0</td>\n",
       "      <td>246.0</td>\n",
       "      <td>6.0</td>\n",
       "    </tr>\n",
       "    <tr>\n",
       "      <th>11</th>\n",
       "      <td>2017.0</td>\n",
       "      <td>5.0</td>\n",
       "      <td>19.0</td>\n",
       "      <td>232.0</td>\n",
       "      <td>-14.0</td>\n",
       "    </tr>\n",
       "    <tr>\n",
       "      <th>12</th>\n",
       "      <td>2018.0</td>\n",
       "      <td>1.0</td>\n",
       "      <td>26.0</td>\n",
       "      <td>207.0</td>\n",
       "      <td>-25.0</td>\n",
       "    </tr>\n",
       "    <tr>\n",
       "      <th>13</th>\n",
       "      <td>2019.0</td>\n",
       "      <td>0.0</td>\n",
       "      <td>5.0</td>\n",
       "      <td>202.0</td>\n",
       "      <td>-5.0</td>\n",
       "    </tr>\n",
       "    <tr>\n",
       "      <th>14</th>\n",
       "      <td>2020.0</td>\n",
       "      <td>0.0</td>\n",
       "      <td>6.0</td>\n",
       "      <td>196.0</td>\n",
       "      <td>-6.0</td>\n",
       "    </tr>\n",
       "  </tbody>\n",
       "</table>\n",
       "</div>"
      ],
      "text/plain": [
       "     Tahun  HiredEmp  ResignedEmp  RemainedEmp  Perubahan\n",
       "0   2006.0       1.0          0.0          1.0        1.0\n",
       "1   2007.0       2.0          0.0          3.0        2.0\n",
       "2   2008.0       2.0          0.0          5.0        2.0\n",
       "3   2009.0       7.0          0.0         12.0        7.0\n",
       "4   2010.0       8.0          0.0         20.0        8.0\n",
       "5   2011.0      75.0          0.0         95.0       75.0\n",
       "6   2012.0      41.0          0.0        136.0       41.0\n",
       "7   2013.0      42.0          5.0        173.0       37.0\n",
       "8   2014.0      56.0         12.0        217.0       44.0\n",
       "9   2015.0      31.0          8.0        240.0       23.0\n",
       "10  2016.0      14.0          8.0        246.0        6.0\n",
       "11  2017.0       5.0         19.0        232.0      -14.0\n",
       "12  2018.0       1.0         26.0        207.0      -25.0\n",
       "13  2019.0       0.0          5.0        202.0       -5.0\n",
       "14  2020.0       0.0          6.0        196.0       -6.0"
      ]
     },
     "execution_count": 101,
     "metadata": {},
     "output_type": "execute_result"
    }
   ],
   "source": [
    "TotalEmp"
   ]
  },
  {
   "cell_type": "markdown",
   "id": "6b5ff659-3690-419e-b0b3-5529cadc549c",
   "metadata": {},
   "source": [
    "#### 5. Plot"
   ]
  },
  {
   "cell_type": "code",
   "execution_count": 105,
   "id": "01c2e90e-89d1-4d88-848b-f0918a2d1d21",
   "metadata": {
    "tags": []
   },
   "outputs": [
    {
     "data": {
      "image/png": "[encoded data removed]",
      "text/plain": [
       "<Figure size 1000x600 with 1 Axes>"
      ]
     },
     "metadata": {},
     "output_type": "display_data"
    }
   ],
   "source": [
    "years = TotalEmp['Tahun']\n",
    "hired = TotalEmp['HiredEmp']\n",
    "resigned = TotalEmp['ResignedEmp']\n",
    "remained = TotalEmp['RemainedEmp']\n",
    "perubahan = TotalEmp['Perubahan']\n",
    "\n",
    "plt.figure(figsize=(10, 6))\n",
    "\n",
    "cumulative_values = np.zeros(len(years))\n",
    "cumulative_values[0] = remained.iloc[0]  # Initial value\n",
    "\n",
    "increment = []\n",
    "decrement = []\n",
    "for i in range(1, len(years)):\n",
    "    increment.append(hired.iloc[i])\n",
    "    decrement.append(-resigned.iloc[i])\n",
    "    cumulative_values[i] = cumulative_values[i-1] + perubahan.iloc[i]\n",
    "\n",
    "plt.bar(years[1:], increment, color='g', label='Jumlah Karyawan Masuk')\n",
    "plt.bar(years[1:], decrement, color='r', label='Jumlah Karyawan Keluar')\n",
    "plt.bar(years, cumulative_values, color='b', label='Jumlah Karyawan Bertahan', alpha=0.5)\n",
    "\n",
    "plt.xlabel('Tahun')\n",
    "plt.ylabel('Jumlah Karyawan')\n",
    "plt.title('Waterfall Plot Jumlah Karyawan')\n",
    "plt.legend()\n",
    "\n",
    "for i in range(len(years)):\n",
    "    plt.text(years.iloc[i], cumulative_values[i], f'{cumulative_values[i]:.0f}', ha='center', va='bottom')\n",
    "\n",
    "plt.show()"
   ]
  },
  {
   "cell_type": "markdown",
   "id": "42d5f2d8-c8e8-4ae6-8b3e-14d56b35c7d3",
   "metadata": {},
   "source": [
    "#### 6. Interpretasi <br>\n",
    "\n",
    "Interpretasi dari plot di atas adalah:\n",
    "- Pada tahun 2011 & 2012, jumlah karyawan yang dipekerjakan naik secara drastis. Hal ini bisa menunjukkan bahwa kondisi perusahaan sedang sehat, sehingga mampu untuk mempekerjakan karyawan dalam jumlah banyak.\n",
    "- Pada tahun 2013 - 2015, jumlah karyawan memiliki peningkatan secara stabil, yang bisa menunjukkan kondisi perusahaan yang sedang stabil.\n",
    "- Dari tahun 2016, perusahaan mengalami penurunan jumlah karyawan, yang berlanjut terus hingga tahun 2020. Hal ini kemungkinan menunjukkan kondisi perusahaan yang sedang kurang sehat sehingga jumlah karyawan yang mengundurkan diri terus bertambah."
   ]
  },
  {
   "cell_type": "markdown",
   "id": "de9155bd-aecd-4800-b50c-65bbd98c1b3f",
   "metadata": {},
   "source": [
    "# **Resign Reason Analysis For Employee Attrition Management Strategy**"
   ]
  },
  {
   "cell_type": "markdown",
   "id": "838778a7-ff0b-4ce5-a230-b303904c2e8d",
   "metadata": {},
   "source": [
    "#### 1. Tabel Agregat"
   ]
  },
  {
   "cell_type": "code",
   "execution_count": 147,
   "id": "f26c335c-c1c1-4167-af38-3cdc015853f4",
   "metadata": {
    "tags": []
   },
   "outputs": [],
   "source": [
    "# Membuat 2 tabel berisi data karyawan yang resign dan tidak\n",
    "resign = df3[df3['TanggalResign'].notnull()]\n",
    "not_resign = df3[df3['TanggalResign'] == '-']"
   ]
  },
  {
   "cell_type": "code",
   "execution_count": 148,
   "id": "fe724d1a-d7b0-462d-96ca-2f61bc2a1424",
   "metadata": {
    "tags": []
   },
   "outputs": [],
   "source": [
    "# Agregasi berdasarkan pekerjaan\n",
    "agg_resign = resign.groupby('Pekerjaan').size().reset_index(name='TotalResign')\n",
    "agg_not_resign = not_resign.groupby('Pekerjaan').size().reset_index(name='TotalNotResign')"
   ]
  },
  {
   "cell_type": "markdown",
   "id": "0c76fa8e-6948-4338-940e-3e7aa6a8bc42",
   "metadata": {},
   "source": [
    "#### 2. Join Tabel"
   ]
  },
  {
   "cell_type": "code",
   "execution_count": 149,
   "id": "93e9883f-2dc1-40f4-9eb3-7031b242cffa",
   "metadata": {
    "tags": []
   },
   "outputs": [],
   "source": [
    "# Join 2 tabel\n",
    "resign2 = pd.merge(agg_resign, agg_not_resign, on='Pekerjaan', how='outer')"
   ]
  },
  {
   "cell_type": "code",
   "execution_count": 150,
   "id": "595080e6-b7f4-466d-8542-907415943b78",
   "metadata": {
    "tags": []
   },
   "outputs": [
    {
     "data": {
      "text/html": [
       "<div>\n",
       "<style scoped>\n",
       "    .dataframe tbody tr th:only-of-type {\n",
       "        vertical-align: middle;\n",
       "    }\n",
       "\n",
       "    .dataframe tbody tr th {\n",
       "        vertical-align: top;\n",
       "    }\n",
       "\n",
       "    .dataframe thead th {\n",
       "        text-align: right;\n",
       "    }\n",
       "</style>\n",
       "<table border=\"1\" class=\"dataframe\">\n",
       "  <thead>\n",
       "    <tr style=\"text-align: right;\">\n",
       "      <th></th>\n",
       "      <th>Pekerjaan</th>\n",
       "      <th>TotalResign</th>\n",
       "      <th>TotalNotResign</th>\n",
       "    </tr>\n",
       "  </thead>\n",
       "  <tbody>\n",
       "    <tr>\n",
       "      <th>0</th>\n",
       "      <td>Data Analyst</td>\n",
       "      <td>16</td>\n",
       "      <td>8</td>\n",
       "    </tr>\n",
       "    <tr>\n",
       "      <th>1</th>\n",
       "      <td>Data Engineer</td>\n",
       "      <td>10</td>\n",
       "      <td>7</td>\n",
       "    </tr>\n",
       "    <tr>\n",
       "      <th>2</th>\n",
       "      <td>DevOps Engineer</td>\n",
       "      <td>3</td>\n",
       "      <td>3</td>\n",
       "    </tr>\n",
       "    <tr>\n",
       "      <th>3</th>\n",
       "      <td>Digital Product Manager</td>\n",
       "      <td>2</td>\n",
       "      <td>2</td>\n",
       "    </tr>\n",
       "    <tr>\n",
       "      <th>4</th>\n",
       "      <td>Machine Learning Engineer</td>\n",
       "      <td>2</td>\n",
       "      <td>2</td>\n",
       "    </tr>\n",
       "    <tr>\n",
       "      <th>5</th>\n",
       "      <td>Product Design (UI &amp; UX)</td>\n",
       "      <td>24</td>\n",
       "      <td>15</td>\n",
       "    </tr>\n",
       "    <tr>\n",
       "      <th>6</th>\n",
       "      <td>Product Design (UX Researcher)</td>\n",
       "      <td>1</td>\n",
       "      <td>1</td>\n",
       "    </tr>\n",
       "    <tr>\n",
       "      <th>7</th>\n",
       "      <td>Product Manager</td>\n",
       "      <td>17</td>\n",
       "      <td>11</td>\n",
       "    </tr>\n",
       "    <tr>\n",
       "      <th>8</th>\n",
       "      <td>Scrum Master</td>\n",
       "      <td>3</td>\n",
       "      <td>3</td>\n",
       "    </tr>\n",
       "    <tr>\n",
       "      <th>9</th>\n",
       "      <td>Software Architect</td>\n",
       "      <td>1</td>\n",
       "      <td>1</td>\n",
       "    </tr>\n",
       "    <tr>\n",
       "      <th>10</th>\n",
       "      <td>Software Engineer (Android)</td>\n",
       "      <td>24</td>\n",
       "      <td>17</td>\n",
       "    </tr>\n",
       "    <tr>\n",
       "      <th>11</th>\n",
       "      <td>Software Engineer (Back End)</td>\n",
       "      <td>108</td>\n",
       "      <td>80</td>\n",
       "    </tr>\n",
       "    <tr>\n",
       "      <th>12</th>\n",
       "      <td>Software Engineer (Front End)</td>\n",
       "      <td>71</td>\n",
       "      <td>43</td>\n",
       "    </tr>\n",
       "    <tr>\n",
       "      <th>13</th>\n",
       "      <td>Software Engineer (iOS)</td>\n",
       "      <td>3</td>\n",
       "      <td>3</td>\n",
       "    </tr>\n",
       "  </tbody>\n",
       "</table>\n",
       "</div>"
      ],
      "text/plain": [
       "                         Pekerjaan  TotalResign  TotalNotResign\n",
       "0                     Data Analyst           16               8\n",
       "1                    Data Engineer           10               7\n",
       "2                  DevOps Engineer            3               3\n",
       "3          Digital Product Manager            2               2\n",
       "4        Machine Learning Engineer            2               2\n",
       "5         Product Design (UI & UX)           24              15\n",
       "6   Product Design (UX Researcher)            1               1\n",
       "7                  Product Manager           17              11\n",
       "8                     Scrum Master            3               3\n",
       "9               Software Architect            1               1\n",
       "10     Software Engineer (Android)           24              17\n",
       "11    Software Engineer (Back End)          108              80\n",
       "12   Software Engineer (Front End)           71              43\n",
       "13         Software Engineer (iOS)            3               3"
      ]
     },
     "execution_count": 150,
     "metadata": {},
     "output_type": "execute_result"
    }
   ],
   "source": [
    "resign2"
   ]
  },
  {
   "cell_type": "markdown",
   "id": "23e49ca8-4c38-4647-80f3-26c082fee78f",
   "metadata": {},
   "source": [
    "#### 3. Kolom Baru"
   ]
  },
  {
   "cell_type": "code",
   "execution_count": 151,
   "id": "22667264-fa70-4860-87a7-feb4878bdcff",
   "metadata": {
    "tags": []
   },
   "outputs": [],
   "source": [
    "# Membuat kolom total jumlah karyawan & presentase karyawan yang bertahan\n",
    "resign2.fillna(0, inplace=True)\n",
    "resign2['TotalKaryawan'] = resign2['TotalResign'] + resign2['TotalNotResign']\n",
    "\n",
    "resign2['PersentaseNotResign'] = resign2['TotalNotResign'] / resign2['TotalKaryawan'] * 100\n",
    "resign2['PersentaseNotResign'] = resign2['PersentaseNotResign'].round(2)"
   ]
  },
  {
   "cell_type": "code",
   "execution_count": 152,
   "id": "8131a805-e76a-46c1-b772-0fa5d0a15963",
   "metadata": {
    "tags": []
   },
   "outputs": [
    {
     "data": {
      "text/html": [
       "<div>\n",
       "<style scoped>\n",
       "    .dataframe tbody tr th:only-of-type {\n",
       "        vertical-align: middle;\n",
       "    }\n",
       "\n",
       "    .dataframe tbody tr th {\n",
       "        vertical-align: top;\n",
       "    }\n",
       "\n",
       "    .dataframe thead th {\n",
       "        text-align: right;\n",
       "    }\n",
       "</style>\n",
       "<table border=\"1\" class=\"dataframe\">\n",
       "  <thead>\n",
       "    <tr style=\"text-align: right;\">\n",
       "      <th></th>\n",
       "      <th>Pekerjaan</th>\n",
       "      <th>TotalResign</th>\n",
       "      <th>TotalNotResign</th>\n",
       "      <th>TotalKaryawan</th>\n",
       "      <th>PersentaseNotResign</th>\n",
       "    </tr>\n",
       "  </thead>\n",
       "  <tbody>\n",
       "    <tr>\n",
       "      <th>0</th>\n",
       "      <td>Data Analyst</td>\n",
       "      <td>16</td>\n",
       "      <td>8</td>\n",
       "      <td>24</td>\n",
       "      <td>33.33</td>\n",
       "    </tr>\n",
       "    <tr>\n",
       "      <th>1</th>\n",
       "      <td>Data Engineer</td>\n",
       "      <td>10</td>\n",
       "      <td>7</td>\n",
       "      <td>17</td>\n",
       "      <td>41.18</td>\n",
       "    </tr>\n",
       "    <tr>\n",
       "      <th>2</th>\n",
       "      <td>DevOps Engineer</td>\n",
       "      <td>3</td>\n",
       "      <td>3</td>\n",
       "      <td>6</td>\n",
       "      <td>50.00</td>\n",
       "    </tr>\n",
       "    <tr>\n",
       "      <th>3</th>\n",
       "      <td>Digital Product Manager</td>\n",
       "      <td>2</td>\n",
       "      <td>2</td>\n",
       "      <td>4</td>\n",
       "      <td>50.00</td>\n",
       "    </tr>\n",
       "    <tr>\n",
       "      <th>4</th>\n",
       "      <td>Machine Learning Engineer</td>\n",
       "      <td>2</td>\n",
       "      <td>2</td>\n",
       "      <td>4</td>\n",
       "      <td>50.00</td>\n",
       "    </tr>\n",
       "    <tr>\n",
       "      <th>5</th>\n",
       "      <td>Product Design (UI &amp; UX)</td>\n",
       "      <td>24</td>\n",
       "      <td>15</td>\n",
       "      <td>39</td>\n",
       "      <td>38.46</td>\n",
       "    </tr>\n",
       "    <tr>\n",
       "      <th>6</th>\n",
       "      <td>Product Design (UX Researcher)</td>\n",
       "      <td>1</td>\n",
       "      <td>1</td>\n",
       "      <td>2</td>\n",
       "      <td>50.00</td>\n",
       "    </tr>\n",
       "    <tr>\n",
       "      <th>7</th>\n",
       "      <td>Product Manager</td>\n",
       "      <td>17</td>\n",
       "      <td>11</td>\n",
       "      <td>28</td>\n",
       "      <td>39.29</td>\n",
       "    </tr>\n",
       "    <tr>\n",
       "      <th>8</th>\n",
       "      <td>Scrum Master</td>\n",
       "      <td>3</td>\n",
       "      <td>3</td>\n",
       "      <td>6</td>\n",
       "      <td>50.00</td>\n",
       "    </tr>\n",
       "    <tr>\n",
       "      <th>9</th>\n",
       "      <td>Software Architect</td>\n",
       "      <td>1</td>\n",
       "      <td>1</td>\n",
       "      <td>2</td>\n",
       "      <td>50.00</td>\n",
       "    </tr>\n",
       "    <tr>\n",
       "      <th>10</th>\n",
       "      <td>Software Engineer (Android)</td>\n",
       "      <td>24</td>\n",
       "      <td>17</td>\n",
       "      <td>41</td>\n",
       "      <td>41.46</td>\n",
       "    </tr>\n",
       "    <tr>\n",
       "      <th>11</th>\n",
       "      <td>Software Engineer (Back End)</td>\n",
       "      <td>108</td>\n",
       "      <td>80</td>\n",
       "      <td>188</td>\n",
       "      <td>42.55</td>\n",
       "    </tr>\n",
       "    <tr>\n",
       "      <th>12</th>\n",
       "      <td>Software Engineer (Front End)</td>\n",
       "      <td>71</td>\n",
       "      <td>43</td>\n",
       "      <td>114</td>\n",
       "      <td>37.72</td>\n",
       "    </tr>\n",
       "    <tr>\n",
       "      <th>13</th>\n",
       "      <td>Software Engineer (iOS)</td>\n",
       "      <td>3</td>\n",
       "      <td>3</td>\n",
       "      <td>6</td>\n",
       "      <td>50.00</td>\n",
       "    </tr>\n",
       "  </tbody>\n",
       "</table>\n",
       "</div>"
      ],
      "text/plain": [
       "                         Pekerjaan  TotalResign  TotalNotResign  \\\n",
       "0                     Data Analyst           16               8   \n",
       "1                    Data Engineer           10               7   \n",
       "2                  DevOps Engineer            3               3   \n",
       "3          Digital Product Manager            2               2   \n",
       "4        Machine Learning Engineer            2               2   \n",
       "5         Product Design (UI & UX)           24              15   \n",
       "6   Product Design (UX Researcher)            1               1   \n",
       "7                  Product Manager           17              11   \n",
       "8                     Scrum Master            3               3   \n",
       "9               Software Architect            1               1   \n",
       "10     Software Engineer (Android)           24              17   \n",
       "11    Software Engineer (Back End)          108              80   \n",
       "12   Software Engineer (Front End)           71              43   \n",
       "13         Software Engineer (iOS)            3               3   \n",
       "\n",
       "    TotalKaryawan  PersentaseNotResign  \n",
       "0              24                33.33  \n",
       "1              17                41.18  \n",
       "2               6                50.00  \n",
       "3               4                50.00  \n",
       "4               4                50.00  \n",
       "5              39                38.46  \n",
       "6               2                50.00  \n",
       "7              28                39.29  \n",
       "8               6                50.00  \n",
       "9               2                50.00  \n",
       "10             41                41.46  \n",
       "11            188                42.55  \n",
       "12            114                37.72  \n",
       "13              6                50.00  "
      ]
     },
     "execution_count": 152,
     "metadata": {},
     "output_type": "execute_result"
    }
   ],
   "source": [
    "resign2"
   ]
  },
  {
   "cell_type": "markdown",
   "id": "d4ee9cd0-878f-4e62-9c92-407209803da2",
   "metadata": {},
   "source": [
    "Divisi pekerjaan dengan jumlah total karyawan yang resign adalah Divisi **Software Engineer (Back End).**"
   ]
  },
  {
   "cell_type": "markdown",
   "id": "ac699090-59c9-41b5-afb8-579a8c7a1c8a",
   "metadata": {},
   "source": [
    "#### 4. Plot"
   ]
  },
  {
   "cell_type": "code",
   "execution_count": 129,
   "id": "8e46f7dd-cd09-4b10-8942-d18a9ac310f7",
   "metadata": {
    "tags": []
   },
   "outputs": [
    {
     "data": {
      "image/png": "[encoded data removed]",
      "text/plain": [
       "<Figure size 800x500 with 1 Axes>"
      ]
     },
     "metadata": {},
     "output_type": "display_data"
    }
   ],
   "source": [
    "plt.figure(figsize=(8, 5))\n",
    "plt.barh(resign2['Pekerjaan'], resign2['PersentaseNotResign'], color='skyblue')\n",
    "plt.xlabel('Persentase Karyawan yang Bertahan (%)')\n",
    "plt.ylabel('Pekerjaan')\n",
    "plt.title('Persentase Karyawan yang Bertahan berdasarkan Pekerjaan')\n",
    "plt.grid(True)\n",
    "plt.show()"
   ]
  },
  {
   "cell_type": "markdown",
   "id": "4673e480-a9b2-41b1-9c2c-ee2cb63d1d94",
   "metadata": {},
   "source": [
    "Kesimpulan:\n",
    "- Divisi pekerjaan Data Analyst memiliki presentase karyawan bertahan yang paling rendah, hal ini menunjukkan kemungkinan bahwa divisi Data Analyst memiliki tingkat karyawan resign yang tertinggi.\n",
    "- Divisi pekerjaan Software Engineer (ios), Software Architect, Scrum Master, Product Design (UX Researcher), Machine Learning Engineer, Digital roduct Manager, dan DevOps Engineer memiliki presentase karyawan bertahan yang paling tinggi, menunjukkan kemungkinan stabilitas pada divisi pekerjaan tersebut."
   ]
  },
  {
   "cell_type": "markdown",
   "id": "4be6bb20-0752-4bc7-867a-7f5a83f7a616",
   "metadata": {},
   "source": [
    "#### 5. Tabel Agregasi (Divisi dengan Resign Tertinggi)"
   ]
  },
  {
   "cell_type": "markdown",
   "id": "8fdbcc04-6355-4b39-94cf-ef374083e5ed",
   "metadata": {},
   "source": [
    "**Tingkat resign tertinggi berdasarkan persentase karyawan bertahan terendah**"
   ]
  },
  {
   "cell_type": "code",
   "execution_count": 155,
   "id": "519b59e8-e5b3-47c7-ac24-26585504444a",
   "metadata": {
    "tags": []
   },
   "outputs": [],
   "source": [
    "# Menemukan divisi dengan tingkat resign tertinggi\n",
    "resign_max = resign2.loc[resign2['PersentaseNotResign'].idxmin(), 'Pekerjaan']\n",
    "\n",
    "# Menghitung jumlah employee yang resign berdasarkan Jenjang Karir, Performa Karyawan, dan Alasan Resign\n",
    "detail_resign = resign[resign['Pekerjaan'] == resign_max]\\\n",
    "    .groupby(['JenjangKarir', 'PerformancePegawai', 'AlasanResign']).size().reset_index(name='JumlahResign')"
   ]
  },
  {
   "cell_type": "code",
   "execution_count": 156,
   "id": "d44d4075-2f6f-47ba-aaff-b5120110fe94",
   "metadata": {
    "tags": []
   },
   "outputs": [
    {
     "data": {
      "text/plain": [
       "'Data Analyst'"
      ]
     },
     "execution_count": 156,
     "metadata": {},
     "output_type": "execute_result"
    }
   ],
   "source": [
    "resign_max"
   ]
  },
  {
   "cell_type": "markdown",
   "id": "8f1fbf01-fed8-469b-91db-420e01bc39c8",
   "metadata": {},
   "source": [
    "Berdasarkan **persentase karyawan bertahan yang terendah**, divisi pekerjaan dengan tingkat karyawan resign yang tertingi adalah divisi **Data Analyst.**"
   ]
  },
  {
   "cell_type": "code",
   "execution_count": 157,
   "id": "47a912ad-1931-4ac3-8b58-03e5d1cdce85",
   "metadata": {
    "tags": []
   },
   "outputs": [
    {
     "data": {
      "text/html": [
       "<div>\n",
       "<style scoped>\n",
       "    .dataframe tbody tr th:only-of-type {\n",
       "        vertical-align: middle;\n",
       "    }\n",
       "\n",
       "    .dataframe tbody tr th {\n",
       "        vertical-align: top;\n",
       "    }\n",
       "\n",
       "    .dataframe thead th {\n",
       "        text-align: right;\n",
       "    }\n",
       "</style>\n",
       "<table border=\"1\" class=\"dataframe\">\n",
       "  <thead>\n",
       "    <tr style=\"text-align: right;\">\n",
       "      <th></th>\n",
       "      <th>JenjangKarir</th>\n",
       "      <th>PerformancePegawai</th>\n",
       "      <th>AlasanResign</th>\n",
       "      <th>JumlahResign</th>\n",
       "    </tr>\n",
       "  </thead>\n",
       "  <tbody>\n",
       "    <tr>\n",
       "      <th>0</th>\n",
       "      <td>Freshgraduate_program</td>\n",
       "      <td>Bagus</td>\n",
       "      <td>masih_bekerja</td>\n",
       "      <td>1</td>\n",
       "    </tr>\n",
       "    <tr>\n",
       "      <th>1</th>\n",
       "      <td>Freshgraduate_program</td>\n",
       "      <td>Bagus</td>\n",
       "      <td>toxic_culture</td>\n",
       "      <td>1</td>\n",
       "    </tr>\n",
       "    <tr>\n",
       "      <th>2</th>\n",
       "      <td>Freshgraduate_program</td>\n",
       "      <td>Biasa</td>\n",
       "      <td>internal_conflict</td>\n",
       "      <td>1</td>\n",
       "    </tr>\n",
       "    <tr>\n",
       "      <th>3</th>\n",
       "      <td>Freshgraduate_program</td>\n",
       "      <td>Biasa</td>\n",
       "      <td>masih_bekerja</td>\n",
       "      <td>1</td>\n",
       "    </tr>\n",
       "    <tr>\n",
       "      <th>4</th>\n",
       "      <td>Freshgraduate_program</td>\n",
       "      <td>Biasa</td>\n",
       "      <td>toxic_culture</td>\n",
       "      <td>1</td>\n",
       "    </tr>\n",
       "    <tr>\n",
       "      <th>5</th>\n",
       "      <td>Freshgraduate_program</td>\n",
       "      <td>Sangat_bagus</td>\n",
       "      <td>internal_conflict</td>\n",
       "      <td>1</td>\n",
       "    </tr>\n",
       "    <tr>\n",
       "      <th>6</th>\n",
       "      <td>Freshgraduate_program</td>\n",
       "      <td>Sangat_bagus</td>\n",
       "      <td>toxic_culture</td>\n",
       "      <td>3</td>\n",
       "    </tr>\n",
       "    <tr>\n",
       "      <th>7</th>\n",
       "      <td>Freshgraduate_program</td>\n",
       "      <td>Sangat_kurang</td>\n",
       "      <td>toxic_culture</td>\n",
       "      <td>1</td>\n",
       "    </tr>\n",
       "    <tr>\n",
       "      <th>8</th>\n",
       "      <td>Mid_level</td>\n",
       "      <td>Bagus</td>\n",
       "      <td>masih_bekerja</td>\n",
       "      <td>1</td>\n",
       "    </tr>\n",
       "    <tr>\n",
       "      <th>9</th>\n",
       "      <td>Mid_level</td>\n",
       "      <td>Kurang</td>\n",
       "      <td>masih_bekerja</td>\n",
       "      <td>1</td>\n",
       "    </tr>\n",
       "    <tr>\n",
       "      <th>10</th>\n",
       "      <td>Mid_level</td>\n",
       "      <td>Sangat_bagus</td>\n",
       "      <td>masih_bekerja</td>\n",
       "      <td>4</td>\n",
       "    </tr>\n",
       "  </tbody>\n",
       "</table>\n",
       "</div>"
      ],
      "text/plain": [
       "             JenjangKarir PerformancePegawai       AlasanResign  JumlahResign\n",
       "0   Freshgraduate_program              Bagus      masih_bekerja             1\n",
       "1   Freshgraduate_program              Bagus      toxic_culture             1\n",
       "2   Freshgraduate_program              Biasa  internal_conflict             1\n",
       "3   Freshgraduate_program              Biasa      masih_bekerja             1\n",
       "4   Freshgraduate_program              Biasa      toxic_culture             1\n",
       "5   Freshgraduate_program       Sangat_bagus  internal_conflict             1\n",
       "6   Freshgraduate_program       Sangat_bagus      toxic_culture             3\n",
       "7   Freshgraduate_program      Sangat_kurang      toxic_culture             1\n",
       "8               Mid_level              Bagus      masih_bekerja             1\n",
       "9               Mid_level             Kurang      masih_bekerja             1\n",
       "10              Mid_level       Sangat_bagus      masih_bekerja             4"
      ]
     },
     "execution_count": 157,
     "metadata": {},
     "output_type": "execute_result"
    }
   ],
   "source": [
    "detail_resign"
   ]
  },
  {
   "cell_type": "markdown",
   "id": "781b8b7f-06de-4fcb-b75a-24117434736f",
   "metadata": {},
   "source": [
    "**Tingkat resign tertinggi berdasarkan jumlah karyawan yang resign**"
   ]
  },
  {
   "cell_type": "code",
   "execution_count": 159,
   "id": "fd97dcae-814d-449c-ae0e-27834e805635",
   "metadata": {
    "tags": []
   },
   "outputs": [],
   "source": [
    "# Menemukan divisi dengan tingkat resign tertinggi\n",
    "resign_max2 = resign2.loc[resign2['TotalResign'].idxmax(), 'Pekerjaan']\n",
    "\n",
    "# Menghitung jumlah employee yang resign berdasarkan Jenjang Karir, Performa Karyawan, dan Alasan Resign\n",
    "detail_resign2 = resign[resign['Pekerjaan'] == resign_max2]\\\n",
    "    .groupby(['JenjangKarir', 'PerformancePegawai', 'AlasanResign']).size().reset_index(name='JumlahResign')"
   ]
  },
  {
   "cell_type": "code",
   "execution_count": 160,
   "id": "56f5ba61-90b8-4638-b43c-2e37734beba2",
   "metadata": {
    "tags": []
   },
   "outputs": [
    {
     "data": {
      "text/plain": [
       "'Software Engineer (Back End)'"
      ]
     },
     "execution_count": 160,
     "metadata": {},
     "output_type": "execute_result"
    }
   ],
   "source": [
    "resign_max2"
   ]
  },
  {
   "cell_type": "markdown",
   "id": "08bba33d-b0b3-495e-9377-90bf556b2224",
   "metadata": {},
   "source": [
    "Jika berdasarkan **jumlah karyawan yang resign**, divisi pekerjaan yang memiliki tingkat karyawan resign yang tertinggi adalah divisi **Software Engineer (Back End).**"
   ]
  },
  {
   "cell_type": "code",
   "execution_count": 161,
   "id": "b2dd5803-20e8-45f6-bae5-eba97fd9ee08",
   "metadata": {
    "tags": []
   },
   "outputs": [
    {
     "data": {
      "text/html": [
       "<div>\n",
       "<style scoped>\n",
       "    .dataframe tbody tr th:only-of-type {\n",
       "        vertical-align: middle;\n",
       "    }\n",
       "\n",
       "    .dataframe tbody tr th {\n",
       "        vertical-align: top;\n",
       "    }\n",
       "\n",
       "    .dataframe thead th {\n",
       "        text-align: right;\n",
       "    }\n",
       "</style>\n",
       "<table border=\"1\" class=\"dataframe\">\n",
       "  <thead>\n",
       "    <tr style=\"text-align: right;\">\n",
       "      <th></th>\n",
       "      <th>JenjangKarir</th>\n",
       "      <th>PerformancePegawai</th>\n",
       "      <th>AlasanResign</th>\n",
       "      <th>JumlahResign</th>\n",
       "    </tr>\n",
       "  </thead>\n",
       "  <tbody>\n",
       "    <tr>\n",
       "      <th>0</th>\n",
       "      <td>Freshgraduate_program</td>\n",
       "      <td>Bagus</td>\n",
       "      <td>kejelasan_karir</td>\n",
       "      <td>1</td>\n",
       "    </tr>\n",
       "    <tr>\n",
       "      <th>1</th>\n",
       "      <td>Freshgraduate_program</td>\n",
       "      <td>Bagus</td>\n",
       "      <td>masih_bekerja</td>\n",
       "      <td>11</td>\n",
       "    </tr>\n",
       "    <tr>\n",
       "      <th>2</th>\n",
       "      <td>Freshgraduate_program</td>\n",
       "      <td>Bagus</td>\n",
       "      <td>toxic_culture</td>\n",
       "      <td>1</td>\n",
       "    </tr>\n",
       "    <tr>\n",
       "      <th>3</th>\n",
       "      <td>Freshgraduate_program</td>\n",
       "      <td>Biasa</td>\n",
       "      <td>ganti_karir</td>\n",
       "      <td>2</td>\n",
       "    </tr>\n",
       "    <tr>\n",
       "      <th>4</th>\n",
       "      <td>Freshgraduate_program</td>\n",
       "      <td>Biasa</td>\n",
       "      <td>jam_kerja</td>\n",
       "      <td>1</td>\n",
       "    </tr>\n",
       "    <tr>\n",
       "      <th>5</th>\n",
       "      <td>Freshgraduate_program</td>\n",
       "      <td>Biasa</td>\n",
       "      <td>kejelasan_karir</td>\n",
       "      <td>1</td>\n",
       "    </tr>\n",
       "    <tr>\n",
       "      <th>6</th>\n",
       "      <td>Freshgraduate_program</td>\n",
       "      <td>Biasa</td>\n",
       "      <td>leadership</td>\n",
       "      <td>1</td>\n",
       "    </tr>\n",
       "    <tr>\n",
       "      <th>7</th>\n",
       "      <td>Freshgraduate_program</td>\n",
       "      <td>Biasa</td>\n",
       "      <td>masih_bekerja</td>\n",
       "      <td>18</td>\n",
       "    </tr>\n",
       "    <tr>\n",
       "      <th>8</th>\n",
       "      <td>Freshgraduate_program</td>\n",
       "      <td>Biasa</td>\n",
       "      <td>tidak_bisa_remote</td>\n",
       "      <td>1</td>\n",
       "    </tr>\n",
       "    <tr>\n",
       "      <th>9</th>\n",
       "      <td>Freshgraduate_program</td>\n",
       "      <td>Kurang</td>\n",
       "      <td>ganti_karir</td>\n",
       "      <td>1</td>\n",
       "    </tr>\n",
       "    <tr>\n",
       "      <th>10</th>\n",
       "      <td>Freshgraduate_program</td>\n",
       "      <td>Kurang</td>\n",
       "      <td>jam_kerja</td>\n",
       "      <td>1</td>\n",
       "    </tr>\n",
       "    <tr>\n",
       "      <th>11</th>\n",
       "      <td>Freshgraduate_program</td>\n",
       "      <td>Kurang</td>\n",
       "      <td>masih_bekerja</td>\n",
       "      <td>5</td>\n",
       "    </tr>\n",
       "    <tr>\n",
       "      <th>12</th>\n",
       "      <td>Freshgraduate_program</td>\n",
       "      <td>Kurang</td>\n",
       "      <td>tidak_bahagia</td>\n",
       "      <td>1</td>\n",
       "    </tr>\n",
       "    <tr>\n",
       "      <th>13</th>\n",
       "      <td>Freshgraduate_program</td>\n",
       "      <td>Sangat_bagus</td>\n",
       "      <td>leadership</td>\n",
       "      <td>1</td>\n",
       "    </tr>\n",
       "    <tr>\n",
       "      <th>14</th>\n",
       "      <td>Freshgraduate_program</td>\n",
       "      <td>Sangat_bagus</td>\n",
       "      <td>masih_bekerja</td>\n",
       "      <td>8</td>\n",
       "    </tr>\n",
       "    <tr>\n",
       "      <th>15</th>\n",
       "      <td>Freshgraduate_program</td>\n",
       "      <td>Sangat_bagus</td>\n",
       "      <td>tidak_bahagia</td>\n",
       "      <td>1</td>\n",
       "    </tr>\n",
       "    <tr>\n",
       "      <th>16</th>\n",
       "      <td>Freshgraduate_program</td>\n",
       "      <td>Sangat_bagus</td>\n",
       "      <td>tidak_bisa_remote</td>\n",
       "      <td>2</td>\n",
       "    </tr>\n",
       "    <tr>\n",
       "      <th>17</th>\n",
       "      <td>Freshgraduate_program</td>\n",
       "      <td>Sangat_kurang</td>\n",
       "      <td>masih_bekerja</td>\n",
       "      <td>3</td>\n",
       "    </tr>\n",
       "    <tr>\n",
       "      <th>18</th>\n",
       "      <td>Mid_level</td>\n",
       "      <td>Bagus</td>\n",
       "      <td>masih_bekerja</td>\n",
       "      <td>7</td>\n",
       "    </tr>\n",
       "    <tr>\n",
       "      <th>19</th>\n",
       "      <td>Mid_level</td>\n",
       "      <td>Biasa</td>\n",
       "      <td>kejelasan_karir</td>\n",
       "      <td>1</td>\n",
       "    </tr>\n",
       "    <tr>\n",
       "      <th>20</th>\n",
       "      <td>Mid_level</td>\n",
       "      <td>Biasa</td>\n",
       "      <td>masih_bekerja</td>\n",
       "      <td>6</td>\n",
       "    </tr>\n",
       "    <tr>\n",
       "      <th>21</th>\n",
       "      <td>Mid_level</td>\n",
       "      <td>Kurang</td>\n",
       "      <td>masih_bekerja</td>\n",
       "      <td>2</td>\n",
       "    </tr>\n",
       "    <tr>\n",
       "      <th>22</th>\n",
       "      <td>Mid_level</td>\n",
       "      <td>Sangat_bagus</td>\n",
       "      <td>Product Design (UI &amp; UX)</td>\n",
       "      <td>1</td>\n",
       "    </tr>\n",
       "    <tr>\n",
       "      <th>23</th>\n",
       "      <td>Mid_level</td>\n",
       "      <td>Sangat_bagus</td>\n",
       "      <td>ganti_karir</td>\n",
       "      <td>1</td>\n",
       "    </tr>\n",
       "    <tr>\n",
       "      <th>24</th>\n",
       "      <td>Mid_level</td>\n",
       "      <td>Sangat_bagus</td>\n",
       "      <td>internal_conflict</td>\n",
       "      <td>1</td>\n",
       "    </tr>\n",
       "    <tr>\n",
       "      <th>25</th>\n",
       "      <td>Mid_level</td>\n",
       "      <td>Sangat_bagus</td>\n",
       "      <td>jam_kerja</td>\n",
       "      <td>2</td>\n",
       "    </tr>\n",
       "    <tr>\n",
       "      <th>26</th>\n",
       "      <td>Mid_level</td>\n",
       "      <td>Sangat_bagus</td>\n",
       "      <td>masih_bekerja</td>\n",
       "      <td>1</td>\n",
       "    </tr>\n",
       "    <tr>\n",
       "      <th>27</th>\n",
       "      <td>Mid_level</td>\n",
       "      <td>Sangat_kurang</td>\n",
       "      <td>jam_kerja</td>\n",
       "      <td>1</td>\n",
       "    </tr>\n",
       "    <tr>\n",
       "      <th>28</th>\n",
       "      <td>Mid_level</td>\n",
       "      <td>Sangat_kurang</td>\n",
       "      <td>masih_bekerja</td>\n",
       "      <td>1</td>\n",
       "    </tr>\n",
       "    <tr>\n",
       "      <th>29</th>\n",
       "      <td>Senior_level</td>\n",
       "      <td>Bagus</td>\n",
       "      <td>masih_bekerja</td>\n",
       "      <td>3</td>\n",
       "    </tr>\n",
       "    <tr>\n",
       "      <th>30</th>\n",
       "      <td>Senior_level</td>\n",
       "      <td>Bagus</td>\n",
       "      <td>tidak_bahagia</td>\n",
       "      <td>1</td>\n",
       "    </tr>\n",
       "    <tr>\n",
       "      <th>31</th>\n",
       "      <td>Senior_level</td>\n",
       "      <td>Biasa</td>\n",
       "      <td>internal_conflict</td>\n",
       "      <td>1</td>\n",
       "    </tr>\n",
       "    <tr>\n",
       "      <th>32</th>\n",
       "      <td>Senior_level</td>\n",
       "      <td>Biasa</td>\n",
       "      <td>kejelasan_karir</td>\n",
       "      <td>1</td>\n",
       "    </tr>\n",
       "    <tr>\n",
       "      <th>33</th>\n",
       "      <td>Senior_level</td>\n",
       "      <td>Biasa</td>\n",
       "      <td>masih_bekerja</td>\n",
       "      <td>9</td>\n",
       "    </tr>\n",
       "    <tr>\n",
       "      <th>34</th>\n",
       "      <td>Senior_level</td>\n",
       "      <td>Kurang</td>\n",
       "      <td>masih_bekerja</td>\n",
       "      <td>1</td>\n",
       "    </tr>\n",
       "    <tr>\n",
       "      <th>35</th>\n",
       "      <td>Senior_level</td>\n",
       "      <td>Sangat_bagus</td>\n",
       "      <td>masih_bekerja</td>\n",
       "      <td>5</td>\n",
       "    </tr>\n",
       "    <tr>\n",
       "      <th>36</th>\n",
       "      <td>Senior_level</td>\n",
       "      <td>Sangat_bagus</td>\n",
       "      <td>tidak_bahagia</td>\n",
       "      <td>2</td>\n",
       "    </tr>\n",
       "    <tr>\n",
       "      <th>37</th>\n",
       "      <td>Senior_level</td>\n",
       "      <td>Sangat_kurang</td>\n",
       "      <td>jam_kerja</td>\n",
       "      <td>1</td>\n",
       "    </tr>\n",
       "  </tbody>\n",
       "</table>\n",
       "</div>"
      ],
      "text/plain": [
       "             JenjangKarir PerformancePegawai              AlasanResign  \\\n",
       "0   Freshgraduate_program              Bagus           kejelasan_karir   \n",
       "1   Freshgraduate_program              Bagus             masih_bekerja   \n",
       "2   Freshgraduate_program              Bagus             toxic_culture   \n",
       "3   Freshgraduate_program              Biasa               ganti_karir   \n",
       "4   Freshgraduate_program              Biasa                 jam_kerja   \n",
       "5   Freshgraduate_program              Biasa           kejelasan_karir   \n",
       "6   Freshgraduate_program              Biasa                leadership   \n",
       "7   Freshgraduate_program              Biasa             masih_bekerja   \n",
       "8   Freshgraduate_program              Biasa         tidak_bisa_remote   \n",
       "9   Freshgraduate_program             Kurang               ganti_karir   \n",
       "10  Freshgraduate_program             Kurang                 jam_kerja   \n",
       "11  Freshgraduate_program             Kurang             masih_bekerja   \n",
       "12  Freshgraduate_program             Kurang             tidak_bahagia   \n",
       "13  Freshgraduate_program       Sangat_bagus                leadership   \n",
       "14  Freshgraduate_program       Sangat_bagus             masih_bekerja   \n",
       "15  Freshgraduate_program       Sangat_bagus             tidak_bahagia   \n",
       "16  Freshgraduate_program       Sangat_bagus         tidak_bisa_remote   \n",
       "17  Freshgraduate_program      Sangat_kurang             masih_bekerja   \n",
       "18              Mid_level              Bagus             masih_bekerja   \n",
       "19              Mid_level              Biasa           kejelasan_karir   \n",
       "20              Mid_level              Biasa             masih_bekerja   \n",
       "21              Mid_level             Kurang             masih_bekerja   \n",
       "22              Mid_level       Sangat_bagus  Product Design (UI & UX)   \n",
       "23              Mid_level       Sangat_bagus               ganti_karir   \n",
       "24              Mid_level       Sangat_bagus         internal_conflict   \n",
       "25              Mid_level       Sangat_bagus                 jam_kerja   \n",
       "26              Mid_level       Sangat_bagus             masih_bekerja   \n",
       "27              Mid_level      Sangat_kurang                 jam_kerja   \n",
       "28              Mid_level      Sangat_kurang             masih_bekerja   \n",
       "29           Senior_level              Bagus             masih_bekerja   \n",
       "30           Senior_level              Bagus             tidak_bahagia   \n",
       "31           Senior_level              Biasa         internal_conflict   \n",
       "32           Senior_level              Biasa           kejelasan_karir   \n",
       "33           Senior_level              Biasa             masih_bekerja   \n",
       "34           Senior_level             Kurang             masih_bekerja   \n",
       "35           Senior_level       Sangat_bagus             masih_bekerja   \n",
       "36           Senior_level       Sangat_bagus             tidak_bahagia   \n",
       "37           Senior_level      Sangat_kurang                 jam_kerja   \n",
       "\n",
       "    JumlahResign  \n",
       "0              1  \n",
       "1             11  \n",
       "2              1  \n",
       "3              2  \n",
       "4              1  \n",
       "5              1  \n",
       "6              1  \n",
       "7             18  \n",
       "8              1  \n",
       "9              1  \n",
       "10             1  \n",
       "11             5  \n",
       "12             1  \n",
       "13             1  \n",
       "14             8  \n",
       "15             1  \n",
       "16             2  \n",
       "17             3  \n",
       "18             7  \n",
       "19             1  \n",
       "20             6  \n",
       "21             2  \n",
       "22             1  \n",
       "23             1  \n",
       "24             1  \n",
       "25             2  \n",
       "26             1  \n",
       "27             1  \n",
       "28             1  \n",
       "29             3  \n",
       "30             1  \n",
       "31             1  \n",
       "32             1  \n",
       "33             9  \n",
       "34             1  \n",
       "35             5  \n",
       "36             2  \n",
       "37             1  "
      ]
     },
     "execution_count": 161,
     "metadata": {},
     "output_type": "execute_result"
    }
   ],
   "source": [
    "detail_resign2"
   ]
  },
  {
   "cell_type": "markdown",
   "id": "aedf9f4d-df5a-4f49-bfc5-075e0206d6e8",
   "metadata": {},
   "source": [
    "#### 6. Plot (Divisi dengan Tingkat Resign Tertinggi berdasarkan Jenjang Karir, Performa Karyawan, dan Alasan Resign"
   ]
  },
  {
   "cell_type": "markdown",
   "id": "3d4a48b7-8ed3-48d3-9671-ebf27810c8be",
   "metadata": {},
   "source": [
    "##### **Divisi Data Analyst** (berdasarkan tingkat karyawan bertahan terendah)"
   ]
  },
  {
   "cell_type": "code",
   "execution_count": 165,
   "id": "9f875b39-6051-418c-b5fc-5ff7dcc45fc1",
   "metadata": {
    "tags": []
   },
   "outputs": [
    {
     "data": {
      "application/vnd.plotly.v1+json": {
       "config": {
        "plotlyServerURL": "https://plot.ly"
       },
       "data": [
        {
         "branchvalues": "total",
         "domain": {
          "x": [
           0,
           1
          ],
          "y": [
           0,
           1
          ]
         },
         "hovertemplate": "labels=%{label}<br>JumlahResign=%{value}<br>parent=%{parent}<br>id=%{id}<extra></extra>",
         "ids": [
          "Freshgraduate_program/Biasa/internal_conflict",
          "Freshgraduate_program/Sangat_bagus/internal_conflict",
          "Freshgraduate_program/Bagus/masih_bekerja",
          "Mid_level/Bagus/masih_bekerja",
          "Freshgraduate_program/Biasa/masih_bekerja",
          "Mid_level/Kurang/masih_bekerja",
          "Mid_level/Sangat_bagus/masih_bekerja",
          "Freshgraduate_program/Bagus/toxic_culture",
          "Freshgraduate_program/Biasa/toxic_culture",
          "Freshgraduate_program/Sangat_bagus/toxic_culture",
          "Freshgraduate_program/Sangat_kurang/toxic_culture",
          "Freshgraduate_program/Bagus",
          "Mid_level/Bagus",
          "Freshgraduate_program/Biasa",
          "Mid_level/Kurang",
          "Freshgraduate_program/Sangat_bagus",
          "Mid_level/Sangat_bagus",
          "Freshgraduate_program/Sangat_kurang",
          "Freshgraduate_program",
          "Mid_level"
         ],
         "labels": [
          "internal_conflict",
          "internal_conflict",
          "masih_bekerja",
          "masih_bekerja",
          "masih_bekerja",
          "masih_bekerja",
          "masih_bekerja",
          "toxic_culture",
          "toxic_culture",
          "toxic_culture",
          "toxic_culture",
          "Bagus",
          "Bagus",
          "Biasa",
          "Kurang",
          "Sangat_bagus",
          "Sangat_bagus",
          "Sangat_kurang",
          "Freshgraduate_program",
          "Mid_level"
         ],
         "name": "",
         "parents": [
          "Freshgraduate_program/Biasa",
          "Freshgraduate_program/Sangat_bagus",
          "Freshgraduate_program/Bagus",
          "Mid_level/Bagus",
          "Freshgraduate_program/Biasa",
          "Mid_level/Kurang",
          "Mid_level/Sangat_bagus",
          "Freshgraduate_program/Bagus",
          "Freshgraduate_program/Biasa",
          "Freshgraduate_program/Sangat_bagus",
          "Freshgraduate_program/Sangat_kurang",
          "Freshgraduate_program",
          "Mid_level",
          "Freshgraduate_program",
          "Mid_level",
          "Freshgraduate_program",
          "Mid_level",
          "Freshgraduate_program",
          "",
          ""
         ],
         "type": "sunburst",
         "values": [
          1,
          1,
          1,
          1,
          1,
          1,
          4,
          1,
          1,
          3,
          1,
          2,
          1,
          3,
          1,
          4,
          4,
          1,
          10,
          6
         ]
        }
       ],
       "layout": {
        "height": 800,
        "legend": {
         "tracegroupgap": 0
        },
        "template": {
         "data": {
          "bar": [
           {
            "error_x": {
             "color": "#2a3f5f"
            },
            "error_y": {
             "color": "#2a3f5f"
            },
            "marker": {
             "line": {
              "color": "#E5ECF6",
              "width": 0.5
             },
             "pattern": {
              "fillmode": "overlay",
              "size": 10,
              "solidity": 0.2
             }
            },
            "type": "bar"
           }
          ],
          "barpolar": [
           {
            "marker": {
             "line": {
              "color": "#E5ECF6",
              "width": 0.5
             },
             "pattern": {
              "fillmode": "overlay",
              "size": 10,
              "solidity": 0.2
             }
            },
            "type": "barpolar"
           }
          ],
          "carpet": [
           {
            "aaxis": {
             "endlinecolor": "#2a3f5f",
             "gridcolor": "white",
             "linecolor": "white",
             "minorgridcolor": "white",
             "startlinecolor": "#2a3f5f"
            },
            "baxis": {
             "endlinecolor": "#2a3f5f",
             "gridcolor": "white",
             "linecolor": "white",
             "minorgridcolor": "white",
             "startlinecolor": "#2a3f5f"
            },
            "type": "carpet"
           }
          ],
          "choropleth": [
           {
            "colorbar": {
             "outlinewidth": 0,
             "ticks": ""
            },
            "type": "choropleth"
           }
          ],
          "contour": [
           {
            "colorbar": {
             "outlinewidth": 0,
             "ticks": ""
            },
            "colorscale": [
             [
              0,
              "#0d0887"
             ],
             [
              0.1111111111111111,
              "#46039f"
             ],
             [
              0.2222222222222222,
              "#7201a8"
             ],
             [
              0.3333333333333333,
              "#9c179e"
             ],
             [
              0.4444444444444444,
              "#bd3786"
             ],
             [
              0.5555555555555556,
              "#d8576b"
             ],
             [
              0.6666666666666666,
              "#ed7953"
             ],
             [
              0.7777777777777778,
              "#fb9f3a"
             ],
             [
              0.8888888888888888,
              "#fdca26"
             ],
             [
              1,
              "#f0f921"
             ]
            ],
            "type": "contour"
           }
          ],
          "contourcarpet": [
           {
            "colorbar": {
             "outlinewidth": 0,
             "ticks": ""
            },
            "type": "contourcarpet"
           }
          ],
          "heatmap": [
           {
            "colorbar": {
             "outlinewidth": 0,
             "ticks": ""
            },
            "colorscale": [
             [
              0,
              "#0d0887"
             ],
             [
              0.1111111111111111,
              "#46039f"
             ],
             [
              0.2222222222222222,
              "#7201a8"
             ],
             [
              0.3333333333333333,
              "#9c179e"
             ],
             [
              0.4444444444444444,
              "#bd3786"
             ],
             [
              0.5555555555555556,
              "#d8576b"
             ],
             [
              0.6666666666666666,
              "#ed7953"
             ],
             [
              0.7777777777777778,
              "#fb9f3a"
             ],
             [
              0.8888888888888888,
              "#fdca26"
             ],
             [
              1,
              "#f0f921"
             ]
            ],
            "type": "heatmap"
           }
          ],
          "heatmapgl": [
           {
            "colorbar": {
             "outlinewidth": 0,
             "ticks": ""
            },
            "colorscale": [
             [
              0,
              "#0d0887"
             ],
             [
              0.1111111111111111,
              "#46039f"
             ],
             [
              0.2222222222222222,
              "#7201a8"
             ],
             [
              0.3333333333333333,
              "#9c179e"
             ],
             [
              0.4444444444444444,
              "#bd3786"
             ],
             [
              0.5555555555555556,
              "#d8576b"
             ],
             [
              0.6666666666666666,
              "#ed7953"
             ],
             [
              0.7777777777777778,
              "#fb9f3a"
             ],
             [
              0.8888888888888888,
              "#fdca26"
             ],
             [
              1,
              "#f0f921"
             ]
            ],
            "type": "heatmapgl"
           }
          ],
          "histogram": [
           {
            "marker": {
             "pattern": {
              "fillmode": "overlay",
              "size": 10,
              "solidity": 0.2
             }
            },
            "type": "histogram"
           }
          ],
          "histogram2d": [
           {
            "colorbar": {
             "outlinewidth": 0,
             "ticks": ""
            },
            "colorscale": [
             [
              0,
              "#0d0887"
             ],
             [
              0.1111111111111111,
              "#46039f"
             ],
             [
              0.2222222222222222,
              "#7201a8"
             ],
             [
              0.3333333333333333,
              "#9c179e"
             ],
             [
              0.4444444444444444,
              "#bd3786"
             ],
             [
              0.5555555555555556,
              "#d8576b"
             ],
             [
              0.6666666666666666,
              "#ed7953"
             ],
             [
              0.7777777777777778,
              "#fb9f3a"
             ],
             [
              0.8888888888888888,
              "#fdca26"
             ],
             [
              1,
              "#f0f921"
             ]
            ],
            "type": "histogram2d"
           }
          ],
          "histogram2dcontour": [
           {
            "colorbar": {
             "outlinewidth": 0,
             "ticks": ""
            },
            "colorscale": [
             [
              0,
              "#0d0887"
             ],
             [
              0.1111111111111111,
              "#46039f"
             ],
             [
              0.2222222222222222,
              "#7201a8"
             ],
             [
              0.3333333333333333,
              "#9c179e"
             ],
             [
              0.4444444444444444,
              "#bd3786"
             ],
             [
              0.5555555555555556,
              "#d8576b"
             ],
             [
              0.6666666666666666,
              "#ed7953"
             ],
             [
              0.7777777777777778,
              "#fb9f3a"
             ],
             [
              0.8888888888888888,
              "#fdca26"
             ],
             [
              1,
              "#f0f921"
             ]
            ],
            "type": "histogram2dcontour"
           }
          ],
          "mesh3d": [
           {
            "colorbar": {
             "outlinewidth": 0,
             "ticks": ""
            },
            "type": "mesh3d"
           }
          ],
          "parcoords": [
           {
            "line": {
             "colorbar": {
              "outlinewidth": 0,
              "ticks": ""
             }
            },
            "type": "parcoords"
           }
          ],
          "pie": [
           {
            "automargin": true,
            "type": "pie"
           }
          ],
          "scatter": [
           {
            "fillpattern": {
             "fillmode": "overlay",
             "size": 10,
             "solidity": 0.2
            },
            "type": "scatter"
           }
          ],
          "scatter3d": [
           {
            "line": {
             "colorbar": {
              "outlinewidth": 0,
              "ticks": ""
             }
            },
            "marker": {
             "colorbar": {
              "outlinewidth": 0,
              "ticks": ""
             }
            },
            "type": "scatter3d"
           }
          ],
          "scattercarpet": [
           {
            "marker": {
             "colorbar": {
              "outlinewidth": 0,
              "ticks": ""
             }
            },
            "type": "scattercarpet"
           }
          ],
          "scattergeo": [
           {
            "marker": {
             "colorbar": {
              "outlinewidth": 0,
              "ticks": ""
             }
            },
            "type": "scattergeo"
           }
          ],
          "scattergl": [
           {
            "marker": {
             "colorbar": {
              "outlinewidth": 0,
              "ticks": ""
             }
            },
            "type": "scattergl"
           }
          ],
          "scattermapbox": [
           {
            "marker": {
             "colorbar": {
              "outlinewidth": 0,
              "ticks": ""
             }
            },
            "type": "scattermapbox"
           }
          ],
          "scatterpolar": [
           {
            "marker": {
             "colorbar": {
              "outlinewidth": 0,
              "ticks": ""
             }
            },
            "type": "scatterpolar"
           }
          ],
          "scatterpolargl": [
           {
            "marker": {
             "colorbar": {
              "outlinewidth": 0,
              "ticks": ""
             }
            },
            "type": "scatterpolargl"
           }
          ],
          "scatterternary": [
           {
            "marker": {
             "colorbar": {
              "outlinewidth": 0,
              "ticks": ""
             }
            },
            "type": "scatterternary"
           }
          ],
          "surface": [
           {
            "colorbar": {
             "outlinewidth": 0,
             "ticks": ""
            },
            "colorscale": [
             [
              0,
              "#0d0887"
             ],
             [
              0.1111111111111111,
              "#46039f"
             ],
             [
              0.2222222222222222,
              "#7201a8"
             ],
             [
              0.3333333333333333,
              "#9c179e"
             ],
             [
              0.4444444444444444,
              "#bd3786"
             ],
             [
              0.5555555555555556,
              "#d8576b"
             ],
             [
              0.6666666666666666,
              "#ed7953"
             ],
             [
              0.7777777777777778,
              "#fb9f3a"
             ],
             [
              0.8888888888888888,
              "#fdca26"
             ],
             [
              1,
              "#f0f921"
             ]
            ],
            "type": "surface"
           }
          ],
          "table": [
           {
            "cells": {
             "fill": {
              "color": "#EBF0F8"
             },
             "line": {
              "color": "white"
             }
            },
            "header": {
             "fill": {
              "color": "#C8D4E3"
             },
             "line": {
              "color": "white"
             }
            },
            "type": "table"
           }
          ]
         },
         "layout": {
          "annotationdefaults": {
           "arrowcolor": "#2a3f5f",
           "arrowhead": 0,
           "arrowwidth": 1
          },
          "autotypenumbers": "strict",
          "coloraxis": {
           "colorbar": {
            "outlinewidth": 0,
            "ticks": ""
           }
          },
          "colorscale": {
           "diverging": [
            [
             0,
             "#8e0152"
            ],
            [
             0.1,
             "#c51b7d"
            ],
            [
             0.2,
             "#de77ae"
            ],
            [
             0.3,
             "#f1b6da"
            ],
            [
             0.4,
             "#fde0ef"
            ],
            [
             0.5,
             "#f7f7f7"
            ],
            [
             0.6,
             "#e6f5d0"
            ],
            [
             0.7,
             "#b8e186"
            ],
            [
             0.8,
             "#7fbc41"
            ],
            [
             0.9,
             "#4d9221"
            ],
            [
             1,
             "#276419"
            ]
           ],
           "sequential": [
            [
             0,
             "#0d0887"
            ],
            [
             0.1111111111111111,
             "#46039f"
            ],
            [
             0.2222222222222222,
             "#7201a8"
            ],
            [
             0.3333333333333333,
             "#9c179e"
            ],
            [
             0.4444444444444444,
             "#bd3786"
            ],
            [
             0.5555555555555556,
             "#d8576b"
            ],
            [
             0.6666666666666666,
             "#ed7953"
            ],
            [
             0.7777777777777778,
             "#fb9f3a"
            ],
            [
             0.8888888888888888,
             "#fdca26"
            ],
            [
             1,
             "#f0f921"
            ]
           ],
           "sequentialminus": [
            [
             0,
             "#0d0887"
            ],
            [
             0.1111111111111111,
             "#46039f"
            ],
            [
             0.2222222222222222,
             "#7201a8"
            ],
            [
             0.3333333333333333,
             "#9c179e"
            ],
            [
             0.4444444444444444,
             "#bd3786"
            ],
            [
             0.5555555555555556,
             "#d8576b"
            ],
            [
             0.6666666666666666,
             "#ed7953"
            ],
            [
             0.7777777777777778,
             "#fb9f3a"
            ],
            [
             0.8888888888888888,
             "#fdca26"
            ],
            [
             1,
             "#f0f921"
            ]
           ]
          },
          "colorway": [
           "#636efa",
           "#EF553B",
           "#00cc96",
           "#ab63fa",
           "#FFA15A",
           "#19d3f3",
           "#FF6692",
           "#B6E880",
           "#FF97FF",
           "#FECB52"
          ],
          "font": {
           "color": "#2a3f5f"
          },
          "geo": {
           "bgcolor": "white",
           "lakecolor": "white",
           "landcolor": "#E5ECF6",
           "showlakes": true,
           "showland": true,
           "subunitcolor": "white"
          },
          "hoverlabel": {
           "align": "left"
          },
          "hovermode": "closest",
          "mapbox": {
           "style": "light"
          },
          "paper_bgcolor": "white",
          "plot_bgcolor": "#E5ECF6",
          "polar": {
           "angularaxis": {
            "gridcolor": "white",
            "linecolor": "white",
            "ticks": ""
           },
           "bgcolor": "#E5ECF6",
           "radialaxis": {
            "gridcolor": "white",
            "linecolor": "white",
            "ticks": ""
           }
          },
          "scene": {
           "xaxis": {
            "backgroundcolor": "#E5ECF6",
            "gridcolor": "white",
            "gridwidth": 2,
            "linecolor": "white",
            "showbackground": true,
            "ticks": "",
            "zerolinecolor": "white"
           },
           "yaxis": {
            "backgroundcolor": "#E5ECF6",
            "gridcolor": "white",
            "gridwidth": 2,
            "linecolor": "white",
            "showbackground": true,
            "ticks": "",
            "zerolinecolor": "white"
           },
           "zaxis": {
            "backgroundcolor": "#E5ECF6",
            "gridcolor": "white",
            "gridwidth": 2,
            "linecolor": "white",
            "showbackground": true,
            "ticks": "",
            "zerolinecolor": "white"
           }
          },
          "shapedefaults": {
           "line": {
            "color": "#2a3f5f"
           }
          },
          "ternary": {
           "aaxis": {
            "gridcolor": "white",
            "linecolor": "white",
            "ticks": ""
           },
           "baxis": {
            "gridcolor": "white",
            "linecolor": "white",
            "ticks": ""
           },
           "bgcolor": "#E5ECF6",
           "caxis": {
            "gridcolor": "white",
            "linecolor": "white",
            "ticks": ""
           }
          },
          "title": {
           "x": 0.05
          },
          "xaxis": {
           "automargin": true,
           "gridcolor": "white",
           "linecolor": "white",
           "ticks": "",
           "title": {
            "standoff": 15
           },
           "zerolinecolor": "white",
           "zerolinewidth": 2
          },
          "yaxis": {
           "automargin": true,
           "gridcolor": "white",
           "linecolor": "white",
           "ticks": "",
           "title": {
            "standoff": 15
           },
           "zerolinecolor": "white",
           "zerolinewidth": 2
          }
         }
        },
        "title": {
         "text": "Jumlah Resign pada Divisi Data Analyst"
        },
        "width": 800
       }
      },
      "image/png": "[encoded data removed]",
      "text/html": [
       "<div>                            <div id=\"c311680e-b61a-4f5f-ba67-cef51baafe58\" class=\"plotly-graph-div\" style=\"height:800px; width:800px;\"></div>            <script type=\"text/javascript\">                require([\"plotly\"], function(Plotly) {                    window.PLOTLYENV=window.PLOTLYENV || {};                                    if (document.getElementById(\"c311680e-b61a-4f5f-ba67-cef51baafe58\")) {                    Plotly.newPlot(                        \"c311680e-b61a-4f5f-ba67-cef51baafe58\",                        [{\"branchvalues\":\"total\",\"domain\":{\"x\":[0.0,1.0],\"y\":[0.0,1.0]},\"hovertemplate\":\"labels=%{label}<br>JumlahResign=%{value}<br>parent=%{parent}<br>id=%{id}<extra></extra>\",\"ids\":[\"Freshgraduate_program/Biasa/internal_conflict\",\"Freshgraduate_program/Sangat_bagus/internal_conflict\",\"Freshgraduate_program/Bagus/masih_bekerja\",\"Mid_level/Bagus/masih_bekerja\",\"Freshgraduate_program/Biasa/masih_bekerja\",\"Mid_level/Kurang/masih_bekerja\",\"Mid_level/Sangat_bagus/masih_bekerja\",\"Freshgraduate_program/Bagus/toxic_culture\",\"Freshgraduate_program/Biasa/toxic_culture\",\"Freshgraduate_program/Sangat_bagus/toxic_culture\",\"Freshgraduate_program/Sangat_kurang/toxic_culture\",\"Freshgraduate_program/Bagus\",\"Mid_level/Bagus\",\"Freshgraduate_program/Biasa\",\"Mid_level/Kurang\",\"Freshgraduate_program/Sangat_bagus\",\"Mid_level/Sangat_bagus\",\"Freshgraduate_program/Sangat_kurang\",\"Freshgraduate_program\",\"Mid_level\"],\"labels\":[\"internal_conflict\",\"internal_conflict\",\"masih_bekerja\",\"masih_bekerja\",\"masih_bekerja\",\"masih_bekerja\",\"masih_bekerja\",\"toxic_culture\",\"toxic_culture\",\"toxic_culture\",\"toxic_culture\",\"Bagus\",\"Bagus\",\"Biasa\",\"Kurang\",\"Sangat_bagus\",\"Sangat_bagus\",\"Sangat_kurang\",\"Freshgraduate_program\",\"Mid_level\"],\"name\":\"\",\"parents\":[\"Freshgraduate_program/Biasa\",\"Freshgraduate_program/Sangat_bagus\",\"Freshgraduate_program/Bagus\",\"Mid_level/Bagus\",\"Freshgraduate_program/Biasa\",\"Mid_level/Kurang\",\"Mid_level/Sangat_bagus\",\"Freshgraduate_program/Bagus\",\"Freshgraduate_program/Biasa\",\"Freshgraduate_program/Sangat_bagus\",\"Freshgraduate_program/Sangat_kurang\",\"Freshgraduate_program\",\"Mid_level\",\"Freshgraduate_program\",\"Mid_level\",\"Freshgraduate_program\",\"Mid_level\",\"Freshgraduate_program\",\"\",\"\"],\"values\":[1,1,1,1,1,1,4,1,1,3,1,2,1,3,1,4,4,1,10,6],\"type\":\"sunburst\"}],                        {\"template\":{\"data\":{\"histogram2dcontour\":[{\"type\":\"histogram2dcontour\",\"colorbar\":{\"outlinewidth\":0,\"ticks\":\"\"},\"colorscale\":[[0.0,\"#0d0887\"],[0.1111111111111111,\"#46039f\"],[0.2222222222222222,\"#7201a8\"],[0.3333333333333333,\"#9c179e\"],[0.4444444444444444,\"#bd3786\"],[0.5555555555555556,\"#d8576b\"],[0.6666666666666666,\"#ed7953\"],[0.7777777777777778,\"#fb9f3a\"],[0.8888888888888888,\"#fdca26\"],[1.0,\"#f0f921\"]]}],\"choropleth\":[{\"type\":\"choropleth\",\"colorbar\":{\"outlinewidth\":0,\"ticks\":\"\"}}],\"histogram2d\":[{\"type\":\"histogram2d\",\"colorbar\":{\"outlinewidth\":0,\"ticks\":\"\"},\"colorscale\":[[0.0,\"#0d0887\"],[0.1111111111111111,\"#46039f\"],[0.2222222222222222,\"#7201a8\"],[0.3333333333333333,\"#9c179e\"],[0.4444444444444444,\"#bd3786\"],[0.5555555555555556,\"#d8576b\"],[0.6666666666666666,\"#ed7953\"],[0.7777777777777778,\"#fb9f3a\"],[0.8888888888888888,\"#fdca26\"],[1.0,\"#f0f921\"]]}],\"heatmap\":[{\"type\":\"heatmap\",\"colorbar\":{\"outlinewidth\":0,\"ticks\":\"\"},\"colorscale\":[[0.0,\"#0d0887\"],[0.1111111111111111,\"#46039f\"],[0.2222222222222222,\"#7201a8\"],[0.3333333333333333,\"#9c179e\"],[0.4444444444444444,\"#bd3786\"],[0.5555555555555556,\"#d8576b\"],[0.6666666666666666,\"#ed7953\"],[0.7777777777777778,\"#fb9f3a\"],[0.8888888888888888,\"#fdca26\"],[1.0,\"#f0f921\"]]}],\"heatmapgl\":[{\"type\":\"heatmapgl\",\"colorbar\":{\"outlinewidth\":0,\"ticks\":\"\"},\"colorscale\":[[0.0,\"#0d0887\"],[0.1111111111111111,\"#46039f\"],[0.2222222222222222,\"#7201a8\"],[0.3333333333333333,\"#9c179e\"],[0.4444444444444444,\"#bd3786\"],[0.5555555555555556,\"#d8576b\"],[0.6666666666666666,\"#ed7953\"],[0.7777777777777778,\"#fb9f3a\"],[0.8888888888888888,\"#fdca26\"],[1.0,\"#f0f921\"]]}],\"contourcarpet\":[{\"type\":\"contourcarpet\",\"colorbar\":{\"outlinewidth\":0,\"ticks\":\"\"}}],\"contour\":[{\"type\":\"contour\",\"colorbar\":{\"outlinewidth\":0,\"ticks\":\"\"},\"colorscale\":[[0.0,\"#0d0887\"],[0.1111111111111111,\"#46039f\"],[0.2222222222222222,\"#7201a8\"],[0.3333333333333333,\"#9c179e\"],[0.4444444444444444,\"#bd3786\"],[0.5555555555555556,\"#d8576b\"],[0.6666666666666666,\"#ed7953\"],[0.7777777777777778,\"#fb9f3a\"],[0.8888888888888888,\"#fdca26\"],[1.0,\"#f0f921\"]]}],\"surface\":[{\"type\":\"surface\",\"colorbar\":{\"outlinewidth\":0,\"ticks\":\"\"},\"colorscale\":[[0.0,\"#0d0887\"],[0.1111111111111111,\"#46039f\"],[0.2222222222222222,\"#7201a8\"],[0.3333333333333333,\"#9c179e\"],[0.4444444444444444,\"#bd3786\"],[0.5555555555555556,\"#d8576b\"],[0.6666666666666666,\"#ed7953\"],[0.7777777777777778,\"#fb9f3a\"],[0.8888888888888888,\"#fdca26\"],[1.0,\"#f0f921\"]]}],\"mesh3d\":[{\"type\":\"mesh3d\",\"colorbar\":{\"outlinewidth\":0,\"ticks\":\"\"}}],\"scatter\":[{\"fillpattern\":{\"fillmode\":\"overlay\",\"size\":10,\"solidity\":0.2},\"type\":\"scatter\"}],\"parcoords\":[{\"type\":\"parcoords\",\"line\":{\"colorbar\":{\"outlinewidth\":0,\"ticks\":\"\"}}}],\"scatterpolargl\":[{\"type\":\"scatterpolargl\",\"marker\":{\"colorbar\":{\"outlinewidth\":0,\"ticks\":\"\"}}}],\"bar\":[{\"error_x\":{\"color\":\"#2a3f5f\"},\"error_y\":{\"color\":\"#2a3f5f\"},\"marker\":{\"line\":{\"color\":\"#E5ECF6\",\"width\":0.5},\"pattern\":{\"fillmode\":\"overlay\",\"size\":10,\"solidity\":0.2}},\"type\":\"bar\"}],\"scattergeo\":[{\"type\":\"scattergeo\",\"marker\":{\"colorbar\":{\"outlinewidth\":0,\"ticks\":\"\"}}}],\"scatterpolar\":[{\"type\":\"scatterpolar\",\"marker\":{\"colorbar\":{\"outlinewidth\":0,\"ticks\":\"\"}}}],\"histogram\":[{\"marker\":{\"pattern\":{\"fillmode\":\"overlay\",\"size\":10,\"solidity\":0.2}},\"type\":\"histogram\"}],\"scattergl\":[{\"type\":\"scattergl\",\"marker\":{\"colorbar\":{\"outlinewidth\":0,\"ticks\":\"\"}}}],\"scatter3d\":[{\"type\":\"scatter3d\",\"line\":{\"colorbar\":{\"outlinewidth\":0,\"ticks\":\"\"}},\"marker\":{\"colorbar\":{\"outlinewidth\":0,\"ticks\":\"\"}}}],\"scattermapbox\":[{\"type\":\"scattermapbox\",\"marker\":{\"colorbar\":{\"outlinewidth\":0,\"ticks\":\"\"}}}],\"scatterternary\":[{\"type\":\"scatterternary\",\"marker\":{\"colorbar\":{\"outlinewidth\":0,\"ticks\":\"\"}}}],\"scattercarpet\":[{\"type\":\"scattercarpet\",\"marker\":{\"colorbar\":{\"outlinewidth\":0,\"ticks\":\"\"}}}],\"carpet\":[{\"aaxis\":{\"endlinecolor\":\"#2a3f5f\",\"gridcolor\":\"white\",\"linecolor\":\"white\",\"minorgridcolor\":\"white\",\"startlinecolor\":\"#2a3f5f\"},\"baxis\":{\"endlinecolor\":\"#2a3f5f\",\"gridcolor\":\"white\",\"linecolor\":\"white\",\"minorgridcolor\":\"white\",\"startlinecolor\":\"#2a3f5f\"},\"type\":\"carpet\"}],\"table\":[{\"cells\":{\"fill\":{\"color\":\"#EBF0F8\"},\"line\":{\"color\":\"white\"}},\"header\":{\"fill\":{\"color\":\"#C8D4E3\"},\"line\":{\"color\":\"white\"}},\"type\":\"table\"}],\"barpolar\":[{\"marker\":{\"line\":{\"color\":\"#E5ECF6\",\"width\":0.5},\"pattern\":{\"fillmode\":\"overlay\",\"size\":10,\"solidity\":0.2}},\"type\":\"barpolar\"}],\"pie\":[{\"automargin\":true,\"type\":\"pie\"}]},\"layout\":{\"autotypenumbers\":\"strict\",\"colorway\":[\"#636efa\",\"#EF553B\",\"#00cc96\",\"#ab63fa\",\"#FFA15A\",\"#19d3f3\",\"#FF6692\",\"#B6E880\",\"#FF97FF\",\"#FECB52\"],\"font\":{\"color\":\"#2a3f5f\"},\"hovermode\":\"closest\",\"hoverlabel\":{\"align\":\"left\"},\"paper_bgcolor\":\"white\",\"plot_bgcolor\":\"#E5ECF6\",\"polar\":{\"bgcolor\":\"#E5ECF6\",\"angularaxis\":{\"gridcolor\":\"white\",\"linecolor\":\"white\",\"ticks\":\"\"},\"radialaxis\":{\"gridcolor\":\"white\",\"linecolor\":\"white\",\"ticks\":\"\"}},\"ternary\":{\"bgcolor\":\"#E5ECF6\",\"aaxis\":{\"gridcolor\":\"white\",\"linecolor\":\"white\",\"ticks\":\"\"},\"baxis\":{\"gridcolor\":\"white\",\"linecolor\":\"white\",\"ticks\":\"\"},\"caxis\":{\"gridcolor\":\"white\",\"linecolor\":\"white\",\"ticks\":\"\"}},\"coloraxis\":{\"colorbar\":{\"outlinewidth\":0,\"ticks\":\"\"}},\"colorscale\":{\"sequential\":[[0.0,\"#0d0887\"],[0.1111111111111111,\"#46039f\"],[0.2222222222222222,\"#7201a8\"],[0.3333333333333333,\"#9c179e\"],[0.4444444444444444,\"#bd3786\"],[0.5555555555555556,\"#d8576b\"],[0.6666666666666666,\"#ed7953\"],[0.7777777777777778,\"#fb9f3a\"],[0.8888888888888888,\"#fdca26\"],[1.0,\"#f0f921\"]],\"sequentialminus\":[[0.0,\"#0d0887\"],[0.1111111111111111,\"#46039f\"],[0.2222222222222222,\"#7201a8\"],[0.3333333333333333,\"#9c179e\"],[0.4444444444444444,\"#bd3786\"],[0.5555555555555556,\"#d8576b\"],[0.6666666666666666,\"#ed7953\"],[0.7777777777777778,\"#fb9f3a\"],[0.8888888888888888,\"#fdca26\"],[1.0,\"#f0f921\"]],\"diverging\":[[0,\"#8e0152\"],[0.1,\"#c51b7d\"],[0.2,\"#de77ae\"],[0.3,\"#f1b6da\"],[0.4,\"#fde0ef\"],[0.5,\"#f7f7f7\"],[0.6,\"#e6f5d0\"],[0.7,\"#b8e186\"],[0.8,\"#7fbc41\"],[0.9,\"#4d9221\"],[1,\"#276419\"]]},\"xaxis\":{\"gridcolor\":\"white\",\"linecolor\":\"white\",\"ticks\":\"\",\"title\":{\"standoff\":15},\"zerolinecolor\":\"white\",\"automargin\":true,\"zerolinewidth\":2},\"yaxis\":{\"gridcolor\":\"white\",\"linecolor\":\"white\",\"ticks\":\"\",\"title\":{\"standoff\":15},\"zerolinecolor\":\"white\",\"automargin\":true,\"zerolinewidth\":2},\"scene\":{\"xaxis\":{\"backgroundcolor\":\"#E5ECF6\",\"gridcolor\":\"white\",\"linecolor\":\"white\",\"showbackground\":true,\"ticks\":\"\",\"zerolinecolor\":\"white\",\"gridwidth\":2},\"yaxis\":{\"backgroundcolor\":\"#E5ECF6\",\"gridcolor\":\"white\",\"linecolor\":\"white\",\"showbackground\":true,\"ticks\":\"\",\"zerolinecolor\":\"white\",\"gridwidth\":2},\"zaxis\":{\"backgroundcolor\":\"#E5ECF6\",\"gridcolor\":\"white\",\"linecolor\":\"white\",\"showbackground\":true,\"ticks\":\"\",\"zerolinecolor\":\"white\",\"gridwidth\":2}},\"shapedefaults\":{\"line\":{\"color\":\"#2a3f5f\"}},\"annotationdefaults\":{\"arrowcolor\":\"#2a3f5f\",\"arrowhead\":0,\"arrowwidth\":1},\"geo\":{\"bgcolor\":\"white\",\"landcolor\":\"#E5ECF6\",\"subunitcolor\":\"white\",\"showland\":true,\"showlakes\":true,\"lakecolor\":\"white\"},\"title\":{\"x\":0.05},\"mapbox\":{\"style\":\"light\"}}},\"legend\":{\"tracegroupgap\":0},\"title\":{\"text\":\"Jumlah Resign pada Divisi Data Analyst\"},\"width\":800,\"height\":800},                        {\"responsive\": true}                    ).then(function(){\n",
       "                            \n",
       "var gd = document.getElementById('c311680e-b61a-4f5f-ba67-cef51baafe58');\n",
       "var x = new MutationObserver(function (mutations, observer) {{\n",
       "        var display = window.getComputedStyle(gd).display;\n",
       "        if (!display || display === 'none') {{\n",
       "            console.log([gd, 'removed!']);\n",
       "            Plotly.purge(gd);\n",
       "            observer.disconnect();\n",
       "        }}\n",
       "}});\n",
       "\n",
       "// Listen for the removal of the full notebook cells\n",
       "var notebookContainer = gd.closest('#notebook-container');\n",
       "if (notebookContainer) {{\n",
       "    x.observe(notebookContainer, {childList: true});\n",
       "}}\n",
       "\n",
       "// Listen for the clearing of the current output cell\n",
       "var outputEl = gd.closest('.output');\n",
       "if (outputEl) {{\n",
       "    x.observe(outputEl, {childList: true});\n",
       "}}\n",
       "\n",
       "                        })                };                });            </script>        </div>"
      ]
     },
     "metadata": {},
     "output_type": "display_data"
    }
   ],
   "source": [
    "fig = px.sunburst(detail_resign,\n",
    "                  path=['JenjangKarir', 'PerformancePegawai', 'AlasanResign'],\n",
    "                  values='JumlahResign',\n",
    "                  title='Jumlah Resign pada Divisi Data Analyst')\n",
    "\n",
    "fig.update_layout(\n",
    "    width=800,\n",
    "    height=800\n",
    ")\n",
    "\n",
    "fig.show()"
   ]
  },
  {
   "cell_type": "markdown",
   "id": "7bc9dc7d-6552-4080-b42c-da2412a16a6d",
   "metadata": {},
   "source": [
    "**Kesimpulan:**\n",
    "- Berdasarkan plot tersebut, paling banyak karyawan dari Freshgraduate Program yang resign karena adanya toxic culture pada divisi Data Analyst, dan kebanyakan adalah karyawan dengan performance yang sangat bagus.\n",
    "- Bagi karyawan Mid Level, paling banyak resign karena alasan masih bekerja.<br>\n",
    "\n",
    "**Rekomendasi:**\n",
    "- Perlu adanya pelatihan untuk manajer dan tim mengenai kepemimpinan yang baik, komunikasi efektif, dan pengelolaan konflik.\n",
    "- Adakan program mentorship di mana karyawan baru, terutama freshgraduate, dapat memperoleh dukungan dan bimbingan dari karyawan yang lebih berpengalaman, untuk membantu proses adaptasi di perusahaan.\n",
    "- Bagi karyawan Mid Level, lakukan peninjauan proses kerja yang bisa mengurangi beban kerja."
   ]
  },
  {
   "cell_type": "markdown",
   "id": "2e7e45e2-b8b2-44e5-bed3-2a9a00fb7422",
   "metadata": {},
   "source": [
    "##### **Divisi Software Engineer (Back End)** (berdasarkan jumlah total karyawan resign tertinggi)"
   ]
  },
  {
   "cell_type": "code",
   "execution_count": 166,
   "id": "2709d1a7-af75-4285-94a5-9a17ef7ef504",
   "metadata": {
    "tags": []
   },
   "outputs": [
    {
     "data": {
      "application/vnd.plotly.v1+json": {
       "config": {
        "plotlyServerURL": "https://plot.ly"
       },
       "data": [
        {
         "branchvalues": "total",
         "domain": {
          "x": [
           0,
           1
          ],
          "y": [
           0,
           1
          ]
         },
         "hovertemplate": "labels=%{label}<br>JumlahResign=%{value}<br>parent=%{parent}<br>id=%{id}<extra></extra>",
         "ids": [
          "Mid_level/Sangat_bagus/Product Design (UI & UX)",
          "Freshgraduate_program/Biasa/ganti_karir",
          "Freshgraduate_program/Kurang/ganti_karir",
          "Mid_level/Sangat_bagus/ganti_karir",
          "Senior_level/Biasa/internal_conflict",
          "Mid_level/Sangat_bagus/internal_conflict",
          "Freshgraduate_program/Biasa/jam_kerja",
          "Freshgraduate_program/Kurang/jam_kerja",
          "Mid_level/Sangat_bagus/jam_kerja",
          "Mid_level/Sangat_kurang/jam_kerja",
          "Senior_level/Sangat_kurang/jam_kerja",
          "Freshgraduate_program/Bagus/kejelasan_karir",
          "Freshgraduate_program/Biasa/kejelasan_karir",
          "Mid_level/Biasa/kejelasan_karir",
          "Senior_level/Biasa/kejelasan_karir",
          "Freshgraduate_program/Biasa/leadership",
          "Freshgraduate_program/Sangat_bagus/leadership",
          "Freshgraduate_program/Bagus/masih_bekerja",
          "Mid_level/Bagus/masih_bekerja",
          "Senior_level/Bagus/masih_bekerja",
          "Freshgraduate_program/Biasa/masih_bekerja",
          "Mid_level/Biasa/masih_bekerja",
          "Senior_level/Biasa/masih_bekerja",
          "Freshgraduate_program/Kurang/masih_bekerja",
          "Mid_level/Kurang/masih_bekerja",
          "Senior_level/Kurang/masih_bekerja",
          "Freshgraduate_program/Sangat_bagus/masih_bekerja",
          "Mid_level/Sangat_bagus/masih_bekerja",
          "Senior_level/Sangat_bagus/masih_bekerja",
          "Freshgraduate_program/Sangat_kurang/masih_bekerja",
          "Mid_level/Sangat_kurang/masih_bekerja",
          "Senior_level/Bagus/tidak_bahagia",
          "Freshgraduate_program/Kurang/tidak_bahagia",
          "Freshgraduate_program/Sangat_bagus/tidak_bahagia",
          "Senior_level/Sangat_bagus/tidak_bahagia",
          "Freshgraduate_program/Biasa/tidak_bisa_remote",
          "Freshgraduate_program/Sangat_bagus/tidak_bisa_remote",
          "Freshgraduate_program/Bagus/toxic_culture",
          "Freshgraduate_program/Bagus",
          "Mid_level/Bagus",
          "Senior_level/Bagus",
          "Freshgraduate_program/Biasa",
          "Mid_level/Biasa",
          "Senior_level/Biasa",
          "Freshgraduate_program/Kurang",
          "Mid_level/Kurang",
          "Senior_level/Kurang",
          "Freshgraduate_program/Sangat_bagus",
          "Mid_level/Sangat_bagus",
          "Senior_level/Sangat_bagus",
          "Freshgraduate_program/Sangat_kurang",
          "Mid_level/Sangat_kurang",
          "Senior_level/Sangat_kurang",
          "Freshgraduate_program",
          "Mid_level",
          "Senior_level"
         ],
         "labels": [
          "Product Design (UI & UX)",
          "ganti_karir",
          "ganti_karir",
          "ganti_karir",
          "internal_conflict",
          "internal_conflict",
          "jam_kerja",
          "jam_kerja",
          "jam_kerja",
          "jam_kerja",
          "jam_kerja",
          "kejelasan_karir",
          "kejelasan_karir",
          "kejelasan_karir",
          "kejelasan_karir",
          "leadership",
          "leadership",
          "masih_bekerja",
          "masih_bekerja",
          "masih_bekerja",
          "masih_bekerja",
          "masih_bekerja",
          "masih_bekerja",
          "masih_bekerja",
          "masih_bekerja",
          "masih_bekerja",
          "masih_bekerja",
          "masih_bekerja",
          "masih_bekerja",
          "masih_bekerja",
          "masih_bekerja",
          "tidak_bahagia",
          "tidak_bahagia",
          "tidak_bahagia",
          "tidak_bahagia",
          "tidak_bisa_remote",
          "tidak_bisa_remote",
          "toxic_culture",
          "Bagus",
          "Bagus",
          "Bagus",
          "Biasa",
          "Biasa",
          "Biasa",
          "Kurang",
          "Kurang",
          "Kurang",
          "Sangat_bagus",
          "Sangat_bagus",
          "Sangat_bagus",
          "Sangat_kurang",
          "Sangat_kurang",
          "Sangat_kurang",
          "Freshgraduate_program",
          "Mid_level",
          "Senior_level"
         ],
         "name": "",
         "parents": [
          "Mid_level/Sangat_bagus",
          "Freshgraduate_program/Biasa",
          "Freshgraduate_program/Kurang",
          "Mid_level/Sangat_bagus",
          "Senior_level/Biasa",
          "Mid_level/Sangat_bagus",
          "Freshgraduate_program/Biasa",
          "Freshgraduate_program/Kurang",
          "Mid_level/Sangat_bagus",
          "Mid_level/Sangat_kurang",
          "Senior_level/Sangat_kurang",
          "Freshgraduate_program/Bagus",
          "Freshgraduate_program/Biasa",
          "Mid_level/Biasa",
          "Senior_level/Biasa",
          "Freshgraduate_program/Biasa",
          "Freshgraduate_program/Sangat_bagus",
          "Freshgraduate_program/Bagus",
          "Mid_level/Bagus",
          "Senior_level/Bagus",
          "Freshgraduate_program/Biasa",
          "Mid_level/Biasa",
          "Senior_level/Biasa",
          "Freshgraduate_program/Kurang",
          "Mid_level/Kurang",
          "Senior_level/Kurang",
          "Freshgraduate_program/Sangat_bagus",
          "Mid_level/Sangat_bagus",
          "Senior_level/Sangat_bagus",
          "Freshgraduate_program/Sangat_kurang",
          "Mid_level/Sangat_kurang",
          "Senior_level/Bagus",
          "Freshgraduate_program/Kurang",
          "Freshgraduate_program/Sangat_bagus",
          "Senior_level/Sangat_bagus",
          "Freshgraduate_program/Biasa",
          "Freshgraduate_program/Sangat_bagus",
          "Freshgraduate_program/Bagus",
          "Freshgraduate_program",
          "Mid_level",
          "Senior_level",
          "Freshgraduate_program",
          "Mid_level",
          "Senior_level",
          "Freshgraduate_program",
          "Mid_level",
          "Senior_level",
          "Freshgraduate_program",
          "Mid_level",
          "Senior_level",
          "Freshgraduate_program",
          "Mid_level",
          "Senior_level",
          "",
          "",
          ""
         ],
         "type": "sunburst",
         "values": [
          1,
          2,
          1,
          1,
          1,
          1,
          1,
          1,
          2,
          1,
          1,
          1,
          1,
          1,
          1,
          1,
          1,
          11,
          7,
          3,
          18,
          6,
          9,
          5,
          2,
          1,
          8,
          1,
          5,
          3,
          1,
          1,
          1,
          1,
          2,
          1,
          2,
          1,
          13,
          7,
          4,
          24,
          7,
          11,
          8,
          2,
          1,
          12,
          6,
          7,
          3,
          2,
          1,
          60,
          24,
          24
         ]
        }
       ],
       "layout": {
        "height": 800,
        "legend": {
         "tracegroupgap": 0
        },
        "template": {
         "data": {
          "bar": [
           {
            "error_x": {
             "color": "#2a3f5f"
            },
            "error_y": {
             "color": "#2a3f5f"
            },
            "marker": {
             "line": {
              "color": "#E5ECF6",
              "width": 0.5
             },
             "pattern": {
              "fillmode": "overlay",
              "size": 10,
              "solidity": 0.2
             }
            },
            "type": "bar"
           }
          ],
          "barpolar": [
           {
            "marker": {
             "line": {
              "color": "#E5ECF6",
              "width": 0.5
             },
             "pattern": {
              "fillmode": "overlay",
              "size": 10,
              "solidity": 0.2
             }
            },
            "type": "barpolar"
           }
          ],
          "carpet": [
           {
            "aaxis": {
             "endlinecolor": "#2a3f5f",
             "gridcolor": "white",
             "linecolor": "white",
             "minorgridcolor": "white",
             "startlinecolor": "#2a3f5f"
            },
            "baxis": {
             "endlinecolor": "#2a3f5f",
             "gridcolor": "white",
             "linecolor": "white",
             "minorgridcolor": "white",
             "startlinecolor": "#2a3f5f"
            },
            "type": "carpet"
           }
          ],
          "choropleth": [
           {
            "colorbar": {
             "outlinewidth": 0,
             "ticks": ""
            },
            "type": "choropleth"
           }
          ],
          "contour": [
           {
            "colorbar": {
             "outlinewidth": 0,
             "ticks": ""
            },
            "colorscale": [
             [
              0,
              "#0d0887"
             ],
             [
              0.1111111111111111,
              "#46039f"
             ],
             [
              0.2222222222222222,
              "#7201a8"
             ],
             [
              0.3333333333333333,
              "#9c179e"
             ],
             [
              0.4444444444444444,
              "#bd3786"
             ],
             [
              0.5555555555555556,
              "#d8576b"
             ],
             [
              0.6666666666666666,
              "#ed7953"
             ],
             [
              0.7777777777777778,
              "#fb9f3a"
             ],
             [
              0.8888888888888888,
              "#fdca26"
             ],
             [
              1,
              "#f0f921"
             ]
            ],
            "type": "contour"
           }
          ],
          "contourcarpet": [
           {
            "colorbar": {
             "outlinewidth": 0,
             "ticks": ""
            },
            "type": "contourcarpet"
           }
          ],
          "heatmap": [
           {
            "colorbar": {
             "outlinewidth": 0,
             "ticks": ""
            },
            "colorscale": [
             [
              0,
              "#0d0887"
             ],
             [
              0.1111111111111111,
              "#46039f"
             ],
             [
              0.2222222222222222,
              "#7201a8"
             ],
             [
              0.3333333333333333,
              "#9c179e"
             ],
             [
              0.4444444444444444,
              "#bd3786"
             ],
             [
              0.5555555555555556,
              "#d8576b"
             ],
             [
              0.6666666666666666,
              "#ed7953"
             ],
             [
              0.7777777777777778,
              "#fb9f3a"
             ],
             [
              0.8888888888888888,
              "#fdca26"
             ],
             [
              1,
              "#f0f921"
             ]
            ],
            "type": "heatmap"
           }
          ],
          "heatmapgl": [
           {
            "colorbar": {
             "outlinewidth": 0,
             "ticks": ""
            },
            "colorscale": [
             [
              0,
              "#0d0887"
             ],
             [
              0.1111111111111111,
              "#46039f"
             ],
             [
              0.2222222222222222,
              "#7201a8"
             ],
             [
              0.3333333333333333,
              "#9c179e"
             ],
             [
              0.4444444444444444,
              "#bd3786"
             ],
             [
              0.5555555555555556,
              "#d8576b"
             ],
             [
              0.6666666666666666,
              "#ed7953"
             ],
             [
              0.7777777777777778,
              "#fb9f3a"
             ],
             [
              0.8888888888888888,
              "#fdca26"
             ],
             [
              1,
              "#f0f921"
             ]
            ],
            "type": "heatmapgl"
           }
          ],
          "histogram": [
           {
            "marker": {
             "pattern": {
              "fillmode": "overlay",
              "size": 10,
              "solidity": 0.2
             }
            },
            "type": "histogram"
           }
          ],
          "histogram2d": [
           {
            "colorbar": {
             "outlinewidth": 0,
             "ticks": ""
            },
            "colorscale": [
             [
              0,
              "#0d0887"
             ],
             [
              0.1111111111111111,
              "#46039f"
             ],
             [
              0.2222222222222222,
              "#7201a8"
             ],
             [
              0.3333333333333333,
              "#9c179e"
             ],
             [
              0.4444444444444444,
              "#bd3786"
             ],
             [
              0.5555555555555556,
              "#d8576b"
             ],
             [
              0.6666666666666666,
              "#ed7953"
             ],
             [
              0.7777777777777778,
              "#fb9f3a"
             ],
             [
              0.8888888888888888,
              "#fdca26"
             ],
             [
              1,
              "#f0f921"
             ]
            ],
            "type": "histogram2d"
           }
          ],
          "histogram2dcontour": [
           {
            "colorbar": {
             "outlinewidth": 0,
             "ticks": ""
            },
            "colorscale": [
             [
              0,
              "#0d0887"
             ],
             [
              0.1111111111111111,
              "#46039f"
             ],
             [
              0.2222222222222222,
              "#7201a8"
             ],
             [
              0.3333333333333333,
              "#9c179e"
             ],
             [
              0.4444444444444444,
              "#bd3786"
             ],
             [
              0.5555555555555556,
              "#d8576b"
             ],
             [
              0.6666666666666666,
              "#ed7953"
             ],
             [
              0.7777777777777778,
              "#fb9f3a"
             ],
             [
              0.8888888888888888,
              "#fdca26"
             ],
             [
              1,
              "#f0f921"
             ]
            ],
            "type": "histogram2dcontour"
           }
          ],
          "mesh3d": [
           {
            "colorbar": {
             "outlinewidth": 0,
             "ticks": ""
            },
            "type": "mesh3d"
           }
          ],
          "parcoords": [
           {
            "line": {
             "colorbar": {
              "outlinewidth": 0,
              "ticks": ""
             }
            },
            "type": "parcoords"
           }
          ],
          "pie": [
           {
            "automargin": true,
            "type": "pie"
           }
          ],
          "scatter": [
           {
            "fillpattern": {
             "fillmode": "overlay",
             "size": 10,
             "solidity": 0.2
            },
            "type": "scatter"
           }
          ],
          "scatter3d": [
           {
            "line": {
             "colorbar": {
              "outlinewidth": 0,
              "ticks": ""
             }
            },
            "marker": {
             "colorbar": {
              "outlinewidth": 0,
              "ticks": ""
             }
            },
            "type": "scatter3d"
           }
          ],
          "scattercarpet": [
           {
            "marker": {
             "colorbar": {
              "outlinewidth": 0,
              "ticks": ""
             }
            },
            "type": "scattercarpet"
           }
          ],
          "scattergeo": [
           {
            "marker": {
             "colorbar": {
              "outlinewidth": 0,
              "ticks": ""
             }
            },
            "type": "scattergeo"
           }
          ],
          "scattergl": [
           {
            "marker": {
             "colorbar": {
              "outlinewidth": 0,
              "ticks": ""
             }
            },
            "type": "scattergl"
           }
          ],
          "scattermapbox": [
           {
            "marker": {
             "colorbar": {
              "outlinewidth": 0,
              "ticks": ""
             }
            },
            "type": "scattermapbox"
           }
          ],
          "scatterpolar": [
           {
            "marker": {
             "colorbar": {
              "outlinewidth": 0,
              "ticks": ""
             }
            },
            "type": "scatterpolar"
           }
          ],
          "scatterpolargl": [
           {
            "marker": {
             "colorbar": {
              "outlinewidth": 0,
              "ticks": ""
             }
            },
            "type": "scatterpolargl"
           }
          ],
          "scatterternary": [
           {
            "marker": {
             "colorbar": {
              "outlinewidth": 0,
              "ticks": ""
             }
            },
            "type": "scatterternary"
           }
          ],
          "surface": [
           {
            "colorbar": {
             "outlinewidth": 0,
             "ticks": ""
            },
            "colorscale": [
             [
              0,
              "#0d0887"
             ],
             [
              0.1111111111111111,
              "#46039f"
             ],
             [
              0.2222222222222222,
              "#7201a8"
             ],
             [
              0.3333333333333333,
              "#9c179e"
             ],
             [
              0.4444444444444444,
              "#bd3786"
             ],
             [
              0.5555555555555556,
              "#d8576b"
             ],
             [
              0.6666666666666666,
              "#ed7953"
             ],
             [
              0.7777777777777778,
              "#fb9f3a"
             ],
             [
              0.8888888888888888,
              "#fdca26"
             ],
             [
              1,
              "#f0f921"
             ]
            ],
            "type": "surface"
           }
          ],
          "table": [
           {
            "cells": {
             "fill": {
              "color": "#EBF0F8"
             },
             "line": {
              "color": "white"
             }
            },
            "header": {
             "fill": {
              "color": "#C8D4E3"
             },
             "line": {
              "color": "white"
             }
            },
            "type": "table"
           }
          ]
         },
         "layout": {
          "annotationdefaults": {
           "arrowcolor": "#2a3f5f",
           "arrowhead": 0,
           "arrowwidth": 1
          },
          "autotypenumbers": "strict",
          "coloraxis": {
           "colorbar": {
            "outlinewidth": 0,
            "ticks": ""
           }
          },
          "colorscale": {
           "diverging": [
            [
             0,
             "#8e0152"
            ],
            [
             0.1,
             "#c51b7d"
            ],
            [
             0.2,
             "#de77ae"
            ],
            [
             0.3,
             "#f1b6da"
            ],
            [
             0.4,
             "#fde0ef"
            ],
            [
             0.5,
             "#f7f7f7"
            ],
            [
             0.6,
             "#e6f5d0"
            ],
            [
             0.7,
             "#b8e186"
            ],
            [
             0.8,
             "#7fbc41"
            ],
            [
             0.9,
             "#4d9221"
            ],
            [
             1,
             "#276419"
            ]
           ],
           "sequential": [
            [
             0,
             "#0d0887"
            ],
            [
             0.1111111111111111,
             "#46039f"
            ],
            [
             0.2222222222222222,
             "#7201a8"
            ],
            [
             0.3333333333333333,
             "#9c179e"
            ],
            [
             0.4444444444444444,
             "#bd3786"
            ],
            [
             0.5555555555555556,
             "#d8576b"
            ],
            [
             0.6666666666666666,
             "#ed7953"
            ],
            [
             0.7777777777777778,
             "#fb9f3a"
            ],
            [
             0.8888888888888888,
             "#fdca26"
            ],
            [
             1,
             "#f0f921"
            ]
           ],
           "sequentialminus": [
            [
             0,
             "#0d0887"
            ],
            [
             0.1111111111111111,
             "#46039f"
            ],
            [
             0.2222222222222222,
             "#7201a8"
            ],
            [
             0.3333333333333333,
             "#9c179e"
            ],
            [
             0.4444444444444444,
             "#bd3786"
            ],
            [
             0.5555555555555556,
             "#d8576b"
            ],
            [
             0.6666666666666666,
             "#ed7953"
            ],
            [
             0.7777777777777778,
             "#fb9f3a"
            ],
            [
             0.8888888888888888,
             "#fdca26"
            ],
            [
             1,
             "#f0f921"
            ]
           ]
          },
          "colorway": [
           "#636efa",
           "#EF553B",
           "#00cc96",
           "#ab63fa",
           "#FFA15A",
           "#19d3f3",
           "#FF6692",
           "#B6E880",
           "#FF97FF",
           "#FECB52"
          ],
          "font": {
           "color": "#2a3f5f"
          },
          "geo": {
           "bgcolor": "white",
           "lakecolor": "white",
           "landcolor": "#E5ECF6",
           "showlakes": true,
           "showland": true,
           "subunitcolor": "white"
          },
          "hoverlabel": {
           "align": "left"
          },
          "hovermode": "closest",
          "mapbox": {
           "style": "light"
          },
          "paper_bgcolor": "white",
          "plot_bgcolor": "#E5ECF6",
          "polar": {
           "angularaxis": {
            "gridcolor": "white",
            "linecolor": "white",
            "ticks": ""
           },
           "bgcolor": "#E5ECF6",
           "radialaxis": {
            "gridcolor": "white",
            "linecolor": "white",
            "ticks": ""
           }
          },
          "scene": {
           "xaxis": {
            "backgroundcolor": "#E5ECF6",
            "gridcolor": "white",
            "gridwidth": 2,
            "linecolor": "white",
            "showbackground": true,
            "ticks": "",
            "zerolinecolor": "white"
           },
           "yaxis": {
            "backgroundcolor": "#E5ECF6",
            "gridcolor": "white",
            "gridwidth": 2,
            "linecolor": "white",
            "showbackground": true,
            "ticks": "",
            "zerolinecolor": "white"
           },
           "zaxis": {
            "backgroundcolor": "#E5ECF6",
            "gridcolor": "white",
            "gridwidth": 2,
            "linecolor": "white",
            "showbackground": true,
            "ticks": "",
            "zerolinecolor": "white"
           }
          },
          "shapedefaults": {
           "line": {
            "color": "#2a3f5f"
           }
          },
          "ternary": {
           "aaxis": {
            "gridcolor": "white",
            "linecolor": "white",
            "ticks": ""
           },
           "baxis": {
            "gridcolor": "white",
            "linecolor": "white",
            "ticks": ""
           },
           "bgcolor": "#E5ECF6",
           "caxis": {
            "gridcolor": "white",
            "linecolor": "white",
            "ticks": ""
           }
          },
          "title": {
           "x": 0.05
          },
          "xaxis": {
           "automargin": true,
           "gridcolor": "white",
           "linecolor": "white",
           "ticks": "",
           "title": {
            "standoff": 15
           },
           "zerolinecolor": "white",
           "zerolinewidth": 2
          },
          "yaxis": {
           "automargin": true,
           "gridcolor": "white",
           "linecolor": "white",
           "ticks": "",
           "title": {
            "standoff": 15
           },
           "zerolinecolor": "white",
           "zerolinewidth": 2
          }
         }
        },
        "title": {
         "text": "Jumlah Resign pada Divisi Software Engineer (Back End)"
        },
        "width": 800
       }
      },
      "image/png": "[encoded data removed]",
      "text/html": [
       "<div>                            <div id=\"78cf4424-8dcf-4506-a53b-58a074a62f74\" class=\"plotly-graph-div\" style=\"height:800px; width:800px;\"></div>            <script type=\"text/javascript\">                require([\"plotly\"], function(Plotly) {                    window.PLOTLYENV=window.PLOTLYENV || {};                                    if (document.getElementById(\"78cf4424-8dcf-4506-a53b-58a074a62f74\")) {                    Plotly.newPlot(                        \"78cf4424-8dcf-4506-a53b-58a074a62f74\",                        [{\"branchvalues\":\"total\",\"domain\":{\"x\":[0.0,1.0],\"y\":[0.0,1.0]},\"hovertemplate\":\"labels=%{label}<br>JumlahResign=%{value}<br>parent=%{parent}<br>id=%{id}<extra></extra>\",\"ids\":[\"Mid_level/Sangat_bagus/Product Design (UI & UX)\",\"Freshgraduate_program/Biasa/ganti_karir\",\"Freshgraduate_program/Kurang/ganti_karir\",\"Mid_level/Sangat_bagus/ganti_karir\",\"Senior_level/Biasa/internal_conflict\",\"Mid_level/Sangat_bagus/internal_conflict\",\"Freshgraduate_program/Biasa/jam_kerja\",\"Freshgraduate_program/Kurang/jam_kerja\",\"Mid_level/Sangat_bagus/jam_kerja\",\"Mid_level/Sangat_kurang/jam_kerja\",\"Senior_level/Sangat_kurang/jam_kerja\",\"Freshgraduate_program/Bagus/kejelasan_karir\",\"Freshgraduate_program/Biasa/kejelasan_karir\",\"Mid_level/Biasa/kejelasan_karir\",\"Senior_level/Biasa/kejelasan_karir\",\"Freshgraduate_program/Biasa/leadership\",\"Freshgraduate_program/Sangat_bagus/leadership\",\"Freshgraduate_program/Bagus/masih_bekerja\",\"Mid_level/Bagus/masih_bekerja\",\"Senior_level/Bagus/masih_bekerja\",\"Freshgraduate_program/Biasa/masih_bekerja\",\"Mid_level/Biasa/masih_bekerja\",\"Senior_level/Biasa/masih_bekerja\",\"Freshgraduate_program/Kurang/masih_bekerja\",\"Mid_level/Kurang/masih_bekerja\",\"Senior_level/Kurang/masih_bekerja\",\"Freshgraduate_program/Sangat_bagus/masih_bekerja\",\"Mid_level/Sangat_bagus/masih_bekerja\",\"Senior_level/Sangat_bagus/masih_bekerja\",\"Freshgraduate_program/Sangat_kurang/masih_bekerja\",\"Mid_level/Sangat_kurang/masih_bekerja\",\"Senior_level/Bagus/tidak_bahagia\",\"Freshgraduate_program/Kurang/tidak_bahagia\",\"Freshgraduate_program/Sangat_bagus/tidak_bahagia\",\"Senior_level/Sangat_bagus/tidak_bahagia\",\"Freshgraduate_program/Biasa/tidak_bisa_remote\",\"Freshgraduate_program/Sangat_bagus/tidak_bisa_remote\",\"Freshgraduate_program/Bagus/toxic_culture\",\"Freshgraduate_program/Bagus\",\"Mid_level/Bagus\",\"Senior_level/Bagus\",\"Freshgraduate_program/Biasa\",\"Mid_level/Biasa\",\"Senior_level/Biasa\",\"Freshgraduate_program/Kurang\",\"Mid_level/Kurang\",\"Senior_level/Kurang\",\"Freshgraduate_program/Sangat_bagus\",\"Mid_level/Sangat_bagus\",\"Senior_level/Sangat_bagus\",\"Freshgraduate_program/Sangat_kurang\",\"Mid_level/Sangat_kurang\",\"Senior_level/Sangat_kurang\",\"Freshgraduate_program\",\"Mid_level\",\"Senior_level\"],\"labels\":[\"Product Design (UI & UX)\",\"ganti_karir\",\"ganti_karir\",\"ganti_karir\",\"internal_conflict\",\"internal_conflict\",\"jam_kerja\",\"jam_kerja\",\"jam_kerja\",\"jam_kerja\",\"jam_kerja\",\"kejelasan_karir\",\"kejelasan_karir\",\"kejelasan_karir\",\"kejelasan_karir\",\"leadership\",\"leadership\",\"masih_bekerja\",\"masih_bekerja\",\"masih_bekerja\",\"masih_bekerja\",\"masih_bekerja\",\"masih_bekerja\",\"masih_bekerja\",\"masih_bekerja\",\"masih_bekerja\",\"masih_bekerja\",\"masih_bekerja\",\"masih_bekerja\",\"masih_bekerja\",\"masih_bekerja\",\"tidak_bahagia\",\"tidak_bahagia\",\"tidak_bahagia\",\"tidak_bahagia\",\"tidak_bisa_remote\",\"tidak_bisa_remote\",\"toxic_culture\",\"Bagus\",\"Bagus\",\"Bagus\",\"Biasa\",\"Biasa\",\"Biasa\",\"Kurang\",\"Kurang\",\"Kurang\",\"Sangat_bagus\",\"Sangat_bagus\",\"Sangat_bagus\",\"Sangat_kurang\",\"Sangat_kurang\",\"Sangat_kurang\",\"Freshgraduate_program\",\"Mid_level\",\"Senior_level\"],\"name\":\"\",\"parents\":[\"Mid_level/Sangat_bagus\",\"Freshgraduate_program/Biasa\",\"Freshgraduate_program/Kurang\",\"Mid_level/Sangat_bagus\",\"Senior_level/Biasa\",\"Mid_level/Sangat_bagus\",\"Freshgraduate_program/Biasa\",\"Freshgraduate_program/Kurang\",\"Mid_level/Sangat_bagus\",\"Mid_level/Sangat_kurang\",\"Senior_level/Sangat_kurang\",\"Freshgraduate_program/Bagus\",\"Freshgraduate_program/Biasa\",\"Mid_level/Biasa\",\"Senior_level/Biasa\",\"Freshgraduate_program/Biasa\",\"Freshgraduate_program/Sangat_bagus\",\"Freshgraduate_program/Bagus\",\"Mid_level/Bagus\",\"Senior_level/Bagus\",\"Freshgraduate_program/Biasa\",\"Mid_level/Biasa\",\"Senior_level/Biasa\",\"Freshgraduate_program/Kurang\",\"Mid_level/Kurang\",\"Senior_level/Kurang\",\"Freshgraduate_program/Sangat_bagus\",\"Mid_level/Sangat_bagus\",\"Senior_level/Sangat_bagus\",\"Freshgraduate_program/Sangat_kurang\",\"Mid_level/Sangat_kurang\",\"Senior_level/Bagus\",\"Freshgraduate_program/Kurang\",\"Freshgraduate_program/Sangat_bagus\",\"Senior_level/Sangat_bagus\",\"Freshgraduate_program/Biasa\",\"Freshgraduate_program/Sangat_bagus\",\"Freshgraduate_program/Bagus\",\"Freshgraduate_program\",\"Mid_level\",\"Senior_level\",\"Freshgraduate_program\",\"Mid_level\",\"Senior_level\",\"Freshgraduate_program\",\"Mid_level\",\"Senior_level\",\"Freshgraduate_program\",\"Mid_level\",\"Senior_level\",\"Freshgraduate_program\",\"Mid_level\",\"Senior_level\",\"\",\"\",\"\"],\"values\":[1,2,1,1,1,1,1,1,2,1,1,1,1,1,1,1,1,11,7,3,18,6,9,5,2,1,8,1,5,3,1,1,1,1,2,1,2,1,13,7,4,24,7,11,8,2,1,12,6,7,3,2,1,60,24,24],\"type\":\"sunburst\"}],                        {\"template\":{\"data\":{\"histogram2dcontour\":[{\"type\":\"histogram2dcontour\",\"colorbar\":{\"outlinewidth\":0,\"ticks\":\"\"},\"colorscale\":[[0.0,\"#0d0887\"],[0.1111111111111111,\"#46039f\"],[0.2222222222222222,\"#7201a8\"],[0.3333333333333333,\"#9c179e\"],[0.4444444444444444,\"#bd3786\"],[0.5555555555555556,\"#d8576b\"],[0.6666666666666666,\"#ed7953\"],[0.7777777777777778,\"#fb9f3a\"],[0.8888888888888888,\"#fdca26\"],[1.0,\"#f0f921\"]]}],\"choropleth\":[{\"type\":\"choropleth\",\"colorbar\":{\"outlinewidth\":0,\"ticks\":\"\"}}],\"histogram2d\":[{\"type\":\"histogram2d\",\"colorbar\":{\"outlinewidth\":0,\"ticks\":\"\"},\"colorscale\":[[0.0,\"#0d0887\"],[0.1111111111111111,\"#46039f\"],[0.2222222222222222,\"#7201a8\"],[0.3333333333333333,\"#9c179e\"],[0.4444444444444444,\"#bd3786\"],[0.5555555555555556,\"#d8576b\"],[0.6666666666666666,\"#ed7953\"],[0.7777777777777778,\"#fb9f3a\"],[0.8888888888888888,\"#fdca26\"],[1.0,\"#f0f921\"]]}],\"heatmap\":[{\"type\":\"heatmap\",\"colorbar\":{\"outlinewidth\":0,\"ticks\":\"\"},\"colorscale\":[[0.0,\"#0d0887\"],[0.1111111111111111,\"#46039f\"],[0.2222222222222222,\"#7201a8\"],[0.3333333333333333,\"#9c179e\"],[0.4444444444444444,\"#bd3786\"],[0.5555555555555556,\"#d8576b\"],[0.6666666666666666,\"#ed7953\"],[0.7777777777777778,\"#fb9f3a\"],[0.8888888888888888,\"#fdca26\"],[1.0,\"#f0f921\"]]}],\"heatmapgl\":[{\"type\":\"heatmapgl\",\"colorbar\":{\"outlinewidth\":0,\"ticks\":\"\"},\"colorscale\":[[0.0,\"#0d0887\"],[0.1111111111111111,\"#46039f\"],[0.2222222222222222,\"#7201a8\"],[0.3333333333333333,\"#9c179e\"],[0.4444444444444444,\"#bd3786\"],[0.5555555555555556,\"#d8576b\"],[0.6666666666666666,\"#ed7953\"],[0.7777777777777778,\"#fb9f3a\"],[0.8888888888888888,\"#fdca26\"],[1.0,\"#f0f921\"]]}],\"contourcarpet\":[{\"type\":\"contourcarpet\",\"colorbar\":{\"outlinewidth\":0,\"ticks\":\"\"}}],\"contour\":[{\"type\":\"contour\",\"colorbar\":{\"outlinewidth\":0,\"ticks\":\"\"},\"colorscale\":[[0.0,\"#0d0887\"],[0.1111111111111111,\"#46039f\"],[0.2222222222222222,\"#7201a8\"],[0.3333333333333333,\"#9c179e\"],[0.4444444444444444,\"#bd3786\"],[0.5555555555555556,\"#d8576b\"],[0.6666666666666666,\"#ed7953\"],[0.7777777777777778,\"#fb9f3a\"],[0.8888888888888888,\"#fdca26\"],[1.0,\"#f0f921\"]]}],\"surface\":[{\"type\":\"surface\",\"colorbar\":{\"outlinewidth\":0,\"ticks\":\"\"},\"colorscale\":[[0.0,\"#0d0887\"],[0.1111111111111111,\"#46039f\"],[0.2222222222222222,\"#7201a8\"],[0.3333333333333333,\"#9c179e\"],[0.4444444444444444,\"#bd3786\"],[0.5555555555555556,\"#d8576b\"],[0.6666666666666666,\"#ed7953\"],[0.7777777777777778,\"#fb9f3a\"],[0.8888888888888888,\"#fdca26\"],[1.0,\"#f0f921\"]]}],\"mesh3d\":[{\"type\":\"mesh3d\",\"colorbar\":{\"outlinewidth\":0,\"ticks\":\"\"}}],\"scatter\":[{\"fillpattern\":{\"fillmode\":\"overlay\",\"size\":10,\"solidity\":0.2},\"type\":\"scatter\"}],\"parcoords\":[{\"type\":\"parcoords\",\"line\":{\"colorbar\":{\"outlinewidth\":0,\"ticks\":\"\"}}}],\"scatterpolargl\":[{\"type\":\"scatterpolargl\",\"marker\":{\"colorbar\":{\"outlinewidth\":0,\"ticks\":\"\"}}}],\"bar\":[{\"error_x\":{\"color\":\"#2a3f5f\"},\"error_y\":{\"color\":\"#2a3f5f\"},\"marker\":{\"line\":{\"color\":\"#E5ECF6\",\"width\":0.5},\"pattern\":{\"fillmode\":\"overlay\",\"size\":10,\"solidity\":0.2}},\"type\":\"bar\"}],\"scattergeo\":[{\"type\":\"scattergeo\",\"marker\":{\"colorbar\":{\"outlinewidth\":0,\"ticks\":\"\"}}}],\"scatterpolar\":[{\"type\":\"scatterpolar\",\"marker\":{\"colorbar\":{\"outlinewidth\":0,\"ticks\":\"\"}}}],\"histogram\":[{\"marker\":{\"pattern\":{\"fillmode\":\"overlay\",\"size\":10,\"solidity\":0.2}},\"type\":\"histogram\"}],\"scattergl\":[{\"type\":\"scattergl\",\"marker\":{\"colorbar\":{\"outlinewidth\":0,\"ticks\":\"\"}}}],\"scatter3d\":[{\"type\":\"scatter3d\",\"line\":{\"colorbar\":{\"outlinewidth\":0,\"ticks\":\"\"}},\"marker\":{\"colorbar\":{\"outlinewidth\":0,\"ticks\":\"\"}}}],\"scattermapbox\":[{\"type\":\"scattermapbox\",\"marker\":{\"colorbar\":{\"outlinewidth\":0,\"ticks\":\"\"}}}],\"scatterternary\":[{\"type\":\"scatterternary\",\"marker\":{\"colorbar\":{\"outlinewidth\":0,\"ticks\":\"\"}}}],\"scattercarpet\":[{\"type\":\"scattercarpet\",\"marker\":{\"colorbar\":{\"outlinewidth\":0,\"ticks\":\"\"}}}],\"carpet\":[{\"aaxis\":{\"endlinecolor\":\"#2a3f5f\",\"gridcolor\":\"white\",\"linecolor\":\"white\",\"minorgridcolor\":\"white\",\"startlinecolor\":\"#2a3f5f\"},\"baxis\":{\"endlinecolor\":\"#2a3f5f\",\"gridcolor\":\"white\",\"linecolor\":\"white\",\"minorgridcolor\":\"white\",\"startlinecolor\":\"#2a3f5f\"},\"type\":\"carpet\"}],\"table\":[{\"cells\":{\"fill\":{\"color\":\"#EBF0F8\"},\"line\":{\"color\":\"white\"}},\"header\":{\"fill\":{\"color\":\"#C8D4E3\"},\"line\":{\"color\":\"white\"}},\"type\":\"table\"}],\"barpolar\":[{\"marker\":{\"line\":{\"color\":\"#E5ECF6\",\"width\":0.5},\"pattern\":{\"fillmode\":\"overlay\",\"size\":10,\"solidity\":0.2}},\"type\":\"barpolar\"}],\"pie\":[{\"automargin\":true,\"type\":\"pie\"}]},\"layout\":{\"autotypenumbers\":\"strict\",\"colorway\":[\"#636efa\",\"#EF553B\",\"#00cc96\",\"#ab63fa\",\"#FFA15A\",\"#19d3f3\",\"#FF6692\",\"#B6E880\",\"#FF97FF\",\"#FECB52\"],\"font\":{\"color\":\"#2a3f5f\"},\"hovermode\":\"closest\",\"hoverlabel\":{\"align\":\"left\"},\"paper_bgcolor\":\"white\",\"plot_bgcolor\":\"#E5ECF6\",\"polar\":{\"bgcolor\":\"#E5ECF6\",\"angularaxis\":{\"gridcolor\":\"white\",\"linecolor\":\"white\",\"ticks\":\"\"},\"radialaxis\":{\"gridcolor\":\"white\",\"linecolor\":\"white\",\"ticks\":\"\"}},\"ternary\":{\"bgcolor\":\"#E5ECF6\",\"aaxis\":{\"gridcolor\":\"white\",\"linecolor\":\"white\",\"ticks\":\"\"},\"baxis\":{\"gridcolor\":\"white\",\"linecolor\":\"white\",\"ticks\":\"\"},\"caxis\":{\"gridcolor\":\"white\",\"linecolor\":\"white\",\"ticks\":\"\"}},\"coloraxis\":{\"colorbar\":{\"outlinewidth\":0,\"ticks\":\"\"}},\"colorscale\":{\"sequential\":[[0.0,\"#0d0887\"],[0.1111111111111111,\"#46039f\"],[0.2222222222222222,\"#7201a8\"],[0.3333333333333333,\"#9c179e\"],[0.4444444444444444,\"#bd3786\"],[0.5555555555555556,\"#d8576b\"],[0.6666666666666666,\"#ed7953\"],[0.7777777777777778,\"#fb9f3a\"],[0.8888888888888888,\"#fdca26\"],[1.0,\"#f0f921\"]],\"sequentialminus\":[[0.0,\"#0d0887\"],[0.1111111111111111,\"#46039f\"],[0.2222222222222222,\"#7201a8\"],[0.3333333333333333,\"#9c179e\"],[0.4444444444444444,\"#bd3786\"],[0.5555555555555556,\"#d8576b\"],[0.6666666666666666,\"#ed7953\"],[0.7777777777777778,\"#fb9f3a\"],[0.8888888888888888,\"#fdca26\"],[1.0,\"#f0f921\"]],\"diverging\":[[0,\"#8e0152\"],[0.1,\"#c51b7d\"],[0.2,\"#de77ae\"],[0.3,\"#f1b6da\"],[0.4,\"#fde0ef\"],[0.5,\"#f7f7f7\"],[0.6,\"#e6f5d0\"],[0.7,\"#b8e186\"],[0.8,\"#7fbc41\"],[0.9,\"#4d9221\"],[1,\"#276419\"]]},\"xaxis\":{\"gridcolor\":\"white\",\"linecolor\":\"white\",\"ticks\":\"\",\"title\":{\"standoff\":15},\"zerolinecolor\":\"white\",\"automargin\":true,\"zerolinewidth\":2},\"yaxis\":{\"gridcolor\":\"white\",\"linecolor\":\"white\",\"ticks\":\"\",\"title\":{\"standoff\":15},\"zerolinecolor\":\"white\",\"automargin\":true,\"zerolinewidth\":2},\"scene\":{\"xaxis\":{\"backgroundcolor\":\"#E5ECF6\",\"gridcolor\":\"white\",\"linecolor\":\"white\",\"showbackground\":true,\"ticks\":\"\",\"zerolinecolor\":\"white\",\"gridwidth\":2},\"yaxis\":{\"backgroundcolor\":\"#E5ECF6\",\"gridcolor\":\"white\",\"linecolor\":\"white\",\"showbackground\":true,\"ticks\":\"\",\"zerolinecolor\":\"white\",\"gridwidth\":2},\"zaxis\":{\"backgroundcolor\":\"#E5ECF6\",\"gridcolor\":\"white\",\"linecolor\":\"white\",\"showbackground\":true,\"ticks\":\"\",\"zerolinecolor\":\"white\",\"gridwidth\":2}},\"shapedefaults\":{\"line\":{\"color\":\"#2a3f5f\"}},\"annotationdefaults\":{\"arrowcolor\":\"#2a3f5f\",\"arrowhead\":0,\"arrowwidth\":1},\"geo\":{\"bgcolor\":\"white\",\"landcolor\":\"#E5ECF6\",\"subunitcolor\":\"white\",\"showland\":true,\"showlakes\":true,\"lakecolor\":\"white\"},\"title\":{\"x\":0.05},\"mapbox\":{\"style\":\"light\"}}},\"legend\":{\"tracegroupgap\":0},\"title\":{\"text\":\"Jumlah Resign pada Divisi Software Engineer (Back End)\"},\"width\":800,\"height\":800},                        {\"responsive\": true}                    ).then(function(){\n",
       "                            \n",
       "var gd = document.getElementById('78cf4424-8dcf-4506-a53b-58a074a62f74');\n",
       "var x = new MutationObserver(function (mutations, observer) {{\n",
       "        var display = window.getComputedStyle(gd).display;\n",
       "        if (!display || display === 'none') {{\n",
       "            console.log([gd, 'removed!']);\n",
       "            Plotly.purge(gd);\n",
       "            observer.disconnect();\n",
       "        }}\n",
       "}});\n",
       "\n",
       "// Listen for the removal of the full notebook cells\n",
       "var notebookContainer = gd.closest('#notebook-container');\n",
       "if (notebookContainer) {{\n",
       "    x.observe(notebookContainer, {childList: true});\n",
       "}}\n",
       "\n",
       "// Listen for the clearing of the current output cell\n",
       "var outputEl = gd.closest('.output');\n",
       "if (outputEl) {{\n",
       "    x.observe(outputEl, {childList: true});\n",
       "}}\n",
       "\n",
       "                        })                };                });            </script>        </div>"
      ]
     },
     "metadata": {},
     "output_type": "display_data"
    }
   ],
   "source": [
    "fig = px.sunburst(detail_resign2,\n",
    "                  path=['JenjangKarir', 'PerformancePegawai', 'AlasanResign'],\n",
    "                  values='JumlahResign',\n",
    "                  title='Jumlah Resign pada Divisi Software Engineer (Back End)')\n",
    "\n",
    "fig.update_layout(\n",
    "    width=800,\n",
    "    height=800\n",
    ")\n",
    "\n",
    "fig.show()"
   ]
  },
  {
   "cell_type": "markdown",
   "id": "492e4223-7544-4a84-b2df-5a86db822f38",
   "metadata": {},
   "source": [
    "**Kesimpulan:**\n",
    "- Dari divisi Software Engineer (Back End), paling banyak karyawan dari Freshgraduate Program resign dengan alasan masih bekerja.\n",
    "- Sama dengan karyawan Mid Level dan Senior Level juga paling banyak resign karena masih bekerja. <br>\n",
    "\n",
    "**Rekomendasi:**\n",
    "- Lakukan peninjauan beban kerja dan pastikan bahwa karyawan tidak terbebani secara berlebihan. Jika diperlukan, pertimbangkan untuk menambah sumber daya atau membagi pekerjaan dengan lebih merata.\n",
    "- Menawarkan fleksibilitas kerja seperti jam kerja yang fleksibel atau pilihan untuk WFH, agar karyawan bisa menyeimbangkan pekerjaan dan kehidupan pribadi."
   ]
  },
  {
   "cell_type": "code",
   "execution_count": null,
   "id": "20075833-c45f-478b-90c7-e4bb91d4b804",
   "metadata": {},
   "outputs": [],
   "source": []
  }
 ],
 "metadata": {
  "kernelspec": {
   "display_name": "Python 3 (ipykernel)",
   "language": "python",
   "name": "python3"
  },
  "language_info": {
   "codemirror_mode": {
    "name": "ipython",
    "version": 3
   },
   "file_extension": ".py",
   "mimetype": "text/x-python",
   "name": "python",
   "nbconvert_exporter": "python",
   "pygments_lexer": "ipython3",
   "version": "3.11.5"
  }
 },
 "nbformat": 4,
 "nbformat_minor": 5
}
